{
"cells": [
{
"cell_type": "code",
"execution_count": null,
"metadata": {
"deletable": false,
"editable": false
},
"outputs": [],
"source": [
"# Initialize Otter\n",
"import otter\n",
"grader = otter.Notebook(\"HW_5_pinball_classes.ipynb\")"
]
},
{
"cell_type": "markdown",
"metadata": {},
"source": [
"# Pinball Classs \n",
"\n",
"One more class - the pinball class that does the simulation\n",
"\n",
"In this homework you'll take the classes you created in the lecture activity and lab (**PinballWall** and **PinballBumper**) and use them in a class that wraps up the entire simulation (**Pinball**)\n",
"\n",
"The pinball class is in **pinball.py**.\n",
"\n",
"The homework is designed to have you copy your code in one step at a time, checking that it works before doing the next bit.\n",
"\n",
"- Fill in **_compute_next_step**\n",
"- Get **_simulate_pinball** to handle *just* the ball going up and down (no reflections)\n",
"- Make sure plotting works\n",
"- Add in bouncing off of walls\n",
"- Add in bouncing off of bumpers\n",
"- Make a \"fun\" bounce\n",
"\n",
"Slides: https://docs.google.com/presentation/d/1DCSykIMBSlzCNNnmUcxPqfGxJmeGYd-7LF_W_-_7fUU/edit?usp=sharing"
]
},
{
"cell_type": "code",
"execution_count": null,
"metadata": {},
"outputs": [],
"source": [
"# The usual imports\n",
"import numpy as np\n",
"import json as json"
]
},
{
"cell_type": "code",
"execution_count": null,
"metadata": {},
"outputs": [],
"source": [
"# These commands will force JN to actually re-load the external file when you re-execute the import command\n",
"%load_ext autoreload\n",
"%autoreload 2"
]
},
{
"cell_type": "markdown",
"metadata": {
"deletable": false,
"editable": false
},
"source": [
"# Import PinballWall and PinballBumper and make sure they work\n",
"\n",
"TODO import the class definitions and run the test cases for each of those classes"
]
},
{
"cell_type": "code",
"execution_count": null,
"metadata": {
"tags": []
},
"outputs": [],
"source": []
},
{
"cell_type": "code",
"execution_count": null,
"metadata": {
"tags": []
},
"outputs": [],
"source": [
"# Assumes you copied your wall class into lec_act_9_class_pinball_wall.py\n",
"from pinball_wall import PinballWall\n",
"from pinball_bumper import PinballBumper"
]
},
{
"cell_type": "code",
"execution_count": null,
"metadata": {
"tags": []
},
"outputs": [],
"source": [
"# TODO: Create at least one instance of each class and run their test functions to make sure they work\n",
"#. (you're free to create more than one, but at least create one wall and one bumper with the given names)\n",
"\n",
"check_wall_instance = ...\n",
"check_bumper_instance = ...\n",
"\"\"\""
]
},
{
"cell_type": "code",
"execution_count": null,
"metadata": {
"deletable": false,
"editable": false
},
"outputs": [],
"source": [
"grader.check(\"wall_and_bumper\")"
]
},
{
"cell_type": "markdown",
"metadata": {
"deletable": false,
"editable": false
},
"source": [
"# Pinball class\n",
"\n",
"TODO this question: Copy your **compute_next_step** code into the **_compute_next_step** method in **pinball.py*, and check that it works"
]
},
{
"cell_type": "code",
"execution_count": null,
"metadata": {
"tags": []
},
"outputs": [],
"source": [
"# Reminder that you will need to re-run this line when you make changes to the class\n",
"from pinball import Pinball"
]
},
{
"cell_type": "code",
"execution_count": null,
"metadata": {
"tags": []
},
"outputs": [],
"source": [
"# TODO Create the pinball class\n",
"#   Use: left -5.0, right 5.0, height 10.0, delta_t 0.1\n",
"\n",
"pinball = ...\n",
"# END PROMPT\"\"\""
]
},
{
"cell_type": "code",
"execution_count": null,
"metadata": {
"tags": []
},
"outputs": [],
"source": [
"# Check one step with the following start parameters\n",
"starting_state = np.zeros([3, 2])  # meters\n",
"starting_state[0, :] = [0, 0] # Start at zero, zero\n",
"# Velocity - mostly up with a bit of x\n",
"starting_state[1, :] = [-0.25, 5.0]\n",
"# Acceleration is really boring\n",
"starting_state[2, :] = [0.0, Pinball.acceleration_due_to_gravity()]\n",
"\n",
"# TODO: Check first time step works\n",
"first_time_step = ...\n",
"print(f\"Checking first time step {first_time_step}\")\n",
"\"\"\"\n",
"\n",
"# Notice my_pinball.delta_t - this is the delta t that you save and store in the pinball class\n",
"assert(np.all(np.isclose(first_time_step[0, :], starting_state[0, :] + pinball.delta_t * starting_state[1, :])))\n",
"assert(np.all(np.isclose(first_time_step[1, :], starting_state[1, :] + pinball.delta_t * starting_state[2, :])))"
]
},
{
"cell_type": "code",
"execution_count": null,
"metadata": {
"deletable": false,
"editable": false
},
"outputs": [],
"source": [
"grader.check(\"pinball_class_next_step\")"
]
},
{
"cell_type": "markdown",
"metadata": {
"deletable": false,
"editable": false
},
"source": [
"# Simulate pinball method\n",
"\n",
"TODO: Copy your simulate code into the **simulate_pinball** method in the class. For this question, just check that the simulation works without adding walls and bumpers. Adding walls/bumpers will happen in the next question.\n",
"\n",
"Note: The plot code should work"
]
},
{
"cell_type": "code",
"execution_count": null,
"metadata": {
"tags": []
},
"outputs": [],
"source": [
"# Now run a simulation\n",
"#  setup\n",
"starting_state = np.zeros([3, 2])  # location, velocity, acceleration\n",
"starting_state[0, :] = [0, 0] # Start at zero, zero\n",
"# Velocity - mostly up with a bit of x noise\n",
"starting_state[1, :] = [2.4, 8.5]\n",
"starting_state[2, :] = [0.0, pinball.acceleration_due_to_gravity()]\n",
"\n",
"# TODO: Run the simulation\n",
"...\n",
"\n",
"# Check that last pose is below y = 0 line\n",
"print(pinball.simulate_pinball(starting_state)[0][1][-1])"
]
},
{
"cell_type": "code",
"execution_count": null,
"metadata": {
"tags": []
},
"outputs": [],
"source": [
"# ... and plot the results - note that the poses should have been saved in the class, so you don't need to pass them in\n",
"pinball.plot_pinball_hw()"
]
},
{
"cell_type": "code",
"execution_count": null,
"metadata": {
"deletable": false,
"editable": false
},
"outputs": [],
"source": [
"grader.check(\"add_simulation\")"
]
},
{
"cell_type": "markdown",
"metadata": {
"deletable": false,
"editable": false
},
"source": [
"# Add walls to the simulation\n",
"\n",
"Note: Walls are split out from bumpers here to enable partial credit; if you've done your bumpers correctly, the next question should just work.\n",
"\n",
"- step 1: Use the code given in the todo section in **simulate_pinball** to add in looping over all of the obstacles, calling the **collided** method followed by the **reflect** method\n",
"- step 2: Check that calling **simulate_pinball** still works\n",
"- step 3: Add in a wall and make the ball bounce off of the wall\n",
"- step 4: Make sure plotting works\n",
"- step 5: Add in top, left, and right walls, and do the starting condition given (which should bounce off of all 3 walls)"
]
},
{
"cell_type": "code",
"execution_count": null,
"metadata": {
"tags": []
},
"outputs": [],
"source": [
"# TODO Now create and add three walls\n",
"# Required for this question: Side walls at -4.5, 4.5 and top at 9.5\n",
"\n",
"# Remove all the obstacles in order to start \"clean\" when you execute this cell\n",
"pinball.remove_all_obstacles()\n",
"\n",
"# Now create and add each wall instance\n",
"\n",
"# This creates an instance of a wall and adds it to the pinball\n",
"my_wall = PinballWall(\"Vertical\", -4.5)\n",
"pinball.add_obstacle(my_wall)\n",
"# END PROMPT\"\"\""
]
},
{
"cell_type": "code",
"execution_count": null,
"metadata": {
"tags": []
},
"outputs": [],
"source": [
"# Check that simulate still works\n",
"# This velocity should make the ball bounce off of all walls\n",
"starting_state[1, :] = [10.4, 15.5]\n",
"\n",
"..."
]
},
{
"cell_type": "code",
"execution_count": null,
"metadata": {
"tags": []
},
"outputs": [],
"source": [
"# ... and plot the results - this will call the wall draw code, so your walls should show up\n",
"pinball.plot_pinball_hw()"
]
},
{
"cell_type": "code",
"execution_count": null,
"metadata": {
"deletable": false,
"editable": false
},
"outputs": [],
"source": [
"grader.check(\"add_walls\")"
]
},
{
"cell_type": "markdown",
"metadata": {
"deletable": false,
"editable": false
},
"source": [
"# Add bumpers to the simulation\n",
"\n",
"TODO: Add at least one instance of a bumper to the simulation. Set up the starting state so that you hit the bumper. \n",
"\n",
"- Bumper center: 0.5, 5.0\n",
"- Bumper radius: 1.0"
]
},
{
"cell_type": "code",
"execution_count": null,
"metadata": {
"tags": []
},
"outputs": [],
"source": [
"# Remove all the obstacles in order to start \"clean\" when you execute this cell\n",
"pinball.remove_all_obstacles()\n",
"\n",
"# TODO: Use add_obstacle to add at least one bumper\n",
"..."
]
},
{
"cell_type": "code",
"execution_count": null,
"metadata": {
"tags": []
},
"outputs": [],
"source": [
"# TODO Setup starting state, make sure you run into the bumper. Optional: Plot (but it will really help you to debug)\n",
"\n",
"..."
]
},
{
"cell_type": "code",
"execution_count": null,
"metadata": {
"deletable": false,
"editable": false
},
"outputs": [],
"source": [
"grader.check(\"add_bumpers\")"
]
},
{
"cell_type": "markdown",
"metadata": {
"deletable": false,
"editable": false
},
"source": [
"<!-- BEGIN QUESTION -->\n",
"\n",
"# Create an interesting bounce\n",
"\n",
"Set up a few obstacles so that you get multiple bounces. Plot the result."
]
},
{
"cell_type": "code",
"execution_count": null,
"metadata": {
"tags": []
},
"outputs": [],
"source": [
"..."
]
},
{
"cell_type": "markdown",
"metadata": {
"deletable": false,
"editable": false
},
"source": [
"<!-- END QUESTION -->\n",
"\n",
"## Hours and collaborators\n",
"Required for every assignment - fill out before you hand-in.\n",
"\n",
"Listing names and websites helps you to document who you worked with and what internet help you received in the case of any plagiarism issues. You should list names of anyone (in class or not) who has substantially helped you with an assignment - or anyone you have *helped*. You do not need to list TAs.\n",
"\n",
"Listing hours helps us track if the assignments are too long."
]
},
{
"cell_type": "code",
"execution_count": null,
"metadata": {
"tags": []
},
"outputs": [],
"source": [
"\n",
"# List of names (creates a set)\n",
"worked_with_names = {\"not filled out\"}\n",
"# List of URLS (creates a set)\n",
"websites = {\"not filled out\"}\n",
"# Approximate number of hours, including lab/in-class time\n",
"hours = -1.5\n",
"\n",
"# for all row, column in all_indices_from_where\n",
"#.   if this is the column for wrist torque \n",
"#.      print(f\"Row: {r}, Time step: {c // n_time_steps} Successful y/n: {pick_data[r, -1] == 1}, value: {pick_data[r, c]}\")"
]
},
{
"cell_type": "code",
"execution_count": null,
"metadata": {
"deletable": false,
"editable": false
},
"outputs": [],
"source": [
"grader.check(\"hours_collaborators\")"
]
},
{
"cell_type": "markdown",
"metadata": {
"deletable": false,
"editable": false
},
"source": [
"## Submission\n",
"\n",
"Make sure you have run all cells in your notebook in order before running the cell below, so that all images/graphs appear in the output. The cell below will generate a zip file for you to submit. **Please save before exporting!**\n",
"\n",
"Submit through gradescope, hwk 5 class(ic) pinball"
]
},
{
"cell_type": "code",
"execution_count": null,
"metadata": {
"deletable": false,
"editable": false
},
"outputs": [],
"source": [
"# Save your notebook first, then run this cell to export your submission.\n",
"grader.export(run_tests=True)"
]
},
{
"cell_type": "markdown",
"metadata": {},
"source": [
" "
]
}
],
"metadata": {
"kernelspec": {
"display_name": "Python 3",
"language": "python",
"name": "python3"
},
"language_info": {
"codemirror_mode": {
"name": "ipython",
"version": 3
},
"file_extension": ".py",
"mimetype": "text/x-python",
"name": "python",
"nbconvert_exporter": "python",
"pygments_lexer": "ipython3",
"version": "3.7.4"
},
"otter": {
"OK_FORMAT": true,
"tests": {
"add_bumpers": {
"name": "add_bumpers",
"points": 5,
"suites": [
{
"cases": [
{
"code": ">>> assert len(pinball.obstacles) > 0\n",
"hidden": false,
"locked": false
},
{
"code": ">>> assert np.all(pinball.poses[1][0:-1] >= 0.0)\n",
"hidden": false,
"locked": false
},
{
"code": ">>> assert pinball.obstacles[0].collided([0.45, 4.5])\n",
"hidden": false,
"locked": false
},
{
"code": ">>> assert len(pinball.obstacles[0].reflect([0.45, 4.5], [0.5, 0.5])) == 2\n",
"hidden": false,
"locked": false
},
{
"code": ">>> assert not pinball.obstacles[0].collided(pinball.obstacles[0].reflect([0.45, 4.5], [0.5, 0.5])[0])\n",
"hidden": false,
"locked": false
}
],
"scored": true,
"setup": "",
"teardown": "",
"type": "doctest"
}
]
},
"add_simulation": {
"name": "add_simulation",
"points": 5,
"suites": [
{
"cases": [
{
"code": ">>> assert len(pinball.simulate_pinball(starting_state)) == 2\n",
"hidden": false,
"locked": false
},
{
"code": ">>> assert pinball.poses.shape[1] > 2\n",
"hidden": false,
"locked": false
},
{
"code": ">>> assert pinball.velocities.shape[1] > 2\n",
"hidden": false,
"locked": false
},
{
"code": ">>> assert pinball.poses[1][-1] <= 0.0\n",
"hidden": false,
"locked": false
},
{
"code": ">>> assert np.all(pinball.poses[1][0:-1] >= 0.0)\n",
"hidden": false,
"locked": false
}
],
"scored": true,
"setup": "",
"teardown": "",
"type": "doctest"
}
]
},
"add_walls": {
"name": "add_walls",
"points": 5,
"suites": [
{
"cases": [
{
"code": ">>> assert len(pinball.obstacles) == 3\n",
"hidden": false,
"locked": false
},
{
"code": ">>> assert np.all(pinball.poses[1][0:-1] >= 0.0)\n",
"hidden": false,
"locked": false
},
{
"code": ">>> assert pinball.poses[1][-1] <= 0.0\n",
"hidden": false,
"locked": false
},
{
"code": ">>> assert np.all(pinball.poses[1][:] <= 9.75)\n",
"hidden": false,
"locked": false
},
{
"code": ">>> assert np.all(pinball.poses[0][:] >= -4.75)\n",
"hidden": false,
"locked": false
},
{
"code": ">>> assert np.all(pinball.poses[0][:] <= 4.75)\n",
"hidden": false,
"locked": false
}
],
"scored": true,
"setup": "",
"teardown": "",
"type": "doctest"
}
]
},
"hours_collaborators": {
"name": "hours_collaborators",
"points": 1,
"suites": [
{
"cases": [
{
"code": ">>> assert not 'not filled out' in worked_with_names\n",
"hidden": false,
"locked": false
},
{
"code": ">>> assert not 'not filled out' in websites\n",
"hidden": false,
"locked": false
},
{
"code": ">>> assert hours > 0\n",
"hidden": false,
"locked": false
}
],
"scored": true,
"setup": "",
"teardown": "",
"type": "doctest"
}
]
},
"pinball_class_next_step": {
"name": "pinball_class_next_step",
"points": 5,
"suites": [
{
"cases": [
{
"code": ">>> assert np.all(np.isclose(first_time_step[0, :], starting_state[0, :] + pinball.delta_t * starting_state[1, :]))\n",
"hidden": false,
"locked": false
},
{
"code": ">>> assert np.all(np.isclose(first_time_step[1, :], starting_state[1, :] + pinball.delta_t * starting_state[2, :]))\n",
"hidden": false,
"locked": false
}
],
"scored": true,
"setup": "",
"teardown": "",
"type": "doctest"
}
]
},
"wall_and_bumper": {
"name": "wall_and_bumper",
"points": 5,
"suites": [
{
"cases": [
{
"code": ">>> assert check_wall_instance.inside([0.0, 0.0])\n",
"hidden": false,
"locked": false
},
{
"code": ">>> assert not check_bumper_instance.inside([-100, -100])\n",
"hidden": false,
"locked": false
}
],
"scored": true,
"setup": "",
"teardown": "",
"type": "doctest"
}
]
}
}
}
},
"nbformat": 4,
"nbformat_minor": 2
}