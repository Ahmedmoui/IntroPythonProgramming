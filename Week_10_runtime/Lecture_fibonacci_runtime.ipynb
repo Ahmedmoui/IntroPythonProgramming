{
 "cells": [
  {
   "cell_type": "markdown",
   "metadata": {},
   "source": [
    "# Useful Python tools for improving runtime\n",
    "\n",
    "This script illustrates the following concepts:\n",
    "- Caching - how to save calculations in a variable to speed up computation\n",
    "- Timing comparisons - how to use **time()** to figure out how long a computation took\n",
    "- Try-except to catch parameter errors and to determine if the caching variables exist\n",
    "- Associating attributes (variables) with functions - using default function attributes, like __name__\n",
    "\n",
    "Four versions: Caching y/n and instrumented for timing y/n\n",
    "\n",
    "Note: For the lecture activity we'll create a cached, instrumented version in a class, which is the cleaner way to do this."
   ]
  },
  {
   "cell_type": "markdown",
   "metadata": {},
   "source": [
    "## Fibonacci sequence (basic)\n",
    "\n",
    "This function outputs the **n**th value of a Fibonacci sequence."
   ]
  },
  {
   "cell_type": "code",
   "execution_count": null,
   "metadata": {},
   "outputs": [],
   "source": [
    "def fib_basic(n):\n",
    "    \"\"\"\n",
    "    Simple Fibonacci function, defined recursively.\n",
    "    :param n: A non-negative integer.\n",
    "    :return: The Fibonacci number for n.\n",
    "    \"\"\"\n",
    "\n",
    "    # Check to make sure the argument is valid.\n",
    "    if n < 0:\n",
    "        raise ValueError('Argument must be non-negative')\n",
    "\n",
    "    # If n is 0 or 1, just return the Fibonacci number.  Otherwise return the sum of the previous two\n",
    "    # Fibonacci numbers.\n",
    "    if n < 2:\n",
    "        return n\n",
    "    else:\n",
    "        return fib_basic(n - 1) + fib_basic(n - 2)"
   ]
  },
  {
   "cell_type": "markdown",
   "metadata": {},
   "source": [
    "Functions are, themselves, dictionaries. Just like classes, the have a bunch of pre-defined variables. This is one useful one - you can ask the function for it's name. We'll see why this is useful later."
   ]
  },
  {
   "cell_type": "code",
   "execution_count": null,
   "metadata": {},
   "outputs": [],
   "source": [
    "print(f'Function name is: {fib_basic.__name__}()')  # .__name_ is defined on every function"
   ]
  },
  {
   "cell_type": "markdown",
   "metadata": {},
   "source": [
    "### Testing\n",
    "\n",
    "This is a hard-coded set of correct answers to test against. We'll write a bit of text code using this. \n",
    "\n",
    "TODO: Try changing **fib_basic** so it is incorrect, and see if the following tests catch that."
   ]
  },
  {
   "cell_type": "code",
   "execution_count": null,
   "metadata": {},
   "outputs": [],
   "source": [
    "fib_tests = {0: 0, 1: 1, 2: 1, 3: 2, 4: 3, 5: 5, 6: 8, 7: 13}"
   ]
  },
  {
   "cell_type": "code",
   "execution_count": null,
   "metadata": {},
   "outputs": [],
   "source": [
    "# Since fib_tests is a dictionary, and we want both the key and the value, we use the .items() iteration method\n",
    "b_tests_ok = True\n",
    "for number, value in fib_tests.items():\n",
    "    # Call the function and compare it to the test value - != is safe because this is an integer\n",
    "    if fib_basic(number) != value:\n",
    "        b_tests_ok = False\n",
    "        print(f'  failed for {number}: expected {value}, got {fib_basic(number)}'.format(number, value, func(number)))\n",
    "if b_tests_ok:\n",
    "    print('Passed the tests!')"
   ]
  },
  {
   "cell_type": "markdown",
   "metadata": {},
   "source": [
    "**try-except** is a handy version of an if-else that, unlike an if-else, will not bring your program to a crashing halt when something goes wrong. In essense, do the bit of code under the **try**, and if it doesn't generate any errors, skip the **except** part. If it does generate the error given in the **except** (leave blank to catch any error) then do the code under the **except** instead. "
   ]
  },
  {
   "cell_type": "code",
   "execution_count": null,
   "metadata": {},
   "outputs": [],
   "source": [
    "# Make sure we catch the invalid cases.\n",
    "try:\n",
    "    fib_basic(-1)\n",
    "    print('  failed for negative value')\n",
    "except ValueError:\n",
    "    # This is the error the functions should throw if given a -1 - so it\n",
    "    #   passed the test, don't do anything\n",
    "    print('Correctly generated a ValueError when called with -1')\n",
    "    pass"
   ]
  },
  {
   "cell_type": "markdown",
   "metadata": {},
   "source": [
    "## Caching\n",
    "\n",
    "The function **fib_basic** recalculates everything, all the time. It's not as if the value for 3 is going to change; can't we just \"save\" it? The answer is - yes. This is called *caching*. Caching can be implemented in a lot of ways, but one of the simplest is a dictionary. \n",
    "\n",
    "But... how do you keep a dictionary that persists over time? All the variables inside of **fib_basic** just... disappear when you exit the function.\n",
    "\n",
    "Ok, so you could use a global variable or a variable in the script but... global variables are Dangerous. And we've worked so hard to get rid of them... and you don't want to create a variable name that might get re-used somewhere else.\n",
    "\n",
    "This is a bit of a wonky Python thing, but remember that Python functions are just dictionaries. So we can create another entry in the function dictionary that keeps the \"cached\" data. We have to do two things to make this work:\n",
    "\n",
    "- Use the . notation to create the variable name, just like we did with self.\n",
    "- Actually create an instance of that variable (remember that functions are just read in code, not executed)\n",
    "\n",
    "This looks like this:"
   ]
  },
  {
   "cell_type": "code",
   "execution_count": null,
   "metadata": {},
   "outputs": [],
   "source": [
    "def fib_cached(n):\n",
    "    \"\"\"\n",
    "    Adding caching to fib_basic\n",
    "    :param n: The Fibonacci number to calculate.\n",
    "    :return: The Fibonacci number\n",
    "    \"\"\"\n",
    "\n",
    "    # Make sure the inputs are valid - this stays the same\n",
    "    if n < 0:\n",
    "        raise ValueError('Argument must be non-negative')\n",
    "\n",
    "    # Try to return the value from the cache.\n",
    "    try:\n",
    "        # Here we hope that the variable cache exists already, and it has the key n\n",
    "        print(f'Seeing if value for {n} is in cache ...')\n",
    "        return fib_cached.cache[n]\n",
    "    except AttributeError:\n",
    "        # If you get an Attribute error, that means the variable cache does not exist - so create it\n",
    "        #.  - and fill it in with the two base case values, 0 and 1\n",
    "        # Normally I wouldn't put a print statement here - this is just to show you what happens in what order\n",
    "        print('Creating cache')\n",
    "        fib_cached.cache = {0: 0, 1: 1}\n",
    "        # Call self again, but will not end up here again\n",
    "        return fib_cached(n)\n",
    "    except KeyError:\n",
    "        # The cache exists, but it doesn't have n in it. So calculate the nth value using recursion\n",
    "        retval = fib_cached(n - 1) + fib_cached(n - 2)\n",
    "\n",
    "        # Add it to the cache\n",
    "        print(f'Setting value {n} in cache ...')\n",
    "        fib_cached.cache[n] = retval\n",
    "\n",
    "        # Return the value.\n",
    "        return retval"
   ]
  },
  {
   "cell_type": "markdown",
   "metadata": {},
   "source": [
    "Here's where we actually create the variable cache (and initialize it with our base cases, 0 and 1)\n",
    "\n",
    "TODO: Using the print statements, see if you can figure out which try-except branch you ended up in (and how many times)"
   ]
  },
  {
   "cell_type": "code",
   "execution_count": null,
   "metadata": {},
   "outputs": [],
   "source": [
    "# Try a few values\n",
    "print(f'Checking 1, returns: {fib_cached(1)}')"
   ]
  },
  {
   "cell_type": "code",
   "execution_count": null,
   "metadata": {},
   "outputs": [],
   "source": [
    "# TODO: Try a few values (and the same value twice) to see how it differs\n",
    "print(f'Checking 3, returns: {fib_cached(3)}')"
   ]
  },
  {
   "cell_type": "markdown",
   "metadata": {},
   "source": [
    "## Instrumenting for number of calls\n",
    "\n",
    "Let's use the same variable on a function trick to count how many times the function is called"
   ]
  },
  {
   "cell_type": "code",
   "execution_count": null,
   "metadata": {},
   "outputs": [],
   "source": [
    "def fib_instrumented(n):\n",
    "    \"\"\"\n",
    "    Simple Fibonacci function, defined recursively, instrumented to count calls.\n",
    "    :param n: A non-negative integer.\n",
    "    :return: The Fibonacci number for n.\n",
    "    \"\"\"\n",
    "\n",
    "    # Increment the call count\n",
    "    #   We're going to use the same try-except to initialize this variable\n",
    "    try:\n",
    "        fib_instrumented.call_count += 1\n",
    "    except AttributeError:\n",
    "        fib_instrumented.call_count = 1\n",
    "\n",
    "    # Check to make sure the argument is valid.\n",
    "    if n < 0:\n",
    "        raise ValueError('Argument must be non-negative')\n",
    "\n",
    "    # If n is 0 or 1, just return the Fibonacci number.  Otherwise return the sum of the previous two\n",
    "    # Fibonacci numbers.\n",
    "    if n < 2:\n",
    "        return n\n",
    "    else:\n",
    "        return fib_instrumented(n - 1) + fib_instrumented(n - 2)\n"
   ]
  },
  {
   "cell_type": "markdown",
   "metadata": {},
   "source": [
    "The following line will generate an error until you actually call the function at least once - this is because the **except** code in the try except isn't actually executed when you execute the previous cell\n",
    "\n",
    "TODO: Try this line, then the next, and then come back and try this one"
   ]
  },
  {
   "cell_type": "code",
   "execution_count": null,
   "metadata": {},
   "outputs": [],
   "source": [
    "print(f'Number of times fib_instrumented has been called: {fib_instrumented.call_count}')"
   ]
  },
  {
   "cell_type": "code",
   "execution_count": null,
   "metadata": {},
   "outputs": [],
   "source": [
    "# TODO Try a few values, then go back and execute the previous line again. Do this again...\n",
    "print(f'Checking 3 {fib_instrumented(3)}')"
   ]
  },
  {
   "cell_type": "markdown",
   "metadata": {},
   "source": [
    "## One more time - putting them both together\n",
    "\n",
    "This just puts both of the previous versions (cache and instrumented) together in one function"
   ]
  },
  {
   "cell_type": "code",
   "execution_count": null,
   "metadata": {},
   "outputs": [],
   "source": [
    "def fib_cached_instrumented(n):\n",
    "    \"\"\"\n",
    "    This Fibonacci function uses caching to speed things up.\n",
    "    It's also instrumented, to show how many function calls are taken\n",
    "    :param n:\n",
    "    :return:\n",
    "    \"\"\"\n",
    "    # Increment the call count - see fib_instrumented for explanation\n",
    "    try:\n",
    "        fib_cached_instrumented.call_count += 1\n",
    "    except AttributeError:\n",
    "        fib_cached_instrumented.call_count = 1\n",
    "\n",
    "    # Check to make sure the argument is valid.\n",
    "    if n < 0:\n",
    "        raise ValueError('Argument must be non-negative')\n",
    "\n",
    "    # Try to return a number from the cache.  If that fails, then we have to calculate it (recursively) from scratch,\n",
    "    # add it to the cache, and then return it.\n",
    "    try:\n",
    "        return fib_cached_instrumented.cache[n]  # Again, this is a variable defined on the function\n",
    "    except AttributeError:\n",
    "        fib_cached_instrumented.cache = {0: 0, 1: 1}\n",
    "        # Call self again, but will not end up here again\n",
    "        return fib_cached_instrumented(n)\n",
    "    except KeyError:\n",
    "        # Calculate the value recursively\n",
    "        retval = fib_cached_instrumented(n - 1) + fib_cached_instrumented(n - 2)\n",
    "\n",
    "        # Store it in the cache\n",
    "        fib_cached_instrumented.cache[n] = retval\n",
    "\n",
    "        # And, finally, return it\n",
    "        return retval"
   ]
  },
  {
   "cell_type": "code",
   "execution_count": null,
   "metadata": {},
   "outputs": [],
   "source": [
    "# TODO Try a few values, then execute the next line. Then repeat...\n",
    "print(f'Checking 3 {fib_cached_instrumented(3)}')"
   ]
  },
  {
   "cell_type": "code",
   "execution_count": null,
   "metadata": {},
   "outputs": [],
   "source": [
    "print(f'Number of times fib_cached_instrumented has been called: {fib_cached_instrumented.call_count}')"
   ]
  },
  {
   "cell_type": "markdown",
   "metadata": {},
   "source": [
    "# Cool trick - treating functions as objects\n",
    "\n",
    "In Python functions are just... more objects. So the following works"
   ]
  },
  {
   "cell_type": "code",
   "execution_count": null,
   "metadata": {},
   "outputs": [],
   "source": [
    "#   This is an array of the functions we're going to test\n",
    "#     Notice we're not calling the functions (no ()) - we're just putting the\n",
    "#     function variables in the list\n",
    "functions = [fib_basic, fib_cached, fib_instrumented, fib_cached_instrumented]\n",
    "\n",
    "# Test each of the functions on all of the test cases.\n",
    "for func in functions:  # Yes, this works - func is one of the fib_* functions\n",
    "    print('{0}():'.format(func.__name__))  # .__name__ is defined on every function\n",
    "\n",
    "    # Since fib_tests is a dictionary, and we want both the key and\n",
    "    #  the value, we use the .items() iteration method\n",
    "    for number, value in fib_tests.items():\n",
    "        # Call the function and compare it to the test value\n",
    "        if func(number) != value:\n",
    "            print('  failed for {0}: expected {1}, got {2}'.format(number, value, func(number)))\n",
    "\n",
    "    # Make sure we catch the invalid cases.\n",
    "    try:\n",
    "        func(-1)\n",
    "        print('  failed for negative value')\n",
    "    except ValueError:\n",
    "        # This is the error the functions should throw if given a -1 - so it\n",
    "        #   passed the test, don't do anything\n",
    "        pass\n",
    "\n",
    "    print('  tests complete')"
   ]
  },
  {
   "cell_type": "markdown",
   "metadata": {},
   "source": [
    "# Runtime\n",
    "\n",
    "So why do we wan't caching? This is a quick example of why. But first we'll do something we've done before - pass a function into a function. In this function we're going to add a bit of code before and after calling the function. What this code does:\n",
    "\n",
    "- Sets the call_count to be 0 - notice that this works for *any* function because it will create the **call_count** variable on the function\n",
    "- Check the wall clock time before and after calling the function"
   ]
  },
  {
   "cell_type": "code",
   "execution_count": null,
   "metadata": {},
   "outputs": [],
   "source": [
    "def time_fib(f, n):\n",
    "    \"\"\"\n",
    "    A wrapper function to time the execution of a Fibonacci function.\n",
    "    :param f: The function to time.\n",
    "    :param n: The Fibonacci number to evaluate.\n",
    "    :return: The Fibonacci number.\n",
    "    \"\"\"\n",
    "    # You can put the import here - it will only happen if time_fib is called\n",
    "    from time import time\n",
    "\n",
    "    # Reset the call count\n",
    "    #   For the functions that *don't* have instrumentation, this will\n",
    "    #    create that variable\n",
    "    f.call_count = 0\n",
    "\n",
    "    # Time a call to the Fibonacci function\n",
    "    start_time = time()\n",
    "    f(n)\n",
    "    stop_time = time()\n",
    "\n",
    "    # Return the time and the call count.\n",
    "    return stop_time - start_time, f.call_count"
   ]
  },
  {
   "cell_type": "code",
   "execution_count": null,
   "metadata": {},
   "outputs": [],
   "source": [
    "# Do some timing tests to see how long things take.  We're going to look at wall clock time and also\n",
    "# at the number of calls we make to the fib() function.  To do that, we're going to make a new version\n",
    "# of the function that's instrumented to count the number of calls, which we will call fib2().\n",
    "N = 15   # test on 1 to 15\n",
    "times, counts = zip(*(time_fib(fib_instrumented, n) for n in range(N)))\n",
    "cached_times, cached_counts = zip(*(time_fib(fib_cached_instrumented, n) for n in range(N)))"
   ]
  },
  {
   "cell_type": "markdown",
   "metadata": {},
   "source": [
    "## Plot!!"
   ]
  },
  {
   "cell_type": "code",
   "execution_count": null,
   "metadata": {},
   "outputs": [],
   "source": [
    "# You can put the imports here\n",
    "import matplotlib.pyplot as plt\n",
    "\n",
    "# Let's plot the times and the call counts\n",
    "fig, (ax1, ax2) = plt.subplots(2, 1, sharex=True)\n",
    "\n",
    "ax1.set_title('Fibonacci performance')\n",
    "\n",
    "# Plot the times\n",
    "time_plot, = ax1.plot(times)\n",
    "cached_time_plot, = ax1.plot(cached_times)\n",
    "ax1.set_ylabel('time (seconds)')\n",
    "ax1.legend([time_plot, cached_time_plot], ['Basic', 'Cached'])\n",
    "\n",
    "# Plot the call counts\n",
    "call_plot, = ax2.plot(counts)\n",
    "cached_call_plot, = ax2.plot(cached_counts)\n",
    "ax2.set_xlabel('n')\n",
    "ax2.set_ylabel('function calls')\n",
    "ax2.legend([call_plot, cached_call_plot], ['Basic', 'Cached'])\n",
    "\n",
    "# Display the graphs.\n",
    "plt.show()"
   ]
  },
  {
   "cell_type": "markdown",
   "metadata": {},
   "source": [
    "What to take away from this...\n",
    "\n",
    "- Computation time is a function of how many calls you make.\n",
    "- Computation time does not increase *linearly* with the number **n**, but in a nasty upward looking curve (this is actually an exponential)\n",
    "- Caching can be a big win if you're doing the same thing over and over again\n"
   ]
  },
  {
   "cell_type": "code",
   "execution_count": null,
   "metadata": {},
   "outputs": [],
   "source": []
  }
 ],
 "metadata": {
  "kernelspec": {
   "display_name": "Python 3",
   "language": "python",
   "name": "python3"
  },
  "language_info": {
   "codemirror_mode": {
    "name": "ipython",
    "version": 3
   },
   "file_extension": ".py",
   "mimetype": "text/x-python",
   "name": "python",
   "nbconvert_exporter": "python",
   "pygments_lexer": "ipython3",
   "version": "3.7.3"
  }
 },
 "nbformat": 4,
 "nbformat_minor": 2
}
