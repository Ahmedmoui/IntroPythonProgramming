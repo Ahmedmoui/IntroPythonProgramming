{
 "cells": [
  {
   "cell_type": "code",
   "execution_count": null,
   "metadata": {
    "deletable": false,
    "editable": false
   },
   "outputs": [],
   "source": [
    "# Initialize Otter\n",
    "import otter\n",
    "grader = otter.Notebook(\"HW_1_data_numpy.ipynb\")"
   ]
  },
  {
   "cell_type": "markdown",
   "metadata": {},
   "source": [
    "# HW 1: Statistical analysis of data using numpy and matplotlib\n",
    "\n",
    "Resources: Lecture slides describing the homework: https://docs.google.com/presentation/d/1ef0msC9XIT37_Yg94Cf4TL9VBgbIIfkKik8jgshskjE/edit?usp=sharing\n",
    "\n",
    "Please do lab 1 before starting this homework, and do lab 2 before tackling problem 4 on (the plotting part).\n",
    "\n",
    "In this homework the focus is on code *design*. Most of the functionality of the code will be what you did in the labs. I don't expect you to do the code design; I've provided that. Just pay attention to how a couple of tools (functions, dictionaries) can make your code a little more re-usable, cleaner, and less prone to error. \n",
    "\n",
    "Learning to *read* code is also as important as *writing* code. This is (hopefully) a gentle introduction to using/interacting with more advanced concepts/syntax/semantics. \n",
    "\n",
    "Where you're going with Problems 1, 2, and 3: Take a look in the **Data** directory at the **week_1_check_results.json** file. This is what your code should produce after those problems. "
   ]
  },
  {
   "cell_type": "markdown",
   "metadata": {},
   "source": [
    "## Week 1, problem 1: Setting up libraries and reading in data\n",
    "Import the libraries that you will need (numpy, json, matplotlib for week 2) and read in the data you will need."
   ]
  },
  {
   "cell_type": "markdown",
   "metadata": {},
   "source": [
    "_Type your answer here, replacing this text._"
   ]
  },
  {
   "cell_type": "code",
   "execution_count": null,
   "metadata": {
    "tags": []
   },
   "outputs": [],
   "source": [
    "# Libraries that we need to import - numpy and json (for loading the description file)\n",
    "\n",
    "# Need this for autograding to work\n",
    "import otter\n",
    "grader = otter.Notebook()\n",
    "\n",
    "\n",
    "# TODO: put the numpy and json imports here so you can use those libraries (see the top of Lab 1 & 2)"
   ]
  },
  {
   "cell_type": "code",
   "execution_count": null,
   "metadata": {
    "tags": []
   },
   "outputs": [],
   "source": [
    "pick_data = ...\n",
    "# Code to read in pick_data_description\n",
    "pick_data_description = ...\n",
    "# Code to get data_channels out of pick_data_description\n",
    "data_channels = ..."
   ]
  },
  {
   "cell_type": "code",
   "execution_count": null,
   "metadata": {
    "tags": []
   },
   "outputs": [],
   "source": [
    "pick_data_description[\"n_total_dims\"] = ...\n",
    "pick_data_description[\"n_time_steps\"] = ..."
   ]
  },
  {
   "cell_type": "code",
   "execution_count": null,
   "metadata": {
    "deletable": false,
    "editable": false
   },
   "outputs": [],
   "source": [
    "grader.check(\"initialize_data\")"
   ]
  },
  {
   "cell_type": "markdown",
   "metadata": {},
   "source": [
    "##  Week 1: Problem 2: Print stats for each sensor channel\n",
    "\n",
    "This is almost entirely copying your code from lab 1 into a new structure that makes it easier to generalize your code. I've provided the structure, and broken the process up into 3 steps.\n",
    "\n",
    "- Generalization 1: Put the code that calculates the statistics into a function\n",
    "- Generalization 2: Store the results in a dictionary so it's labeled and you don't have to worry about variable name re-use\n",
    "\n",
    "Note: You should not use **pick_data** and **pick_data_description** *inside* your function. They are passed in as variables to the function.\n",
    "\n",
    "I've set this up so that you can write the function, then check it, then incrementally add in the **for** loops. You're free to jump straight to step 3 if you want, but if it doesn't work, please go through steps 1 and 2 before asking the TA for help."
   ]
  },
  {
   "cell_type": "markdown",
   "metadata": {},
   "source": [
    "_Type your answer here, replacing this text._"
   ]
  },
  {
   "cell_type": "code",
   "execution_count": null,
   "metadata": {
    "tags": []
   },
   "outputs": [],
   "source": [
    "def get_stats_for_channel(data, channel_info, xyz_dim, n_total_dims):\n",
    "    \"\"\" Get the min, max, mean, sd for the given channel\n",
    "    @param data - the numpy array from the csv file (pick_data)\n",
    "    @param channel_info - a dictionary with the channel info, which has in it the name, index_offset, and dimensions\n",
    "    @param xyz_dim - 0, 1, or 2 for x, y, z\n",
    "    @param n_total_dims - total number of columns per one time step\n",
    "    @returns - A dictionary with the statistics values \"\"\"\n",
    "\n",
    "    # This is index_wrist_torque_offset from lab 1 - the start index from the dictionary plus the dimension (xyz_dim)\n",
    "    # Do the same thing you did in lab 1 (get the index_offset from channel_info) then add in the x,y,z offset\n",
    "    index_offset = ... \n",
    "    \n",
    "    # The np.min(data[:, start:end:stop]) code from lab replaces the 0 \n",
    "    ret_stats = {\"Min\": 0,\n",
    "                 \"Max\": 0,\n",
    "                 \"Mean\": 0,\n",
    "                 \"SD\": 0}\n",
    "    return ret_stats\n"
   ]
  },
  {
   "cell_type": "code",
   "execution_count": null,
   "metadata": {
    "tags": []
   },
   "outputs": [],
   "source": [
    "ret_stats = get_stats_for_channel(pick_data, data_channels[0], 0, pick_data_description[\"n_total_dims\"])\n",
    "print(ret_stats)"
   ]
  },
  {
   "cell_type": "code",
   "execution_count": null,
   "metadata": {
    "tags": []
   },
   "outputs": [],
   "source": [
    "\n",
    "#. for each item in data channels\n",
    "#.    Print the channel name\n",
    "#.    Get the stats m_stats = get_...\n",
    "#     print(f\"  minimum: {my_stats['Min']}, maximum: {my_stats['Max']}, mean: {my_stats['Mean']}, SD: {my_stats['SD']}\")"
   ]
  },
  {
   "cell_type": "code",
   "execution_count": null,
   "metadata": {
    "tags": []
   },
   "outputs": [],
   "source": [
    "# Cute trick to map 0-2 to letters\n",
    "map_to_xyz = ['x', 'y', 'z']\n",
    "\n",
    "#. for each item in data channels\n",
    "#.    Print the channel name\n",
    "#.    Create an empty list d[\"stats\"] = [] \n",
    "#.    for each dimension in channel\n",
    "#.       Get the stats m_stats = get_...\n",
    "#.       ... and store them in d[\"stats\"]\n",
    "#        print(f\"  minimum: {my_stats['Min']}, maximum: {my_stats['Max']}, mean: {my_stats['Mean']}, SD: {my_stats['SD']}\")"
   ]
  },
  {
   "cell_type": "code",
   "execution_count": null,
   "metadata": {
    "tags": []
   },
   "outputs": [],
   "source": [
    "\n",
    "with open('Data/week1_student_results.json', 'w') as f:\n",
    "    json.dump(pick_data_description, f, indent=4)\n",
    "\n"
   ]
  },
  {
   "cell_type": "code",
   "execution_count": null,
   "metadata": {
    "tags": []
   },
   "outputs": [],
   "source": [
    "# Putting this here so you can use it to check your answers\n",
    "def compare_files():\n",
    "    with open(\"Data/week1_student_results.json\", \"r\") as fp:\n",
    "        student = json.load(fp)\n",
    "    with open(\"Data/week1_check_results.json\", \"r\") as fp:\n",
    "        check = json.load(fp)\n",
    "\n",
    "    for k, v in check.items():\n",
    "        try:\n",
    "            if k == \"Data channels\":\n",
    "                # The data channels list\n",
    "                for i, d in enumerate(student[k]):\n",
    "                    if not d == v[i]:\n",
    "                        print(f\"miss-match {d} {v[i]}\")\n",
    "                        return False\n",
    "            else:\n",
    "                if not v == student[k]:\n",
    "                    print(f\"Miss-match key-item {k} {v} {student[k]}\")\n",
    "                    return False\n",
    "        except KeyError:\n",
    "            print(f\"Missing key {k}\")\n",
    "            return False\n",
    "    return True"
   ]
  },
  {
   "cell_type": "code",
   "execution_count": null,
   "metadata": {
    "deletable": false,
    "editable": false
   },
   "outputs": [],
   "source": [
    "grader.check(\"calc_stats_in_function\")"
   ]
  },
  {
   "cell_type": "markdown",
   "metadata": {},
   "source": [
    "## Week 1: Problem 3: Max peak per channel\n",
    "\n",
    "Find the row(s) with the maximum peak in the Wrist torque Z channel\n",
    "\n",
    "This is the optional problem from lab 1.\n",
    "\n",
    "Notes for problem 3\n",
    " - No for loops - do this with np.where.\n",
    " - We should be able to change channel_to_search to a different text string and it still works.\n",
    " - i.e., no \"hard-wiring\" the channel name/index\n",
    "\n",
    "Optional: Do this for all channels and dimensions\n",
    "\n",
    "Recommended order of implementation for the optional version (see lab 1 for the non-optional version):\n",
    " - Write the code for one channel, make sure it works\n",
    " - Create a function just like the one above (it will take the same input parameters)\n",
    " --    The return value will be different - I suggest a list of tuples with [(r, c), (r, c)]\n",
    " -  Copy your code for one channel into the function, and change it to take in the function's input parameters\n",
    " - For the output, I suggest making an empty list, and then, in the for loop, append all valid r,c pairs onto the list. Return the list.\n",
    " - Copy your for loop from above (that goes over all channels, all dimensions) and replace the function call with the new one."
   ]
  },
  {
   "cell_type": "code",
   "execution_count": null,
   "metadata": {
    "tags": []
   },
   "outputs": [],
   "source": [
    "\n",
    "# This should be of the form (r,c)\n",
    "row_max_wrist_torque_z = ..."
   ]
  },
  {
   "cell_type": "code",
   "execution_count": null,
   "metadata": {
    "deletable": false,
    "editable": false
   },
   "outputs": [],
   "source": [
    "grader.check(\"channel_index\")"
   ]
  },
  {
   "cell_type": "markdown",
   "metadata": {},
   "source": [
    "<!-- BEGIN QUESTION -->\n",
    "\n",
    "## Week 2: Problem 1a: Plot wrist force/torque for two rows\n",
    "\n",
    "Plot the wrist force/torque data for the first and second row. The plots should have in them:\n",
    " - Left-hand-side: The wrist force (x,y,z), with horizontal lines for the minimum and maximum z force values\n",
    " - Title should include which pick/row this is, and if it is successful or not\n",
    " - Right-hand-side: THe wrist torque (x,y,z), with horizontal lines for the minimum and maximum z force values\n",
    " - Title should include which pick/row this is, and if it is successful or not\n",
    " \n",
    " - Top row: row 0\n",
    " - Bottom row: row 1\n",
    " - See https://docs.google.com/presentation/d/1ef0msC9XIT37_Yg94Cf4TL9VBgbIIfkKik8jgshskjE/edit?usp=sharing for what this should look like\n"
   ]
  },
  {
   "cell_type": "markdown",
   "metadata": {},
   "source": [
    "I'm going to give you a function definition for the plot. There are a lot of ways you could do this; I chose this one for two reasons:\n",
    "- It \"makes sense\" that the input should be x and y values, along with information on how to label the plot\n",
    "- It's a look-ahead to problem 2, where we will re-factor the data into something a little more manageable\n",
    "\n",
    "Some observations\n",
    "-  This pushes the data slicing out of this function and into the calling one\n",
    "-  Your choice on how you pass the last parameter\n",
    "-  The function parameters also act as \"documentation\" for the data slicing/extracting the pick channel\n",
    "\n",
    "For this problem you can assume that the y values are 3xn (x, y, z)\n",
    "-  Optional: handle the case when it's just 1 dimensional data\n",
    "\n",
    "To create the horizontal lines, do a plot with (t0, tlast), (max, max) OR use axhline\n",
    "Don't forget to import matplotlib"
   ]
  },
  {
   "cell_type": "markdown",
   "metadata": {},
   "source": [
    "_Type your answer here, replacing this text._"
   ]
  },
  {
   "cell_type": "code",
   "execution_count": null,
   "metadata": {
    "tags": []
   },
   "outputs": [],
   "source": [
    "def plot_channel_row(axs, ts, ys, channel_info, which_row, pick_successful_yn):\n",
    "    \"\"\" Plot a specific channel, all dimensions\n",
    "    @param axs - the axes of the plot to use\n",
    "    @param ts - t values of the data [1 x n time steps]\n",
    "    @param ys - y values of the data [3 x n time steps] OR [1 x n time steps] (supporting the OR is optional)\n",
    "    @param channel_info - the channel info from your week1_student_results.json file (which has the min and max)\n",
    "    @param which_row - which row this is\n",
    "    @param pick_successful_yn - was this a successful pick, y/n?\"\"\"\n",
    "\n",
    "\n",
    "    # Example plot command\n",
    "    axs.plot(ts, ys[0], label=\"x\")\n"
   ]
  },
  {
   "cell_type": "code",
   "execution_count": null,
   "metadata": {
    "tags": []
   },
   "outputs": [],
   "source": [
    "\n",
    "n_rows = 2\n",
    "n_cols = 2\n",
    "fig, axs = plt.subplots(n_rows, n_cols)\n",
    "\n",
    "# Extract data and call plot_channel_row"
   ]
  },
  {
   "cell_type": "markdown",
   "metadata": {},
   "source": [
    "<!-- END QUESTION -->\n",
    "\n",
    "## Wee, 2: Problem 1b: Plot Wrist force/torque for min/max wrist torque z\n",
    "\n",
    "Find the row that has the maximum (minimum) wrist torqu z value. Plot the minimum one in the top row, the maximum\n",
    "one in the bottom row\n",
    "\n",
    "Your actual plotting code (the function) shouldn't have to change, btw. Just what data you send it.\n",
    "\n",
    "Starting point: the function you wrote in the first week, get_row_with_max_peak"
   ]
  },
  {
   "cell_type": "code",
   "execution_count": null,
   "metadata": {
    "tags": []
   },
   "outputs": [],
   "source": [
    "..."
   ]
  },
  {
   "cell_type": "markdown",
   "metadata": {},
   "source": [
    "## Week 2: Problem 2: (optional) use reshape to make slicing not needed\n",
    "\n",
    "np.reshape is the method you want; rearrange the data into rows, data channels, time series in each data channel (a 3 dimensional array)"
   ]
  },
  {
   "cell_type": "code",
   "execution_count": null,
   "metadata": {
    "tags": []
   },
   "outputs": [],
   "source": [
    "\n",
    "n_rows = 2\n",
    "n_cols = 2\n",
    "fig, axs = plt.subplots(n_rows, n_cols)\n",
    "\n",
    "# Re-organize the data into an n_picks * n_channel_dims * n_time_steps (3 dimensional) array\n",
    "pick_data_reorg = ...   # Use reshape, with the correct \"order\" option\n",
    "# ... and another array that stores just the success/fail data\n",
    "pick_data_success_fail = ...\n",
    "\n",
    "# Then this plot call should plot the wrist force data for row zero\n",
    "row = 0\n",
    "plot_channel_row(axs[0, 0], ts, pick_data_reorg[row, 0:3, :], data_channels[0], which_row=row, pick_data_success_fail[row] == 1)\n",
    "\n",
    "# ... and for wrist torque data\n",
    "plot_channel_row(axs[0, 1], ts, pick_data_reorg[row, 3:6, :], data_channels[1], which_row=row, pick_data_success_fail[row] == 1)\n",
    "\n"
   ]
  },
  {
   "cell_type": "markdown",
   "metadata": {
    "deletable": false,
    "editable": false
   },
   "source": [
    "---\n",
    "\n",
    "To double-check your work, the cell below will rerun all of the autograder tests."
   ]
  },
  {
   "cell_type": "code",
   "execution_count": null,
   "metadata": {
    "deletable": false,
    "editable": false
   },
   "outputs": [],
   "source": [
    "grader.check_all()"
   ]
  },
  {
   "cell_type": "markdown",
   "metadata": {
    "deletable": false,
    "editable": false
   },
   "source": [
    "## Submission\n",
    "\n",
    "Make sure you have run all cells in your notebook in order before running the cell below, so that all images/graphs appear in the output. The cell below will generate a zip file for you to submit. **Please save before exporting!**\n",
    "\n",
    "Submit just the .ipynb file to Gradescope. Don't change the provided variable names or autograding will fail."
   ]
  },
  {
   "cell_type": "code",
   "execution_count": null,
   "metadata": {
    "deletable": false,
    "editable": false
   },
   "outputs": [],
   "source": [
    "# Save your notebook first, then run this cell to export your submission.\n",
    "grader.export()"
   ]
  },
  {
   "cell_type": "markdown",
   "metadata": {},
   "source": [
    " "
   ]
  }
 ],
 "metadata": {
  "kernelspec": {
   "display_name": "Python 3",
   "language": "python",
   "name": "python3"
  },
  "language_info": {
   "codemirror_mode": {
    "name": "ipython",
    "version": 3
   },
   "file_extension": ".py",
   "mimetype": "text/x-python",
   "name": "python",
   "nbconvert_exporter": "python",
   "pygments_lexer": "ipython3",
   "version": "3.7.4"
  },
  "otter": {
   "tests": {
    "calc_stats_in_function": {
     "name": "calc_stats_in_function",
     "points": 3,
     "suites": [
      {
       "cases": [
        {
         "code": ">>> compare_files()\nTrue",
         "hidden": false,
         "locked": false
        }
       ],
       "scored": true,
       "setup": "",
       "teardown": "",
       "type": "doctest"
      }
     ]
    },
    "channel_index": {
     "name": "channel_index",
     "points": 2,
     "suites": [
      {
       "cases": [
        {
         "code": ">>> row_max_wrist_torque_z[0:2] == (82, 863)\nTrue",
         "hidden": false,
         "locked": false
        }
       ],
       "scored": true,
       "setup": "",
       "teardown": "",
       "type": "doctest"
      }
     ]
    },
    "initialize_data": {
     "name": "initialize_data",
     "points": 1,
     "suites": [
      {
       "cases": [
        {
         "code": ">>> pick_data_description[\"n_total_dims\"] == 33\nTrue",
         "hidden": false,
         "locked": false
        },
        {
         "code": ">>> pick_data_description[\"n_time_steps\"] == 40\nTrue",
         "hidden": false,
         "locked": false
        }
       ],
       "scored": true,
       "setup": "",
       "teardown": "",
       "type": "doctest"
      }
     ]
    }
   }
  }
 },
 "nbformat": 4,
 "nbformat_minor": 2
}
