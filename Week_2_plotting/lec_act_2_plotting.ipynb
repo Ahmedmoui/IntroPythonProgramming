{
"cells": [
{
"cell_type": "code",
"execution_count": null,
"metadata": {
"deletable": false,
"editable": false
},
"outputs": [],
"source": [
"# Initialize Otter\n",
"import otter\n",
"grader = otter.Notebook(\"lec_act_2_plotting.ipynb\")"
]
},
{
"cell_type": "markdown",
"metadata": {},
"source": [
"# Lecture goals\n",
"\n",
"1. Understand the difference between a figure/window and a plotting area/subplot/axes\n",
"2. Be able to create a figure with subplots in it\n",
"3. Plot something in the subplot and label it\n",
"4. Pass parameters to functions by both position and name\n",
"\n",
"Note: To see what the correct result should look like, see Lab lecture https://docs.google.com/presentation/d/1IiGGUNet-4Nj07x2cTXU6IOYXy9TSdAF5OUWCCKIYEM/edit?usp=sharing"
]
},
{
"cell_type": "code",
"execution_count": null,
"metadata": {},
"outputs": [],
"source": [
"# Access all numpy functions as np.\n",
"import numpy as np\n",
"import matplotlib.pyplot as plt\n",
"%matplotlib inline\n",
"import json as json"
]
},
{
"cell_type": "markdown",
"metadata": {},
"source": [
"## Read data\n",
"\n",
"TODO: Read in the data from lab 1/hwk 1. Note that this folder also has a Data folder in it with the same data files, so you should be able to just copy your code from week 1"
]
},
{
"cell_type": "code",
"execution_count": null,
"metadata": {
"tags": []
},
"outputs": [],
"source": [
"# Note: your repository is set up to have a copy of the Data files in this folder as well as the Week_1_arrays\n",
"#. folder - this is so the autograder works correctly.  \n",
"pick_data = np.loadtxt(\"Data/proxy_pick_data.csv\", dtype=\"float\", delimiter=\",\")\n",
"\n",
"# Load in the proxy_pick_data_description.json file\n",
"\n",
"pick_data_description = ..."
]
},
{
"cell_type": "code",
"execution_count": null,
"metadata": {
"deletable": false,
"editable": false
},
"outputs": [],
"source": [
"grader.check(\"Read data\")"
]
},
{
"cell_type": "markdown",
"metadata": {},
"source": [
"## Get data\n",
"\n",
"TODO: Get the Wrist **torque** z channel for the first row of pick data (y values). Create the t values (x values). Refer to lab 1 for how get out the data (it's the same data).\n",
"\n",
"For the **t** values, assume the data is sampled at 30 Hz, i.e., the time sampling is 1/30th of a second\n",
"\n",
"- Step 1: How big does the t array have to be? (hint: How many data samples are there for the wrist force data?)\n",
"- Step 2: How do you make an array of that size with that spacing? (hint: **np.arange**)\n"
]
},
{
"cell_type": "code",
"execution_count": null,
"metadata": {
"tags": []
},
"outputs": [],
"source": [
"# TODO: Create a numpy array that starts at 0, ends at number of time steps * time_step, and has step size time_step\n",
"#   See np.arange\n",
"#.  See lab 1 for how to calculate the number of time steps\n",
"\n",
"# TODO Set up the time (x axis) data \n",
"time_step = ...   # This is 1/30th of a second\n",
"n_time_steps = ... # This is the number of time steps/data samples\n",
"# Use the above, with np.arrange, to create the t values\n",
"ts = ...\n",
"\n",
"\n",
"# TODO: Use slicing to get the y data out of pick_data\n",
"y_data = ... \n",
"\n",
"# Use this to check that your data is the right size - both should be of size 40\n",
"print(ts.size)\n",
"print(y_data.size)\n"
]
},
{
"cell_type": "code",
"execution_count": null,
"metadata": {
"deletable": false,
"editable": false
},
"outputs": [],
"source": [
"grader.check(\"Get data\")"
]
},
{
"cell_type": "markdown",
"metadata": {},
"source": [
"## Plot data\n",
"\n",
"TODO: Plot the ts and ys values. Make sure to add x and y labels, along with a title."
]
},
{
"cell_type": "code",
"execution_count": null,
"metadata": {
"tags": []
},
"outputs": [],
"source": [
"# Create the plotting window. Use subplots.\n",
"nrows = 1\n",
"ncols = 1\n",
"\n",
"fig, axs = ..."
]
},
{
"cell_type": "code",
"execution_count": null,
"metadata": {
"deletable": false,
"editable": false
},
"outputs": [],
"source": [
"grader.check(\"Plot data\")"
]
},
{
"cell_type": "markdown",
"metadata": {},
"source": [
"## Hours and collaborators\n",
"Required for every assignment - fill out before you hand-in.\n",
"\n",
"Listing names and websites helps you to document who you worked with and what internet help you received in the case of any plagiarism issues. You should list names of anyone (in class or not) who has substantially helped you with an assignment - or anyone you have *helped*. You do not need to list TAs.\n",
"\n",
"Listing hours helps us track if the assignments are too long."
]
},
{
"cell_type": "code",
"execution_count": null,
"metadata": {
"tags": []
},
"outputs": [],
"source": [
"\n",
"# List of names (creates a set)\n",
"worked_with_names = {\"not filled out\"}\n",
"# List of URLS (creates a set)\n",
"websites = {\"not filled out\"}\n",
"# Approximate number of hours, including lab/in-class time\n",
"hours = -1.5\n",
"\n",
"# for all row, column in all_indices_from_where\n",
"#.   if this is the column for wrist torque \n",
"#.      print(f\"Row: {r}, Time step: {c // n_time_steps} Successful y/n: {pick_data[r, -1] == 1}, value: {pick_data[r, c]}\")"
]
},
{
"cell_type": "code",
"execution_count": null,
"metadata": {
"deletable": false,
"editable": false
},
"outputs": [],
"source": [
"grader.check(\"hours_collaborators\")"
]
},
{
"cell_type": "markdown",
"metadata": {
"deletable": false,
"editable": false
},
"source": [
"## Submission\n",
"\n",
"Make sure you have run all cells in your notebook in order before running the cell below, so that all images/graphs appear in the output. The cell below will generate a zip file for you to submit. **Please save before exporting!**\n",
"\n",
"Submit through gradescope, Pre-lecture 2 plotting. Submit just the .ipynb file"
]
},
{
"cell_type": "code",
"execution_count": null,
"metadata": {
"deletable": false,
"editable": false
},
"outputs": [],
"source": [
"# Save your notebook first, then run this cell to export your submission.\n",
"grader.export(run_tests=True)"
]
},
{
"cell_type": "markdown",
"metadata": {},
"source": [
" "
]
}
],
"metadata": {
"kernelspec": {
"display_name": "Python 3",
"language": "python",
"name": "python3"
},
"language_info": {
"codemirror_mode": {
"name": "ipython",
"version": 3
},
"file_extension": ".py",
"mimetype": "text/x-python",
"name": "python",
"nbconvert_exporter": "python",
"pygments_lexer": "ipython3",
"version": "3.7.4"
},
"otter": {
"OK_FORMAT": true,
"tests": {
"Get data": {
"name": "Get data",
"points": 2,
"suites": [
{
"cases": [
{
"code": ">>> assert(ts.size == 40)\n",
"hidden": false,
"locked": false
},
{
"code": ">>> assert(y_data.size == 40)\n",
"hidden": false,
"locked": false
},
{
"code": ">>> assert(np.isclose(ts[0], 0.0))\n",
"hidden": false,
"locked": false
},
{
"code": ">>> assert(np.isclose(ts[-1], 1.3))\n",
"hidden": false,
"locked": false
},
{
"code": ">>> assert(np.isclose(y_data[0], -0.26818306))\n",
"hidden": false,
"locked": false
},
{
"code": ">>> assert(np.isclose(y_data[-1], -0.43396691))\n",
"hidden": false,
"locked": false
}
],
"scored": true,
"setup": "",
"teardown": "",
"type": "doctest"
}
]
},
"Plot data": {
"name": "Plot data",
"points": 2,
"suites": [
{
"cases": [
{
"code": ">>> assert(ts.shape == y_data.shape)\n",
"hidden": false,
"locked": false
},
{
"code": ">>> assert(\"s\" in axs.get_xlabel())\n",
"hidden": false,
"locked": false
},
{
"code": ">>> assert(\"N.m\" in axs.get_ylabel())\n",
"hidden": false,
"locked": false
},
{
"code": ">>> assert(\"Wrist torque\" in axs.get_title())\n",
"hidden": false,
"locked": false
}
],
"scored": true,
"setup": "",
"teardown": "",
"type": "doctest"
}
]
},
"Read data": {
"name": "Read data",
"points": 1,
"suites": [
{
"cases": [
{
"code": ">>> assert(pick_data.size == 871860)\n",
"hidden": false,
"locked": false
},
{
"code": ">>> assert(len(pick_data_description[\"Data channels\"]) == 17)\n",
"hidden": false,
"locked": false
}
],
"scored": true,
"setup": "",
"teardown": "",
"type": "doctest"
}
]
},
"hours_collaborators": {
"name": "hours_collaborators",
"points": 1,
"suites": [
{
"cases": [
{
"code": ">>> assert(not \"not filled out\" in worked_with_names)\n",
"hidden": false,
"locked": false
},
{
"code": ">>> assert(not \"not filled out\" in websites)\n",
"hidden": false,
"locked": false
},
{
"code": ">>> assert(hours > 0)\n",
"hidden": false,
"locked": false
}
],
"scored": true,
"setup": "",
"teardown": "",
"type": "doctest"
}
]
}
}
}
},
"nbformat": 4,
"nbformat_minor": 2
}