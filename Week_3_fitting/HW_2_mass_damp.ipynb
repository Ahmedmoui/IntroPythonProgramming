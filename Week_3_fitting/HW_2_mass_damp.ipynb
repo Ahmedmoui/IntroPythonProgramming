{
"cells": [
{
"cell_type": "code",
"execution_count": null,
"metadata": {
"deletable": false,
"editable": false
},
"outputs": [],
"source": [
"# Initialize Otter\n",
"import otter\n",
"grader = otter.Notebook(\"HW_2_mass_damp.ipynb\")"
]
},
{
"cell_type": "markdown",
"metadata": {},
"source": [
"# HW 2: Analysis of a mass-damped system\n",
"\n",
"Resources: Lecture slides describing the homework: https://docs.google.com/presentation/d/1MwF34w30rjzLS5-IYj0ZWT5CjsLeFc7qlG_Eq9rFdZ8/edit?usp=sharing All of the equations for this homework are in those slides.\n",
"\n",
"- Part 1/week 3 does not build on anything specific in lab 3, but uses code from labs 1-3\n",
"- Part 2/week 4: Do lab 4 before hwk 4\n",
"\n",
"In the first part of this homework the focus is on doing an analysis \"from scratch\", in the sense that we will not be\n",
"providing a lot of shell code. The second half is on how to translate a general equation of the form\n",
"\n",
"  *state at time t+delta_t = f( state at time t )*\n",
"  \n",
"into code (also known as simulation).\n",
"\n",
"Programming practice: The focus in this assignment is on deciding when to create a function and what parameters to pass in and out of the function.\n",
"\n",
"Following on from lab 4, this will be an example of writing an iterative function - one where the intention is to call the function multiple times, each time passing in the values returned from the previous function call. This can be a bit difficult to wrap your head around, so if you get stuck go back to the simpler examples and/or do it on paper yourself a few iterations.\n",
"\n",
"We've provided results (as a json file) for two of the included data sets. We will, however, be testing on different data sets, so make sure your code works for any data file of the correct format.\n",
"\n",
"TODOS: For each helper function\n",
"- Write the function\n",
"- Check that it works\n",
"\n",
"You have some flexibility as to how the write the helper functions, but you must use the names/input/output format given or the autograder won't work...\n",
"\n",
"Helper function is not a technical term - it's just what I call a function that does some part of the functionality"
]
},
{
"cell_type": "markdown",
"metadata": {},
"source": [
"## Helper function 1 - load the data and check that it's valid\n",
" - Input: File name (with path)\n",
" - Output: Two numpy arrays, floats\n",
"   -- 1st numpy array: The time values\n",
"   -- 2nd numpy array: The function values that correspond to the time values\n",
"   \n",
"You MUST use this format and the file name given, or the autograder will fail.\n",
"\n",
"Lists should be of the same length\n",
"\n",
"Some expectations on the data files\n",
" - Always has at least three rows\n",
" --First row is a header row\n",
"- The first column is the time values (will be monotonically increasing)\n",
"- The second column is the values that correspond to the time values (final value of this will be greater than initial)\n",
"\n",
"A good habit is to check that these are true, and throw an error if it's not"
]
},
{
"cell_type": "code",
"execution_count": null,
"metadata": {
"tags": []
},
"outputs": [],
"source": [
"\n",
"# You must name your function this\n",
"# You might also want to write some test code...\n",
"def load_data_from_file(fname):\n",
"    pass\n"
]
},
{
"cell_type": "code",
"execution_count": null,
"metadata": {
"deletable": false,
"editable": false
},
"outputs": [],
"source": [
"grader.check(\"load_data\")"
]
},
{
"cell_type": "markdown",
"metadata": {},
"source": [
"## Helper function 2 - get the index of the first number greater than or equal the input number x\n",
"\n",
"Look at the equations in the slides - why is this a useful helper function?\n",
"\n",
"- Input (2): A numpy array, a single number x\n",
"- Output: The index of the first number greater than or equal to x (or None if no such number)"
]
},
{
"cell_type": "code",
"execution_count": null,
"metadata": {
"tags": []
},
"outputs": [],
"source": [
"# You must name your function this\n",
"def greater_than_index(in_list, in_x):\n",
"    pass\n",
"# Tests\n",
"# list [1.0, 3.0, 4.0, 7.0, 10.0], x 6.0, should give index 3\n",
"# list [-2.5, 1.0, 4.0, 8.0, 4.0, 1.0, -2.5], x 4.0, should give index 2\n",
"# list [1.1, 2.2, 3.3, 4.4], x 5.5, should return None\n",
"#\n"
]
},
{
"cell_type": "code",
"execution_count": null,
"metadata": {
"deletable": false,
"editable": false
},
"outputs": [],
"source": [
"grader.check(\"get_index\")"
]
},
{
"cell_type": "markdown",
"metadata": {},
"source": [
"## Analysis code\n",
"\n",
"TODO: Write a function that takes in a file name and outputs a dictionary with the values listed below\n",
" - You must use the names given (see json file/example in homework slide)\n",
" - See homework slides for further definitions/equations\n",
"\n",
"Check the corresponding json file and plot for the correct values \n",
"\n",
"### System values\n",
" - c_initial - the initial position of the system (the first value)\n",
" - c_max - the largest position of the system (the maximum value, see Figure 4.14)\n",
" - c_final - the final, steady-state position of the system (the last value, see Figure 4.14)\n",
"\n",
"Note: For this assignment we'll just use the last value, but you could also average the last few values\n",
"\n",
"###  Estimate characteristics\n",
" - rise_time - The rise time, Tr this is the time that it takes to go from 10% to 90% of the way from c_initial to c_final (item 1 on Figure 4.14 - refer to plot)\n",
" -- The \u201c10% time\u201d is defined as the first time at which the system obtains a value greater than or equal to the\n",
"value which is 10% between c_initial and c_final. Same with the 90% time.\n",
" - peak_time - The peak time, Tp. This is the time at which the position has the maximal value (item 2 on Figure 4.14)\n",
" - perc_overshoot - percentage over shoot (% OS). This is the amount that the system overshoots c_final, expressed as a percentage of the range c_initial to c_final.\n",
" - settling_time - The settling time, Ts. Estimate the 2% Settling Time, T_s.  This is the earliest time when the current and all subsequent positions of the system are within a certain threshold of c_final. This threshold is\n",
"defined by 2% of the range between c_initial and c_final.\n",
"\n",
"For example, if c_initial = -1 and c_final = 1, the 2% threshold would be (0.96, 1.04) (non-inclusive of endpoints).\n",
"\n",
"###    Estimate model values\n",
" - system_mass - assume the mass is 1\n",
" - system_spring - this is omega_n^2 (see slides)\n",
" - system_damping - the damping term (the linear coefficient, see slides)\n",
"\n",
"You may write some additional helper functions here, if you wish. Actually, I recommend writing this in pieces/multiple functions. One breakdown is the one given above - calculate the values in turn.\n",
"\n",
"I'd suggest writing a test function for each of the group of equations above, where you test against the answers in the data1.json file (with the data1.csv file as input). \n",
"\n",
"I have written a general-purpose test function for you, but it tests everything all at once."
]
},
{
"cell_type": "code",
"execution_count": null,
"metadata": {
"tags": []
},
"outputs": [],
"source": [
"\n",
"# Open the filename and create a dictionary with all of the parameters\n",
"def analyze_data(fname):\n",
"    pass\n"
]
},
{
"cell_type": "code",
"execution_count": null,
"metadata": {
"tags": []
},
"outputs": [],
"source": [
"def compare_dictionaries(fname_dictionary, my_dict):\n",
"    \"\"\" Open up the json file in fname and compare to my_dict\n",
"    @param fname_dictionary one of dataX.json\n",
"    @param my_dict - your dictionary with parameters\n",
"    @returns True or False if the same (within epsilon)\"\"\"\n",
"    from json import load\n",
"    with open(fname_dictionary, 'r') as fp:\n",
"        answ_dict = load(fp)\n",
"\n",
"    b_ret = True\n",
"    for k, v in answ_dict.items():\n",
"        try:\n",
"            if not np.isclose(v, my_dict[k]):\n",
"                print(f\"Key {k} is not close, correct value {v}, incorrect {my_dict[k]}\")\n",
"                b_ret = False\n",
"        except KeyError:\n",
"            print(f\"Key {k} not found in your dictionary\")\n",
"            b_ret = False\n",
"    return b_ret\n"
]
},
{
"cell_type": "code",
"execution_count": null,
"metadata": {
"deletable": false,
"editable": false
},
"outputs": [],
"source": [
"grader.check(\"analysis\")"
]
},
{
"cell_type": "markdown",
"metadata": {},
"source": [
"<!-- BEGIN QUESTION -->\n",
"\n",
"## Plot the data and the system parameters\n",
"\n",
"TODO Plot the data with the parameters, similar to the figure 4.14\n",
"\n",
"Refer to figure in slides for what the figure should look like\n",
"\n",
"You should at least have **c final**, **Ts**, and **Tp** plotted\n",
"\n",
"Create one plot each for each data file\n",
"\n",
"- matplot lib has a text function for placing text\n"
]
},
{
"cell_type": "code",
"execution_count": null,
"metadata": {
"tags": []
},
"outputs": [],
"source": [
"\n",
"...\n"
]
},
{
"cell_type": "code",
"execution_count": null,
"metadata": {
"tags": []
},
"outputs": [],
"source": [
"plot_system('Data/data1.csv')"
]
},
{
"cell_type": "code",
"execution_count": null,
"metadata": {
"tags": []
},
"outputs": [],
"source": [
"plot_system('Data/data2.csv')"
]
},
{
"cell_type": "code",
"execution_count": null,
"metadata": {
"tags": []
},
"outputs": [],
"source": [
"plot_system('Data/data3.csv')"
]
},
{
"cell_type": "markdown",
"metadata": {},
"source": [
"<!-- END QUESTION -->\n",
"\n",
"## Hours and collaborators\n",
"Required for every assignment - fill out before you hand-in.\n",
"\n",
"Listing names and websites helps you to document who you worked with and what internet help you received in the case of any plagiarism issues. You should list names of anyone (in class or not) who has substantially helped you with an assignment - or anyone you have *helped*. You do not need to list TAs.\n",
"\n",
"Listing hours helps us track if the assignments are too long."
]
},
{
"cell_type": "code",
"execution_count": null,
"metadata": {
"tags": []
},
"outputs": [],
"source": [
"\n",
"# List of names (creates a set)\n",
"worked_with_names = {\"not filled out\"}\n",
"# List of URLS (creates a set)\n",
"websites = {\"not filled out\"}\n",
"# Approximate number of hours, including lab/in-class time\n",
"hours = -1.5\n",
"\n",
"# for all row, column in all_indices_from_where\n",
"#.   if this is the column for wrist torque \n",
"#.      print(f\"Row: {r}, Time step: {c // n_time_steps} Successful y/n: {pick_data[r, -1] == 1}, value: {pick_data[r, c]}\")"
]
},
{
"cell_type": "code",
"execution_count": null,
"metadata": {
"deletable": false,
"editable": false
},
"outputs": [],
"source": [
"grader.check(\"hours_collaborators\")"
]
},
{
"cell_type": "markdown",
"metadata": {
"deletable": false,
"editable": false
},
"source": [
"## Submission\n",
"\n",
"Make sure you have run all cells in your notebook in order before running the cell below, so that all images/graphs appear in the output. The cell below will generate a zip file for you to submit. **Please save before exporting!**\n",
"\n",
"Submit just the .ipynb file to Gradescope. Don't change the provided variable names or autograding will fail."
]
},
{
"cell_type": "code",
"execution_count": null,
"metadata": {
"deletable": false,
"editable": false
},
"outputs": [],
"source": [
"# Save your notebook first, then run this cell to export your submission.\n",
"grader.export(run_tests=True)"
]
},
{
"cell_type": "markdown",
"metadata": {},
"source": [
" "
]
}
],
"metadata": {
"kernelspec": {
"display_name": "Python 3",
"language": "python",
"name": "python3"
},
"language_info": {
"codemirror_mode": {
"name": "ipython",
"version": 3
},
"file_extension": ".py",
"mimetype": "text/x-python",
"name": "python",
"nbconvert_exporter": "python",
"pygments_lexer": "ipython3",
"version": "3.7.3"
},
"otter": {
"OK_FORMAT": true,
"tests": {
"analysis": {
"name": "analysis",
"points": 7,
"suites": [
{
"cases": [
{
"code": ">>> compare_dictionaries('Data/data1.json', analyze_data('Data/data1.csv'))\n",
"hidden": false,
"locked": false
},
{
"code": ">>> compare_dictionaries('Data/data2.json', analyze_data('Data/data2.csv'))\n",
"hidden": false,
"locked": false
},
{
"code": ">>> compare_dictionaries('Data/data3.json', analyze_data('Data/data3.csv'))\n",
"hidden": false,
"locked": false
}
],
"scored": true,
"setup": "",
"teardown": "",
"type": "doctest"
}
]
},
"get_index": {
"name": "get_index",
"points": 3,
"suites": [
{
"cases": [
{
"code": ">>> assert(greater_than_index(np.array([1.0, 3.0, 4.0, 7.0, 10.0]), 6.0) == 3)\n",
"hidden": false,
"locked": false
},
{
"code": ">>> assert(greater_than_index(np.array([-2.5, 1.0, 4.0, 8.0, 4.0, 1.0, -2.5]), 4.0) == 2)\n",
"hidden": false,
"locked": false
},
{
"code": ">>> assert(greater_than_index(np.array([1.1, 2.2, 3.3, 4.4, 5.5]), 100.5) == None)\n",
"hidden": false,
"locked": false
}
],
"scored": true,
"setup": "",
"teardown": "",
"type": "doctest"
}
]
},
"hours_collaborators": {
"name": "hours_collaborators",
"points": 1,
"suites": [
{
"cases": [
{
"code": ">>> assert(not \"not filled out\" in worked_with_names)\n",
"hidden": false,
"locked": false
},
{
"code": ">>> assert(not \"not filled out\" in websites)\n",
"hidden": false,
"locked": false
},
{
"code": ">>> assert(hours > 0)\n",
"hidden": false,
"locked": false
}
],
"scored": true,
"setup": "",
"teardown": "",
"type": "doctest"
}
]
},
"load_data": {
"name": "load_data",
"points": 2,
"suites": [
{
"cases": [
{
"code": ">>> ts, vs = load_data_from_file(\"data/data1.csv\")\n>>> assert(len(ts) == len(vs))\n",
"hidden": false,
"locked": false
},
{
"code": ">>> assert(len(ts) == 20000)\n",
"hidden": false,
"locked": false
},
{
"code": ">>> assert(vs[-1] > vs[0])\n",
"hidden": false,
"locked": false
}
],
"scored": true,
"setup": "",
"teardown": "",
"type": "doctest"
}
]
}
}
}
},
"nbformat": 4,
"nbformat_minor": 2
}