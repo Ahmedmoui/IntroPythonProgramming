{
 "cells": [
  {
   "cell_type": "code",
   "execution_count": null,
   "metadata": {
    "deletable": false,
    "editable": false
   },
   "outputs": [],
   "source": [
    "# Initialize Otter\n",
    "import otter\n",
    "grader = otter.Notebook(\"Lab_3_data_fitting.ipynb\")"
   ]
  },
  {
   "cell_type": "markdown",
   "metadata": {},
   "source": [
    "# Lab week 3: Data fitting to see if we can detect a pick success y/n\n",
    "\n",
    "Can you use the finger 1 stop time and max value to tell the difference between successful and not?\n",
    "Lab slides: https://docs.google.com/presentation/d/1NtoXYbl2nq1dkIU0KQE8ogjSCfb22wgLigY3JJpHHGI/edit?usp=sharing\n"
   ]
  },
  {
   "cell_type": "code",
   "execution_count": null,
   "metadata": {},
   "outputs": [],
   "source": [
    "# Doing the imports for you\n",
    "import numpy as np\n",
    "import json as json\n",
    "from scipy.stats import linregress\n",
    "import matplotlib.pyplot as plt\n",
    "import csv\n",
    "from numpy.polynomial import polynomial\n",
    "import math"
   ]
  },
  {
   "cell_type": "markdown",
   "metadata": {},
   "source": [
    "## Read the data in "
   ]
  },
  {
   "cell_type": "code",
   "execution_count": null,
   "metadata": {
    "tags": []
   },
   "outputs": [],
   "source": [
    "# Read the same data in as for pre_lecture_3.py data in and put it in the data_ variables\n",
    "\n",
    "# Read in week3_Motor position f1_success and failed\n",
    "data_successful = ...  # week3_Motor position f1_successful.csv\n",
    "data_failed = ...  # week3_Motor position f1_failed.csv\n",
    "# END PROMPT\"\"\"\n"
   ]
  },
  {
   "cell_type": "code",
   "execution_count": null,
   "metadata": {
    "deletable": false,
    "editable": false
   },
   "outputs": [],
   "source": [
    "grader.check(\"Read data\")"
   ]
  },
  {
   "cell_type": "markdown",
   "metadata": {},
   "source": [
    "## Box plot of fitted lines for all data\n",
    "\n",
    "In the pre-lecture you fitted the line to just one row each of the successful/failed picks. In this lab you'll fit the line to ALL of the picks. For each pick, save the end point (time and y_max value of the motor). You'll be making a box plot of this data to see if it looks different for successful versus failed picks.\n",
    "\n",
    "Why a box plot? Box plots are better for visually showing multiple distributions in the same plot, where they can be compared side-by-side\n",
    "\n",
    "See lab slides for what this should look like when you're done"
   ]
  },
  {
   "cell_type": "markdown",
   "metadata": {},
   "source": [
    "_Type your answer here, replacing this text._"
   ]
  },
  {
   "cell_type": "code",
   "execution_count": null,
   "metadata": {
    "tags": []
   },
   "outputs": [],
   "source": [
    "# from pre_lecture_3_fitting import fit_line_to_middle_bit\n",
    "\n",
    "...\n",
    "\n",
    "# nx2 arrays of t, y values of end point of fitted line\n",
    "end_times_successful = ...  \n",
    "end_times_failed = ...  \n",
    "# END PROMPT\"\"\"\n",
    "\n",
    "# Should print Mean successful [3.98791579e-01 4.07402569e+02] and failed [  0.40810473 392.76044707]\n",
    "print(f\"Mean successful {np.mean(end_times_successful, 0)} and failed {np.mean(end_times_failed, 0)}\")\n"
   ]
  },
  {
   "cell_type": "code",
   "execution_count": null,
   "metadata": {
    "deletable": false,
    "editable": false
   },
   "outputs": [],
   "source": [
    "grader.check(\"Fitted line code\")"
   ]
  },
  {
   "cell_type": "markdown",
   "metadata": {},
   "source": [
    "_Type your answer here, replacing this text._"
   ]
  },
  {
   "cell_type": "code",
   "execution_count": null,
   "metadata": {
    "tags": []
   },
   "outputs": [],
   "source": [
    "from pre_lecture_3_fitting import fit_line_to_middle_bit\n",
    "\n",
    "n_rows = 1\n",
    "n_cols = 2\n",
    "fig, axs = plt.subplots(n_rows, n_cols)\n",
    "\n",
    "...\n",
    "\n",
    "# Do the box plots...\n",
    "# END PROMPT\"\"\""
   ]
  },
  {
   "cell_type": "markdown",
   "metadata": {},
   "source": [
    "<!-- END QUESTION -->\n",
    "\n",
    "# Part 2: Fitting a curve to the summed wrist force data\n",
    "\n",
    "## First step: calculate the data\n",
    "\n",
    "Data to plot: sqrt (sum x,y,z (wrist force data)^2)\n",
    "\n",
    "Read in wrist force data, sum it, and (optional) write it out to two csv files (one for successful, one for failed)\n",
    "  Feel free to swipe code from Lecture_3_data_analysis.ipynb to do this\n",
    "\n",
    "The data files are also in the directory, so you can read them in if you're having trouble calculating the data yourself.\n"
   ]
  },
  {
   "cell_type": "code",
   "execution_count": null,
   "metadata": {
    "tags": []
   },
   "outputs": [],
   "source": [
    "\n",
    "data_wrist_force_successful = ...\n",
    "data_wrist_force_failed = ,,,\n",
    "# END PROMPT\"\"\"\n"
   ]
  },
  {
   "cell_type": "code",
   "execution_count": null,
   "metadata": {
    "deletable": false,
    "editable": false
   },
   "outputs": [],
   "source": [
    "grader.check(\"Fit curve\")"
   ]
  },
  {
   "cell_type": "markdown",
   "metadata": {},
   "source": [
    "<!-- BEGIN QUESTION -->\n",
    "\n",
    "## Second step: Fit a cubic to the first rows of the successful and failed plots\n",
    "\n",
    "I've copied over the code from Lecture 3 - you just need to fit the polynomial and plot that, too\n",
    "\n",
    "plt.close(fig)"
   ]
  },
  {
   "cell_type": "code",
   "execution_count": null,
   "metadata": {
    "tags": []
   },
   "outputs": [],
   "source": [
    "n_rows = 6\n",
    "n_cols = 6\n",
    "fig, axs = plt.subplots(n_rows, n_rows, figsize=(10, 10))\n",
    "for p in range(0, (n_rows // 2) * n_cols):\n",
    "    r, c = p // n_cols, p % n_cols\n",
    "    axs[r, c].plot(ts, data_wrist_force_successful[p])\n",
    "    ...\n",
    "    axs[r, c].set_title(f\"{ch_name} summed\" + f\" suc {p}\", fontsize=10)\n",
    "\n",
    "for p in range(0, (n_rows // 2) * n_cols):\n",
    "    r, c = 3 + p // n_cols, p % n_cols\n",
    "    axs[r, c].plot(ts, data_failed[p])\n",
    "    ...\n",
    "    axs[r, c].set_title(f\"{ch_name} summed\" + f\" fail {p}\", fontsize=10)\n",
    "\n",
    "plt.tight_layout()"
   ]
  },
  {
   "cell_type": "markdown",
   "metadata": {},
   "source": [
    "<!-- END QUESTION -->\n",
    "\n",
    "## Hours and collaborators\n",
    "Required for every assignment - fill out before you hand-in.\n",
    "\n",
    "Listing names and websites helps you to document who you worked with and what internet help you received in the case of any plagiarism issues. You should list names of anyone (in class or not) who has substantially helped you with an assignment - or anyone you have *helped*. You do not need to list TAs.\n",
    "\n",
    "Listing hours helps us track if the assignments are too long."
   ]
  },
  {
   "cell_type": "code",
   "execution_count": null,
   "metadata": {
    "tags": []
   },
   "outputs": [],
   "source": [
    "\n",
    "# List of names (creates a set)\n",
    "worked_with_names = {\"not filled out\"}\n",
    "# List of URLS (creates a set)\n",
    "websites = {\"not filled out\"}\n",
    "# Approximate number of hours, including lab/in-class time\n",
    "hours = -1.5\n",
    "\n",
    "# for all row, column in all_indices_from_where\n",
    "#.   if this is the column for wrist torque \n",
    "#.      print(f\"Row: {r}, Time step: {c // n_time_steps} Successful y/n: {pick_data[r, -1] == 1}, value: {pick_data[r, c]}\")"
   ]
  },
  {
   "cell_type": "code",
   "execution_count": null,
   "metadata": {
    "deletable": false,
    "editable": false
   },
   "outputs": [],
   "source": [
    "grader.check(\"hours_collaborators\")"
   ]
  },
  {
   "cell_type": "markdown",
   "metadata": {
    "deletable": false,
    "editable": false
   },
   "source": [
    "## Submission\n",
    "\n",
    "Make sure you have run all cells in your notebook in order before running the cell below, so that all images/graphs appear in the output. The cell below will generate a zip file for you to submit. **Please save before exporting!**\n",
    "\n",
    "Submit through gradescope, week 3 lab"
   ]
  },
  {
   "cell_type": "code",
   "execution_count": null,
   "metadata": {
    "deletable": false,
    "editable": false
   },
   "outputs": [],
   "source": [
    "# Save your notebook first, then run this cell to export your submission.\n",
    "grader.export(run_tests=True)"
   ]
  },
  {
   "cell_type": "markdown",
   "metadata": {},
   "source": [
    " "
   ]
  }
 ],
 "metadata": {
  "kernelspec": {
   "display_name": "Python 3",
   "language": "python",
   "name": "python3"
  },
  "language_info": {
   "codemirror_mode": {
    "name": "ipython",
    "version": 3
   },
   "file_extension": ".py",
   "mimetype": "text/x-python",
   "name": "python",
   "nbconvert_exporter": "python",
   "pygments_lexer": "ipython3",
   "version": "3.7.4"
  },
  "otter": {
   "OK_FORMAT": true,
   "tests": {
    "Fit curve": {
     "name": "Fit curve",
     "points": 2,
     "suites": [
      {
       "cases": [
        {
         "code": ">>> assert(data_wrist_force_successful.shape[0] == 355)\n",
         "hidden": false,
         "locked": false
        },
        {
         "code": ">>> assert(data_wrist_force_failed.shape[0] == 305)\n",
         "hidden": false,
         "locked": false
        },
        {
         "code": ">>> assert(math.isclose(np.max(data_wrist_force_successful), 20.46056888454263, rel_tol=0.001))\n",
         "hidden": false,
         "locked": false
        },
        {
         "code": ">>> assert(math.isclose(np.max(data_wrist_force_failed), 18.862565694678903, rel_tol=0.001))\n",
         "hidden": false,
         "locked": false
        }
       ],
       "scored": true,
       "setup": "",
       "teardown": "",
       "type": "doctest"
      }
     ]
    },
    "Fitted line code": {
     "name": "Fitted line code",
     "points": 2,
     "suites": [
      {
       "cases": [
        {
         "code": ">>> assert(math.isclose(np.mean(end_times_successful, 0)[0], 3.98791579e-01, rel_tol=0.001))\n",
         "hidden": false,
         "locked": false
        },
        {
         "code": ">>> assert(math.isclose(np.mean(end_times_successful, 0)[1], 4.07402569e+02, rel_tol=0.001))\n",
         "hidden": false,
         "locked": false
        },
        {
         "code": ">>> assert(math.isclose(np.mean(end_times_failed, 0)[0], 0.40810473, rel_tol=0.001))\n",
         "hidden": false,
         "locked": false
        },
        {
         "code": ">>> assert(math.isclose(np.mean(end_times_failed, 0)[1], 392.76044707, rel_tol=0.001))\n",
         "hidden": false,
         "locked": false
        }
       ],
       "scored": true,
       "setup": "",
       "teardown": "",
       "type": "doctest"
      }
     ]
    },
    "Read data": {
     "name": "Read data",
     "points": 1,
     "suites": [
      {
       "cases": [
        {
         "code": ">>> assert(data_successful.shape == (355, 40) and data_failed.shape == (305, 40))\n",
         "hidden": false,
         "locked": false
        }
       ],
       "scored": true,
       "setup": "",
       "teardown": "",
       "type": "doctest"
      }
     ]
    },
    "hours_collaborators": {
     "name": "hours_collaborators",
     "points": 1,
     "suites": [
      {
       "cases": [
        {
         "code": ">>> assert(not \"not filled out\" in worked_with_names)\n",
         "hidden": false,
         "locked": false
        },
        {
         "code": ">>> assert(not \"not filled out\" in websites)\n",
         "hidden": false,
         "locked": false
        },
        {
         "code": ">>> assert(hours > 0)\n",
         "hidden": false,
         "locked": false
        }
       ],
       "scored": true,
       "setup": "",
       "teardown": "",
       "type": "doctest"
      }
     ]
    }
   }
  }
 },
 "nbformat": 4,
 "nbformat_minor": 2
}
