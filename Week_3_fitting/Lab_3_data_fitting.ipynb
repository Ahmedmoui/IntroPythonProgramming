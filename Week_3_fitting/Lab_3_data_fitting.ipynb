{
"cells": [
{
"cell_type": "code",
"execution_count": null,
"metadata": {
"deletable": false,
"editable": false
},
"outputs": [],
"source": [
"# Initialize Otter\n",
"import otter\n",
"grader = otter.Notebook(\"Lab_3_data_fitting.ipynb\")"
]
},
{
"cell_type": "markdown",
"metadata": {},
"source": [
"# Lab week 3: Data fitting to see if we can detect a pick success y/n\n",
"\n",
"Can you use the finger 1 stop time and max value to tell the difference between a successful and a failed pick?\n",
"Lab slides: https://docs.google.com/presentation/d/1NtoXYbl2nq1dkIU0KQE8ogjSCfb22wgLigY3JJpHHGI/edit?usp=sharing\n"
]
},
{
"cell_type": "code",
"execution_count": null,
"metadata": {},
"outputs": [],
"source": [
"# Doing the imports for you\n",
"import numpy as np\n",
"import json as json\n",
"from scipy.stats import linregress\n",
"import matplotlib.pyplot as plt\n",
"import csv\n",
"from numpy.polynomial import polynomial\n",
"import math"
]
},
{
"cell_type": "markdown",
"metadata": {},
"source": [
"## Read the data in "
]
},
{
"cell_type": "code",
"execution_count": null,
"metadata": {
"tags": []
},
"outputs": [],
"source": [
"# Read the same data in as for pre_lecture_3.py data in and put it in the data_ variables\n",
"\n",
"# Read in week3_Motor position f1_success and failed\n",
"data_successful = ...  # week3_Motor position f1_successful.csv\n",
"data_failed = ...  # week3_Motor position f1_failed.csv\n",
"# END PROMPT\"\"\"\n"
]
},
{
"cell_type": "code",
"execution_count": null,
"metadata": {
"deletable": false,
"editable": false
},
"outputs": [],
"source": [
"grader.check(\"Read data\")"
]
},
{
"cell_type": "markdown",
"metadata": {},
"source": [
"## Box plot of fitted lines for all data\n",
"\n",
"In the pre-lecture you fit a line to just one row (each) of the successful versus failed picks. In this lab you'll fit the line to ALL of the picks. For each pick, save the end point (time at the y_max value and the y_max value). You'll be making a box plot of this data to see if it looks different for successful versus failed picks.\n",
"\n",
"Why a box plot? Box plots are better for visually showing multiple distributions in the same plot, where they can be compared side-by-side\n",
"\n",
"See lab slides for what this should look like when you're done."
]
},
{
"cell_type": "code",
"execution_count": null,
"metadata": {
"tags": []
},
"outputs": [],
"source": [
"...\n",
"\n",
"# TODO: get the fit_line_to_middle_bit function, either by copying it over here, or importing it from a .py file\n",
"#. Optional (import):\n",
"# from pre_lecture_3_fitting import fit_line_to_middle_bit\n",
"# Otherwise, copy function here\n",
"#\n",
"# TODO: Check that it works\n",
"#. - Create t values\n",
"#  - Call fit_line_to_middle_bit with the first row of the successful data and see if your answers\n",
"#. match the answers from pre-lecture\n",
"# END PROMPT\"\"\"\n"
]
},
{
"cell_type": "code",
"execution_count": null,
"metadata": {
"tags": []
},
"outputs": [],
"source": [
"\n",
"# TODO:\n",
"#  Create a function that computes the \n",
"# nx2 arrays of t, y values of end point of fitted line\n",
"end_times_successful = ...  \n",
"end_times_failed = ...  \n",
"# END PROMPT\"\"\"\n",
"\n",
"# Should print Mean successful [3.98791579e-01 4.07402569e+02] and failed [  0.40810473 392.76044707]\n",
"print(f\"Mean successful {np.mean(end_times_successful, 0)} and failed {np.mean(end_times_failed, 0)}\")\n"
]
},
{
"cell_type": "code",
"execution_count": null,
"metadata": {
"tags": []
},
"outputs": [],
"source": [
"\n",
"# TODO:\n",
"#  Create a function that loops over all of the rows of the data and accumulates the start and end times\n",
"#. in an nx2 array of t (first row) and y (second row)\n",
"# I'd recommend a function that takes both the t values and the data, so you don't have to keep recomputing\n",
"#.  the t values\n",
"#. def fit_middle_all(ts, data)\n",
"#.    make numpy array to put data in (nx2)\n",
"#.    for each row in data\n",
"#.       start_pt, end_pt = fit_line_to_middle_bit(ts, current row)\n",
"#        copy end_pt information into appropriate row in nx2 output\n",
"#. return nx2 numpy array\n",
"# END PROMPT\"\"\""
]
},
{
"cell_type": "code",
"execution_count": null,
"metadata": {
"tags": []
},
"outputs": [],
"source": [
"# Check that it works properly\n",
"\n",
"# TODO:\n",
"#  Create the t values\n",
"#. Call your function twice, once with the successful data, once with the failed\n",
"end_times_successful = ...\n",
"end_times_failed = ...\n",
"# END PROMPT\"\"\""
]
},
{
"cell_type": "code",
"execution_count": null,
"metadata": {
"deletable": false,
"editable": false
},
"outputs": [],
"source": [
"grader.check(\"Fitted line code\")"
]
},
{
"cell_type": "code",
"execution_count": null,
"metadata": {
"tags": []
},
"outputs": [],
"source": [
"# Two plots\n",
"n_rows = 1\n",
"n_cols = 2\n",
"fig, axs = plt.subplots(n_rows, n_cols, figsize=(8, 4))\n",
"\n",
"...\n",
"\n",
"# Do the box plots...\n",
"# END PROMPT\"\"\""
]
},
{
"cell_type": "markdown",
"metadata": {},
"source": [
"<!-- END QUESTION -->\n",
"\n",
"# Part 2: Fitting a curve to the wrist force data\n",
"\n",
"## First step: Getting the data\n",
"\n",
"\n",
"The wrist force data has three channels (x,y,z). For this assignment, we want to get out the total summed force at the wrist, rather than each channel individually:\n",
"\n",
"Equation: **sqrt (sum x,y,z (wrist force data)^2)**\n",
"\n",
"Just like the last problem, the data has already been extracted from the proxy_pick_data.csv file and output for you (week3_Wrist force_summed_*.csv). \n",
"\n",
"Optional: Do this extraction yourself. Read in wrist force data, sum it, and write it out to two csv files (one for successful, one for failed). Feel free to swipe code from Lecture_3_data_analysis.ipynb to do this."
]
},
{
"cell_type": "code",
"execution_count": null,
"metadata": {
"tags": []
},
"outputs": [],
"source": [
"\n",
"# TODO: Read in the data from Data/week3_Wrist_force summed*.csv (successful and failed)\n",
"# TODO: Optional: Read in the pick data and its description file, extract out the rows and columns you\n",
"#. care about, and write that data out (should be same as the .csv files)\n",
"data_wrist_force_successful = ...\n",
"data_wrist_force_failed = ...\n",
"# END PROMPT\"\"\"\n"
]
},
{
"cell_type": "code",
"execution_count": null,
"metadata": {
"deletable": false,
"editable": false
},
"outputs": [],
"source": [
"grader.check(\"Fit curve\")"
]
},
{
"cell_type": "markdown",
"metadata": {},
"source": [
"<!-- BEGIN QUESTION -->\n",
"\n",
"## Second step: Fit a cubic to the wrist force data (18 rows each successful/failed)\n",
"\n",
"Split by successful and failed.\n",
"\n",
"TODO: See slides for what the final plots should look like. I've handled the for loop and the plot indexing for you.\n",
"\n",
"At this point, you should have the data in the form ts, ys for both the successful and the failed data. \n",
"\n",
"Where you're headed (pseudo code)\n",
"\n",
"for 18 rows of data\n",
"\n",
"    Fit a cubic polynomial to the data\n",
"    \n",
"    Plot the original data plus the fitted polynomial\n",
"    \n",
"       First three rows: successful, last three rows: failed\n",
"\n",
"Implementation steps: You could write a function for doing the polynomial fit, but since there already is one (polynomial.polyval) you probably don't need one.\n",
"\n",
"Steps\n",
"- Fit polynomial for one row of data\n",
"- Plot it and make sure it looks correct\n",
"- Copy that code into the for loop, adjusting for which row (p) and which subplot (axs[r, c])\n",
"- Repeat for the failed data\n",
"\n",
"Note: It can take a few seconds to plot."
]
},
{
"cell_type": "code",
"execution_count": null,
"metadata": {
"tags": []
},
"outputs": [],
"source": [
"n_rows = 6\n",
"n_cols = 6\n",
"fig, axs = plt.subplots(n_rows, n_rows, figsize=(16, 16))\n",
"ch_name = \"Wrist force\"\n",
"for p in range(0, (n_rows // 2) * n_cols):\n",
"    r, c = p // n_cols, p % n_cols\n",
"    axs[r, c].plot(ts, data_wrist_force_successful[p])\n",
"    ...\n",
"    axs[r, c].set_title(f\"{ch_name} summed\" + f\" suc {p}\", fontsize=10)\n",
"\n",
"for p in range(0, (n_rows // 2) * n_cols):\n",
"    r, c = 3 + p // n_cols, p % n_cols\n",
"    axs[r, c].plot(ts, data_wrist_force_failed[p])\n",
"    ...\n",
"    axs[r, c].set_title(f\"{ch_name} summed\" + f\" fail {p}\", fontsize=10)\n",
"\n",
"plt.tight_layout()"
]
},
{
"cell_type": "markdown",
"metadata": {},
"source": [
"<!-- END QUESTION -->\n",
"\n",
"## Hours and collaborators\n",
"Required for every assignment - fill out before you hand-in.\n",
"\n",
"Listing names and websites helps you to document who you worked with and what internet help you received in the case of any plagiarism issues. You should list names of anyone (in class or not) who has substantially helped you with an assignment - or anyone you have *helped*. You do not need to list TAs.\n",
"\n",
"Listing hours helps us track if the assignments are too long."
]
},
{
"cell_type": "code",
"execution_count": null,
"metadata": {
"tags": []
},
"outputs": [],
"source": [
"\n",
"# List of names (creates a set)\n",
"worked_with_names = {\"not filled out\"}\n",
"# List of URLS (creates a set)\n",
"websites = {\"not filled out\"}\n",
"# Approximate number of hours, including lab/in-class time\n",
"hours = -1.5\n",
"\n",
"# for all row, column in all_indices_from_where\n",
"#.   if this is the column for wrist torque \n",
"#.      print(f\"Row: {r}, Time step: {c // n_time_steps} Successful y/n: {pick_data[r, -1] == 1}, value: {pick_data[r, c]}\")"
]
},
{
"cell_type": "code",
"execution_count": null,
"metadata": {
"deletable": false,
"editable": false
},
"outputs": [],
"source": [
"grader.check(\"hours_collaborators\")"
]
},
{
"cell_type": "markdown",
"metadata": {
"deletable": false,
"editable": false
},
"source": [
"## Submission\n",
"\n",
"Make sure you have run all cells in your notebook in order before running the cell below, so that all images/graphs appear in the output. The cell below will generate a zip file for you to submit. **Please save before exporting!**\n",
"\n",
"Submit through gradescope, lab 3 data analysis. Turn in just the .ipynb file - we will supply the data files."
]
},
{
"cell_type": "code",
"execution_count": null,
"metadata": {
"deletable": false,
"editable": false
},
"outputs": [],
"source": [
"# Save your notebook first, then run this cell to export your submission.\n",
"grader.export(run_tests=True)"
]
},
{
"cell_type": "markdown",
"metadata": {},
"source": [
" "
]
}
],
"metadata": {
"kernelspec": {
"display_name": "Python 3",
"language": "python",
"name": "python3"
},
"language_info": {
"codemirror_mode": {
"name": "ipython",
"version": 3
},
"file_extension": ".py",
"mimetype": "text/x-python",
"name": "python",
"nbconvert_exporter": "python",
"pygments_lexer": "ipython3",
"version": "3.7.4"
},
"otter": {
"OK_FORMAT": true,
"tests": {
"Fit curve": {
"name": "Fit curve",
"points": 2,
"suites": [
{
"cases": [
{
"code": ">>> assert(data_wrist_force_successful.shape[0] == 355)\n",
"hidden": false,
"locked": false
},
{
"code": ">>> assert(data_wrist_force_failed.shape[0] == 305)\n",
"hidden": false,
"locked": false
},
{
"code": ">>> assert(math.isclose(np.max(data_wrist_force_successful), 20.46056888454263, rel_tol=0.001))\n",
"hidden": false,
"locked": false
},
{
"code": ">>> assert(math.isclose(np.max(data_wrist_force_failed), 18.862565694678903, rel_tol=0.001))\n",
"hidden": false,
"locked": false
}
],
"scored": true,
"setup": "",
"teardown": "",
"type": "doctest"
}
]
},
"Fitted line code": {
"name": "Fitted line code",
"points": 2,
"suites": [
{
"cases": [
{
"code": ">>> assert(math.isclose(np.mean(end_times_successful, 0)[0], 3.98791579e-01, rel_tol=0.001))\n",
"hidden": false,
"locked": false
},
{
"code": ">>> assert(math.isclose(np.mean(end_times_successful, 0)[1], 4.07402569e+02, rel_tol=0.001))\n",
"hidden": false,
"locked": false
},
{
"code": ">>> assert(math.isclose(np.mean(end_times_failed, 0)[0], 0.40810473, rel_tol=0.001))\n",
"hidden": false,
"locked": false
},
{
"code": ">>> assert(math.isclose(np.mean(end_times_failed, 0)[1], 392.76044707, rel_tol=0.001))\n",
"hidden": false,
"locked": false
}
],
"scored": true,
"setup": "",
"teardown": "",
"type": "doctest"
}
]
},
"Read data": {
"name": "Read data",
"points": 1,
"suites": [
{
"cases": [
{
"code": ">>> assert(data_successful.shape == (355, 40) and data_failed.shape == (305, 40))\n",
"hidden": false,
"locked": false
}
],
"scored": true,
"setup": "",
"teardown": "",
"type": "doctest"
}
]
},
"hours_collaborators": {
"name": "hours_collaborators",
"points": 1,
"suites": [
{
"cases": [
{
"code": ">>> assert(not \"not filled out\" in worked_with_names)\n",
"hidden": false,
"locked": false
},
{
"code": ">>> assert(not \"not filled out\" in websites)\n",
"hidden": false,
"locked": false
},
{
"code": ">>> assert(hours > 0)\n",
"hidden": false,
"locked": false
}
],
"scored": true,
"setup": "",
"teardown": "",
"type": "doctest"
}
]
}
}
}
},
"nbformat": 4,
"nbformat_minor": 2
}