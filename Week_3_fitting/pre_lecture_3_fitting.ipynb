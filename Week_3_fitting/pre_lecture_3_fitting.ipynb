{
 "cells": [
  {
   "cell_type": "code",
   "execution_count": null,
   "metadata": {
    "deletable": false,
    "editable": false
   },
   "outputs": [],
   "source": [
    "# Initialize Otter\n",
    "import otter\n",
    "grader = otter.Notebook(\"pre_lecture_3_fitting.ipynb\")"
   ]
  },
  {
   "cell_type": "markdown",
   "metadata": {},
   "source": [
    "# Fit a line to the middle part of the finger 1 motor positions\n",
    "\n",
    "It might be helpful to look at the instruction/background slides before tackling this\n",
    "\n",
    "https://docs.google.com/presentation/d/1hyhp0ysWjc-7BCcchIegC24evaC-B7A-M829dOsfi_s/edit?usp=sharing\n",
    "\n",
    "Lecture goals:\n",
    "- Extract a subset of data based on conditions\n",
    "- Use linregress to approximate linear data"
   ]
  },
  {
   "cell_type": "code",
   "execution_count": null,
   "metadata": {},
   "outputs": [],
   "source": [
    "# Doing the imports for you\n",
    "import numpy as np\n",
    "import json as json\n",
    "from scipy.stats import linregress\n",
    "import matplotlib.pyplot as plt"
   ]
  },
  {
   "cell_type": "markdown",
   "metadata": {},
   "source": [
    "# Read the motor position data in\n",
    "The motor position data has already been cut out and put in separate .csv files for you (see Lecture script, slides)\n",
    "Just read it in"
   ]
  },
  {
   "cell_type": "code",
   "execution_count": null,
   "metadata": {
    "tags": []
   },
   "outputs": [],
   "source": [
    "\n",
    "# Read in week3_Motor position f1_success and failed .csv files\n",
    "data_successful = ...  # week3_Motor position f1_successful.csv\n",
    "data_failed = ...  # week3_Motor position f1_failed.csv\n",
    "# END PROMPT\"\"\"\n"
   ]
  },
  {
   "cell_type": "code",
   "execution_count": null,
   "metadata": {
    "deletable": false,
    "editable": false
   },
   "outputs": [],
   "source": [
    "grader.check(\"Read data\")"
   ]
  },
  {
   "cell_type": "markdown",
   "metadata": {},
   "source": [
    "# Fit a line to the middle points\n",
    "\n",
    "Doing this as a function so you can use it twice\n",
    "Some decisions\n",
    "1) Pass in the data as two arrays, the t and y values\n",
    "       Use this function to pull out the \"middle\" bit\n",
    "2) Returns the points of intersection with the min/max values (rather than slope and intercept) because in the long run that's what we care about (where the motor started and stopped)\n",
    "3) The eps is a \"fudge factor\" so that you can clip out data above/below a threshhold\n",
    "\n",
    "Two ways to do this:\n",
    "1) Clip with a fudge factor, use np.logical_and fudge factor should be d_y = eps * (y_max - y_min), \n",
    "   take all points y_min + d_y < y < y_max - dy\n",
    "2) Use np.where to find the first index > y_min + d_y (or < y_max - d_y)\n",
    "    np.where returns an array of arrays; use index[0][0] to get the value out\n",
    "    Then use start:end to get the values out of ts, ys\n",
    "\n",
    "## Implementation steps (suggested)\n",
    "\n",
    "Step 1: Start with just fitting the entire data and drawing the resulting line\n",
    "    Use y = mx + b equation to find start/stop points from slope/intercept\n",
    "       Find max/min y values, and plug those into the equation\n",
    "    You should get something that goes roughly from the bottom left to the top right of the original data\n",
    "\n",
    "Step 2: Clip just the y_max values by using boolean indexing to keep just part of the array\n",
    "   Alternate: Use np.where to find the max value, extract the ending index, and use 0:end_index\n",
    "\n",
    "Step 3: Clip both ends at the same time (change the boolean indexing to use a logical_and)\n",
    "    Alternate: Use np.where a second time to find the min value, extract the starting index"
   ]
  },
  {
   "cell_type": "code",
   "execution_count": null,
   "metadata": {
    "tags": []
   },
   "outputs": [],
   "source": [
    "def fit_line_to_middle_bit(ts, ys, eps=1e-2):\n",
    "    \"\"\" Fit a line to the sloped middle bit of the data\n",
    "      Return the line as a pair of points, one where the fitted line crosses the y min value, one where the line crosses\n",
    "      the y max value (see slides for picture)\n",
    "      Reminder; Use & to do an AND of two boolean conditions\n",
    "    @param ts - the time values for the data (x-axis)\n",
    "    @param ys - the function values (y-axis)\n",
    "    @param eps - a fudge factor for clipping the middle bit\n",
    "    @returns (x_min, y_min), (x_max, y_max)  (two tuples)\"\"\"\n",
    "\n",
    "\n",
    "    # Indices 8-12 should be True for first row successful\n",
    "    # Slope should be 654.xxx, intercept 162.xxx for first row successful\n",
    "    y_min = ...\n",
    "    y_max = ...\n",
    "    x_min = ...\n",
    "    x_max = ...\n",
    "    # END PROMPT\"\"\"\n",
    "    return (x_min, y_min), (x_max, y_max)\n"
   ]
  },
  {
   "cell_type": "code",
   "execution_count": null,
   "metadata": {
    "deletable": false,
    "editable": false
   },
   "outputs": [],
   "source": [
    "grader.check(\"Fit middle\")"
   ]
  },
  {
   "cell_type": "markdown",
   "metadata": {},
   "source": [
    "# Plot the results\n",
    "Plot the successful data on the left, the failed on the right\n",
    "For each plot, plot the data, the fitted line, and red X's for the start/stop end points of the line (see slides)"
   ]
  },
  {
   "cell_type": "code",
   "execution_count": null,
   "metadata": {
    "tags": []
   },
   "outputs": [],
   "source": [
    "n_rows = 1\n",
    "n_cols = 2\n",
    "fig, axs = plt.subplots(n_rows, n_cols)\n",
    "\n",
    "# BEGIN_SOLUTION NO_PROMPT\n",
    "# Know time step\n",
    "time_step = 1/30\n",
    "ts = np.arange(start=0, stop=data_successful.shape[1] * time_step, step=time_step)\n",
    "\n",
    "pt_start, pt_end = fit_line_to_middle_bit(ts, data_successful[0])\n",
    "axs[0].plot(ts, data_successful[0], '-b', label=f\"Motor position f1\")\n",
    "axs[0].plot([pt_start[0], pt_end[0]], [pt_start[1], pt_end[1]], ':k', label=\"fitted line\")\n",
    "axs[0].plot([pt_start[0], pt_end[0]], [pt_start[1], pt_end[1]], 'Xr')\n",
    "axs[0].set_title(f\"Succesful t={pt_end[0]}\")\n",
    "axs[0].legend()\n",
    "\n",
    "pt_start, pt_end = fit_line_to_middle_bit(ts, data_failed[0])\n",
    "axs[1].plot(ts, data_successful[0], '-b', label=f\"Motor position f1\")\n",
    "axs[1].plot([pt_start[0], pt_end[0]], [pt_start[1], pt_end[1]], ':k', label=\"fitted line\")\n",
    "axs[1].plot([pt_start[0], pt_end[0]], [pt_start[1], pt_end[1]], 'Xr')\n",
    "axs[1].set_title(f\"Failed t={pt_end[0]}\")\n",
    "axs[1].legend()\n",
    "\n",
    "# END_SOLUTION\n",
    "\n",
    "# Create t values with appropriate step size\n",
    "ts = ...\n",
    "# Plot original data and fitted line (see slides)\n",
    "#   Put the end time value in the title\n",
    "# END PROMPT\"\"\"\n",
    "plt.tight_layout()\n"
   ]
  },
  {
   "cell_type": "code",
   "execution_count": null,
   "metadata": {
    "deletable": false,
    "editable": false
   },
   "outputs": [],
   "source": [
    "grader.check(\"Plot\")"
   ]
  },
  {
   "cell_type": "markdown",
   "metadata": {},
   "source": [
    "## Hours and collaborators\n",
    "Required for every assignment - fill out before you hand-in.\n",
    "\n",
    "Listing names and websites helps you to document who you worked with and what internet help you received in the case of any plagiarism issues. You should list names of anyone (in class or not) who has substantially helped you with an assignment - or anyone you have *helped*. You do not need to list TAs.\n",
    "\n",
    "Listing hours helps us track if the assignments are too long."
   ]
  },
  {
   "cell_type": "code",
   "execution_count": null,
   "metadata": {
    "tags": []
   },
   "outputs": [],
   "source": [
    "\n",
    "# List of names (creates a set)\n",
    "worked_with_names = {\"not filled out\"}\n",
    "# List of URLS (creates a set)\n",
    "websites = {\"not filled out\"}\n",
    "# Approximate number of hours, including lab/in-class time\n",
    "hours = -1.5\n",
    "\n",
    "# for all row, column in all_indices_from_where\n",
    "#.   if this is the column for wrist torque \n",
    "#.      print(f\"Row: {r}, Time step: {c // n_time_steps} Successful y/n: {pick_data[r, -1] == 1}, value: {pick_data[r, c]}\")"
   ]
  },
  {
   "cell_type": "code",
   "execution_count": null,
   "metadata": {
    "deletable": false,
    "editable": false
   },
   "outputs": [],
   "source": [
    "grader.check(\"hours_collaborators\")"
   ]
  },
  {
   "cell_type": "markdown",
   "metadata": {
    "deletable": false,
    "editable": false
   },
   "source": [
    "## Submission\n",
    "\n",
    "Make sure you have run all cells in your notebook in order before running the cell below, so that all images/graphs appear in the output. The cell below will generate a zip file for you to submit. **Please save before exporting!**\n",
    "\n",
    "Submit through gradescope, week 3 pre-lecture"
   ]
  },
  {
   "cell_type": "code",
   "execution_count": null,
   "metadata": {
    "deletable": false,
    "editable": false
   },
   "outputs": [],
   "source": [
    "# Save your notebook first, then run this cell to export your submission.\n",
    "grader.export(run_tests=True)"
   ]
  },
  {
   "cell_type": "markdown",
   "metadata": {},
   "source": [
    " "
   ]
  }
 ],
 "metadata": {
  "kernelspec": {
   "display_name": "Python 3",
   "language": "python",
   "name": "python3"
  },
  "language_info": {
   "codemirror_mode": {
    "name": "ipython",
    "version": 3
   },
   "file_extension": ".py",
   "mimetype": "text/x-python",
   "name": "python",
   "nbconvert_exporter": "python",
   "pygments_lexer": "ipython3",
   "version": "3.7.4"
  },
  "otter": {
   "OK_FORMAT": true,
   "tests": {
    "Fit middle": {
     "name": "Fit middle",
     "points": 2,
     "suites": [
      {
       "cases": [
        {
         "code": ">>> fit_line_to_middle_bit(np.linspace(0, 1, 9), np.array([0, 0, 0, 0.25, 0.5, 0.75, 1, 1, 1]), eps=0.001) == ((0.25, 0.0), (0.75, 1.0))\nTrue",
         "hidden": false,
         "locked": false
        }
       ],
       "scored": true,
       "setup": "",
       "teardown": "",
       "type": "doctest"
      }
     ]
    },
    "Plot": {
     "name": "Plot",
     "points": 2,
     "suites": [
      {
       "cases": [
        {
         "code": ">>> assert(len(axs[0].lines) == 3 and len(axs[1].lines) == 3)\n",
         "hidden": false,
         "locked": false
        }
       ],
       "scored": true,
       "setup": "",
       "teardown": "",
       "type": "doctest"
      }
     ]
    },
    "Read data": {
     "name": "Read data",
     "points": 1,
     "suites": [
      {
       "cases": [
        {
         "code": ">>> assert(data_successful.shape == (355, 40) and data_failed.shape == (305, 40))\n",
         "hidden": false,
         "locked": false
        }
       ],
       "scored": true,
       "setup": "",
       "teardown": "",
       "type": "doctest"
      }
     ]
    },
    "hours_collaborators": {
     "name": "hours_collaborators",
     "points": 1,
     "suites": [
      {
       "cases": [
        {
         "code": ">>> assert(not \"not filled out\" in worked_with_names)\n",
         "hidden": false,
         "locked": false
        },
        {
         "code": ">>> assert(not \"not filled out\" in websites)\n",
         "hidden": false,
         "locked": false
        },
        {
         "code": ">>> assert(hours > 0)\n",
         "hidden": false,
         "locked": false
        }
       ],
       "scored": true,
       "setup": "",
       "teardown": "",
       "type": "doctest"
      }
     ]
    }
   }
  }
 },
 "nbformat": 4,
 "nbformat_minor": 2
}
