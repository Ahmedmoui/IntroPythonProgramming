{
 "cells": [
  {
   "cell_type": "code",
   "execution_count": null,
   "metadata": {
    "deletable": false,
    "editable": false
   },
   "outputs": [],
   "source": [
    "# Initialize Otter\n",
    "import otter\n",
    "grader = otter.Notebook(\"Lab_4_data_fitting.ipynb\")"
   ]
  },
  {
   "cell_type": "markdown",
   "metadata": {},
   "source": [
    "# Lab week 4: Data fitting to see if we can detect a pick success y/n\n",
    "\n",
    "Can you use the finger 1 stop time and max value to tell the difference between a successful and a failed pick?\n",
    "Lab slides: https://docs.google.com/presentation/d/1NtoXYbl2nq1dkIU0KQE8ogjSCfb22wgLigY3JJpHHGI/edit?usp=sharing\n"
   ]
  },
  {
   "cell_type": "code",
   "execution_count": null,
   "metadata": {},
   "outputs": [],
   "source": [
    "# Install a pip package in the current Jupyter kernel\n",
    "# Note: this is a safety check in case your JN install was not in the same place as your libraries\n",
    "import sys\n",
    "!{sys.executable} -m pip install scipy"
   ]
  },
  {
   "cell_type": "code",
   "execution_count": null,
   "metadata": {},
   "outputs": [],
   "source": [
    "# Doing the imports for you\n",
    "import numpy as np\n",
    "import json as json\n",
    "from scipy.stats import linregress\n",
    "import matplotlib.pyplot as plt\n",
    "from numpy.polynomial import polynomial"
   ]
  },
  {
   "cell_type": "markdown",
   "metadata": {
    "deletable": false,
    "editable": false
   },
   "source": [
    "## Read the data in "
   ]
  },
  {
   "cell_type": "code",
   "execution_count": null,
   "metadata": {
    "tags": []
   },
   "outputs": [],
   "source": [
    "# Read the same data in as for pre_lecture_3.py data in and put it in the data_ variables\n",
    "\n",
    "# Read in week3_Motor position f1_success and failed\n",
    "data_successful = ...  # Motor position f1_successful.csv\n",
    "data_failed = ...  # Motor position f1_failed.csv\n",
    "# END PROMPT\"\"\"\n"
   ]
  },
  {
   "cell_type": "code",
   "execution_count": null,
   "metadata": {
    "deletable": false,
    "editable": false
   },
   "outputs": [],
   "source": [
    "grader.check(\"Read data\")"
   ]
  },
  {
   "cell_type": "markdown",
   "metadata": {
    "deletable": false,
    "editable": false
   },
   "source": [
    "## Box plot of fitted lines for all data\n",
    "\n",
    "In the lecture activity you fit a line to just one row (each) of the successful versus failed picks. In this lab you'll fit the line to ALL of the picks. For each pick, save the end point (time at the y_max value and the y_max value). You'll be making a box plot of this data to see if it looks different for successful versus failed picks.\n",
    "\n",
    "Why a box plot? Box plots are better for visually showing multiple distributions in the same plot, where they can be compared side-by-side\n",
    "\n",
    "See lab slides for what this should look like when you're done."
   ]
  },
  {
   "cell_type": "code",
   "execution_count": null,
   "metadata": {
    "tags": []
   },
   "outputs": [],
   "source": [
    "\n",
    "# TODO: Copy the fit_line_to_middle_bit function here\n",
    "# END PROMPT\"\"\"\n"
   ]
  },
  {
   "cell_type": "code",
   "execution_count": null,
   "metadata": {
    "tags": []
   },
   "outputs": [],
   "source": [
    "# TEST CELL\n",
    "# TODO: Check that it works\n",
    "#. - Create t values\n",
    "#  - Call fit_line_to_middle_bit with the first row of the successful data and see if your answers\n",
    "#. match the answers from lecture activity\n",
    "\n",
    "..."
   ]
  },
  {
   "cell_type": "code",
   "execution_count": null,
   "metadata": {
    "tags": []
   },
   "outputs": [],
   "source": [
    "# EXAMPLE CODE\n",
    "# This bit of code shows how to do the nx2 array part\n",
    "\n",
    "# Make the nx2 array - one row for each element\n",
    "np_array_for_res = np.zeros((data_successful.shape[0], 2))\n",
    "# For each row\n",
    "for row in range(0, data_successful.shape[0]):\n",
    "    # Put the min value in the first column, the max in the second\n",
    "    np_array_for_res[row, 0] = np.min(data_successful[row, :])    \n",
    "    np_array_for_res[row, 1] = np.max(data_successful[row, :])\n",
    "\n",
    "    # This also works\n",
    "    min_value = np.min(data_successful[row, :]) \n",
    "    max_value = np.max(data_successful[row, :])\n",
    "    np_array_for_res[row, :] = [min_value, max_value]\n",
    "\n",
    "print(np_array_for_res)"
   ]
  },
  {
   "cell_type": "code",
   "execution_count": null,
   "metadata": {
    "tags": []
   },
   "outputs": [],
   "source": [
    "def fit_middle_all(ts, data):\n",
    "    \"\"\" Fit the middle for every row of data\n",
    "    @param ts - the t values to use\n",
    "    @param data - n picks X timesteps\n",
    "    @returns all end times, max values as one numpy array (n picks X 2)\"\"\"\n",
    "\n",
    "\n",
    "    # TODO:\n",
    "    #.    make numpy array to put data in (nx2)\n",
    "    #.    for each row in data\n",
    "    #.       start_pt, end_pt = fit_line_to_middle_bit(ts, current row)\n",
    "    #        copy end_pt information into appropriate row in nx2 output\n",
    "    #. return nx2 numpy array\n",
    "    ...\n",
    "# END PROMPT \"\"\""
   ]
  },
  {
   "cell_type": "code",
   "execution_count": null,
   "metadata": {
    "tags": []
   },
   "outputs": [],
   "source": [
    "# TEST CELL\n",
    "# Write the code to call the function here\n",
    "\n",
    "\n",
    "# TODO:\n",
    "#  Create the t values\n",
    "#. Call your function twice, once with the successful data, once with the failed\n",
    "end_times_successful = ...\n",
    "end_times_failed = ...\n",
    "# END PROMPT\"\"\"\n",
    "\n",
    "# Note for both of these: Small changes in how you index can result in slightly different numbers,\n",
    "#  but the overall magnitude should be correct\n",
    "\n",
    "# Note: Doing np.mean(nx2 array, 0) tells numpy to do the mean over each column (instead of the mean\n",
    "#  over the entire nx2 array). So it should return 2 numbers - the mean of the times and the mean\n",
    "#  of the y intercepts\n",
    "\n",
    "# Should print Mean successful [3.98791579e-01 4.07402569e+02] and failed [  0.40810473 392.76044707]\n",
    "print(f\"Mean successful {np.mean(end_times_successful, 0)} and failed {np.mean(end_times_failed, 0)}\")\n",
    "\n",
    "# Should print First successful [4.09512247e-01 4.29880005e+02] and first failed [4.10117354e-01 4.29791992e+02]\n",
    "print(f\"First successful {end_times_successful[0]} and first failed {end_times_failed[0]}\")\n"
   ]
  },
  {
   "cell_type": "code",
   "execution_count": null,
   "metadata": {
    "deletable": false,
    "editable": false
   },
   "outputs": [],
   "source": [
    "grader.check(\"Fitted_line_code\")"
   ]
  },
  {
   "cell_type": "markdown",
   "metadata": {
    "deletable": false,
    "editable": false
   },
   "source": [
    "<!-- BEGIN QUESTION -->\n",
    "\n",
    "## Do the box plots\n",
    "\n",
    "- Left window: t values of y_max point (the first column of end_times_*)\n",
    "\n",
    "- Right window: y_max values (the sceond column of end_times_*)\n",
    "\n",
    "Note that boxplot uses labels for labeling the x axis of the box plot.\n",
    "\n",
    "Implementation order: for plotting, try calling box plot with just one column of data. Then add the second. "
   ]
  },
  {
   "cell_type": "code",
   "execution_count": null,
   "metadata": {
    "tags": []
   },
   "outputs": [],
   "source": [
    "# Two plots\n",
    "n_rows = 1\n",
    "n_cols = 2\n",
    "fig, axs = plt.subplots(n_rows, n_cols, figsize=(8, 4))\n",
    "\n",
    "...\n",
    "\n",
    "# Do the box plots..."
   ]
  },
  {
   "cell_type": "code",
   "execution_count": null,
   "metadata": {
    "tags": []
   },
   "outputs": [],
   "source": [
    "# Manual grade\n",
    "print(\"This is a manually-graded question; there is no grader.check() function. See rubric and slides for more information on expected output.\")"
   ]
  },
  {
   "cell_type": "markdown",
   "metadata": {
    "deletable": false,
    "editable": false
   },
   "source": [
    "<!-- END QUESTION -->\n",
    "\n",
    "<!-- BEGIN QUESTION -->\n",
    "\n",
    "Looking at the plots, do you think there is a difference between the successful versus failed data? Which would you use, time or max y value? Write your answer in the next cell.\n"
   ]
  },
  {
   "cell_type": "markdown",
   "metadata": {},
   "source": [
    "_Type your answer here, replacing this text._"
   ]
  },
  {
   "cell_type": "markdown",
   "metadata": {
    "deletable": false,
    "editable": false
   },
   "source": [
    "<!-- END QUESTION -->\n",
    "\n",
    "# Part 2: Fitting a curve to the wrist force data\n",
    "\n",
    "## First step: Getting the data\n",
    "\n",
    "\n",
    "The wrist force data has three channels (x,y,z). For this assignment, we want to get out the total summed force at the wrist, rather than each channel individually:\n",
    "\n",
    "Equation: **sqrt (sum x,y,z (wrist force data)^2)**\n",
    "\n",
    "Just like the last problem, the data has already been extracted from the proxy_pick_data.csv file and output for you (Wrist force_summed_*.csv). \n",
    "\n",
    "Optional: Do this extraction yourself. Read in wrist force data, sum it, and write it out to two csv files (one for successful, one for failed). Your homework code should be easy to change to do this."
   ]
  },
  {
   "cell_type": "code",
   "execution_count": null,
   "metadata": {
    "tags": []
   },
   "outputs": [],
   "source": [
    "\n",
    "# TODO: Read in the data from Data/Wrist_force summed*.csv (successful and failed)\n",
    "# TODO: Optional: Read in the pick data and its description file, extract out the rows and columns you\n",
    "#. care about, and write that data out (should be same as the .csv files)\n",
    "data_wrist_force_successful = ...\n",
    "data_wrist_force_failed = ...\n",
    "# END PROMPT\"\"\"\n"
   ]
  },
  {
   "cell_type": "code",
   "execution_count": null,
   "metadata": {
    "tags": []
   },
   "outputs": [],
   "source": [
    "# Optional: If you do the extraction and sum yourself, put that code here"
   ]
  },
  {
   "cell_type": "code",
   "execution_count": null,
   "metadata": {
    "deletable": false,
    "editable": false
   },
   "outputs": [],
   "source": [
    "grader.check(\"Fit_curve\")"
   ]
  },
  {
   "cell_type": "markdown",
   "metadata": {
    "deletable": false,
    "editable": false
   },
   "source": [
    "<!-- BEGIN QUESTION -->\n",
    "\n",
    "## Second step: Fit a cubic to the wrist force data (18 rows each successful/failed)\n",
    "\n",
    "Split by successful and failed.\n",
    "\n",
    "TODO: See slides for what the final plots should look like. I've handled the for loop and the plot indexing for you.\n",
    "\n",
    "At this point, you should have the data in the form ts, ys for both the successful and the failed data. \n",
    "\n",
    "Where you're headed (pseudo code)\n",
    "\n",
    "```python\n",
    "- for 18/2 plots\n",
    "-   for successful/failed\n",
    "-      fit a cubic polynomial to the data\n",
    "-      plot the data and the fitted polynomial\n",
    "```\n",
    "\n",
    "Implementation steps: You could write a function for doing the polynomial fit, but since there already is one (polynomial.polyval) you probably don't need one.\n",
    "\n",
    "Steps (use the scratch cell to do the first part)\n",
    "- Fit polynomial for one row of data\n",
    "- Plot it and make sure it looks correct\n",
    "- Copy that code into the for loop, adjusting for which row (p) and which subplot (axs[r, c])\n",
    "\n",
    "Note: It can take a few seconds to plot.\n",
    "\n",
    "Note 2: This is really only two lines of code; but you should spend some time understanding the provided code. "
   ]
  },
  {
   "cell_type": "code",
   "execution_count": null,
   "metadata": {
    "tags": []
   },
   "outputs": [],
   "source": [
    "# EXAMPLE CODE - row column indexing, how to put n things into a grid\n",
    "\n",
    "# If you have n things, and you want to put them in r rows, first figure out how many columns you'll need\n",
    "#  Integer division: \n",
    "#    n // r  gives the number of times r can go into n\n",
    "#    n % r gives the left over - it is always in the range 0 to n-1\n",
    "n = 15\n",
    "r = 4\n",
    "c = n // r  # this gives the floor of n / r, which in this case will be 15/4 is 3\n",
    "if n % r != 0:  # % is modulus - unless r goes exactly into n we need to add a bit (some of the last columns will be empty)\n",
    "    c += 1   # Make c one bigger\n",
    "\n",
    "# Go through all of n\n",
    "for i in range(0, n):\n",
    "    row = i // r   # Which row we're on\n",
    "    col = i % r    # Which column we're on\n",
    "    end_str = \" \"       # Use a space at the end of the pring\n",
    "    if col == r-1:\n",
    "        end_str = \"\\n\"  # ... except at the end of the row\n",
    "    print(f\"n{i}r{row}c{col} \", end=end_str)  # No return\n"
   ]
  },
  {
   "cell_type": "code",
   "execution_count": null,
   "metadata": {
    "tags": []
   },
   "outputs": [],
   "source": [
    "# EXAMPLE CODE - zip\n",
    "# These two pieces of code do the same thing\n",
    "a_str = (\"foo\", \"bar\")\n",
    "b_number = (3, 10)\n",
    "for i in range(len(a_str)):\n",
    "    a = a_str[i]\n",
    "    b = b_number[i]\n",
    "    print(f\"Loop iteration {i} has {a} and {b}\")\n",
    "\n",
    "# Look, no i!\n",
    "for a, b in zip(a_str, b_number):\n",
    "    print(f\"Loop iteration... um... has {a} and {b}\")"
   ]
  },
  {
   "cell_type": "code",
   "execution_count": null,
   "metadata": {
    "tags": []
   },
   "outputs": [],
   "source": [
    "# SCRATCH CELL\n",
    "# Practice the polynomial fit with one row of data\n",
    "# Plot the data, plot the fitted polynomial\n",
    "# You'll need ts to do both of these"
   ]
  },
  {
   "cell_type": "code",
   "execution_count": null,
   "metadata": {
    "tags": []
   },
   "outputs": [],
   "source": [
    "n_rows = 6\n",
    "n_cols = 6\n",
    "fig, axs = plt.subplots(n_rows, n_rows, figsize=(10, 10))\n",
    "\n",
    "ch_name = \"WF sum\"\n",
    "# This loops over the first half of the rows\n",
    "for p in range(0, (n_rows // 2) * n_cols):\n",
    "    # This is fancy python-ness to have the first time through the loop\n",
    "    #   - first time, the row offset is 0, the data is data_wrist_force_successful, the str_title is \"suc\"\n",
    "    #   - second time, the row offset is 3, the data is data_wrist_force_failed, the str_title is \"fail\"\n",
    "    for row_offset, data, str_title in zip((0, 3), (data_wrist_force_successful, data_wrist_force_failed), (\"suc\", \"fail\")):\n",
    "        # Yes, this works - it's the same as doing r = row_offset + p // ncols on one line,\n",
    "        #   and c = p % n_cols on the second line\n",
    "        r, c = row_offset + p // n_cols, p % n_cols\n",
    "        axs[r, c].plot(ts, data_wrist_force_successful[p], label=\"Data\")\n",
    "\n",
    "        # Fit a polynomial of degree 3 to the variable data\n",
    "        # Then plot the polynomial\n",
    "        ...\n",
    "\n",
    "        axs[r, c].set_xlabel(\"time (s)\")\n",
    "        axs[r, c].set_ylabel(\"N.m\")\n",
    "        # Build the title string from the channel name and the success/failed string\n",
    "        axs[r, c].set_title(f\"{ch_name} \" + str_title, fontsize=10)\n",
    "\n",
    "plt.tight_layout()"
   ]
  },
  {
   "cell_type": "code",
   "execution_count": null,
   "metadata": {
    "tags": []
   },
   "outputs": [],
   "source": [
    "# Manual grade\n",
    "print(\"This is a manually-graded question; there is no grader.check() function. See rubric and slides for more information on expected output.\")"
   ]
  },
  {
   "cell_type": "markdown",
   "metadata": {
    "deletable": false,
    "editable": false
   },
   "source": [
    "<!-- END QUESTION -->\n",
    "\n",
    "## Hours and collaborators\n",
    "Required for every assignment - fill out before you hand-in.\n",
    "\n",
    "Listing names and websites helps you to document who you worked with and what internet help you received in the case of any plagiarism issues. You should list names of anyone (in class or not) who has substantially helped you with an assignment - or anyone you have *helped*. You do not need to list TAs.\n",
    "\n",
    "Listing hours helps us track if the assignments are too long."
   ]
  },
  {
   "cell_type": "code",
   "execution_count": null,
   "metadata": {
    "tags": []
   },
   "outputs": [],
   "source": [
    "\n",
    "# List of names (creates a set)\n",
    "worked_with_names = {\"not filled out\"}\n",
    "# List of URLS TCW3 (creates a set)\n",
    "websites = {\"not filled out\"}\n",
    "# Approximate number of hours, including lab/in-class time\n",
    "hours = -1.5"
   ]
  },
  {
   "cell_type": "code",
   "execution_count": null,
   "metadata": {
    "deletable": false,
    "editable": false
   },
   "outputs": [],
   "source": [
    "grader.check(\"hours_collaborators\")"
   ]
  },
  {
   "cell_type": "markdown",
   "metadata": {
    "deletable": false,
    "editable": false
   },
   "source": [
    "## Submission\n",
    "\n",
    "Make sure you have run all cells in your notebook in order before running the cell below, so that all images/graphs appear in the output. The cell below will generate a zip file for you to submit. **Please save before exporting!**\n",
    "\n",
    "Submit through gradescope, lab 4 data analysis. Turn in just the .ipynb file - we will supply the data files."
   ]
  },
  {
   "cell_type": "code",
   "execution_count": null,
   "metadata": {
    "deletable": false,
    "editable": false
   },
   "outputs": [],
   "source": [
    "# Save your notebook first, then run this cell to export your submission.\n",
    "grader.export(pdf=False, run_tests=True)"
   ]
  },
  {
   "cell_type": "markdown",
   "metadata": {},
   "source": [
    " "
   ]
  }
 ],
 "metadata": {
  "kernelspec": {
   "display_name": "Python 3",
   "language": "python",
   "name": "python3"
  },
  "language_info": {
   "codemirror_mode": {
    "name": "ipython",
    "version": 3
   },
   "file_extension": ".py",
   "mimetype": "text/x-python",
   "name": "python",
   "nbconvert_exporter": "python",
   "pygments_lexer": "ipython3",
   "version": "3.11.4"
  },
  "otter": {
   "OK_FORMAT": true,
   "tests": {
    "Fit_curve": {
     "name": "Fit_curve",
     "points": 2,
     "suites": [
      {
       "cases": [
        {
         "code": ">>> assert(data_wrist_force_successful.shape[0] == 355)\n",
         "hidden": false,
         "locked": false
        },
        {
         "code": ">>> assert(data_wrist_force_failed.shape[0] == 305)\n",
         "hidden": false,
         "locked": false
        },
        {
         "code": ">>> assert(np.isclose(np.max(data_wrist_force_successful), 20.46056888454263, atol=0.1))\n",
         "hidden": false,
         "locked": false
        },
        {
         "code": ">>> assert(np.isclose(np.max(data_wrist_force_failed), 18.862565694678903, atol=0.1))\n",
         "hidden": false,
         "locked": false
        }
       ],
       "scored": true,
       "setup": "",
       "teardown": "",
       "type": "doctest"
      }
     ]
    },
    "Fitted_line_code": {
     "name": "Fitted_line_code",
     "points": 2,
     "suites": [
      {
       "cases": [
        {
         "code": ">>> assert(np.isclose(np.mean(end_times_successful, 0)[0], 3.98791579e-01, atol=0.01))\n",
         "hidden": false,
         "locked": false
        },
        {
         "code": ">>> assert(np.isclose(np.mean(end_times_successful, 0)[1], 4.07402569e+02, atol=10.0))\n",
         "hidden": false,
         "locked": false
        },
        {
         "code": ">>> assert(np.isclose(np.mean(end_times_failed, 0)[0], 0.40810473, atol=0.1))\n",
         "hidden": false,
         "locked": false
        },
        {
         "code": ">>> assert(np.isclose(np.mean(end_times_failed, 0)[1], 392.76044707, atol=10.0))\n",
         "hidden": false,
         "locked": false
        }
       ],
       "scored": true,
       "setup": "",
       "teardown": "",
       "type": "doctest"
      }
     ]
    },
    "Read data": {
     "name": "Read data",
     "points": 1,
     "suites": [
      {
       "cases": [
        {
         "code": ">>> assert(data_successful.shape == (355, 40) and data_failed.shape == (305, 40))\n",
         "hidden": false,
         "locked": false
        }
       ],
       "scored": true,
       "setup": "",
       "teardown": "",
       "type": "doctest"
      }
     ]
    },
    "hours_collaborators": {
     "name": "hours_collaborators",
     "points": 1,
     "suites": [
      {
       "cases": [
        {
         "code": ">>> assert(not \"not filled out\" in worked_with_names)\n",
         "hidden": false,
         "locked": false
        },
        {
         "code": ">>> assert(not \"not filled out\" in websites)\n",
         "hidden": false,
         "locked": false
        },
        {
         "code": ">>> assert(hours > 0)\n",
         "hidden": false,
         "locked": false
        }
       ],
       "scored": true,
       "setup": "",
       "teardown": "",
       "type": "doctest"
      }
     ]
    }
   }
  }
 },
 "nbformat": 4,
 "nbformat_minor": 2
}
