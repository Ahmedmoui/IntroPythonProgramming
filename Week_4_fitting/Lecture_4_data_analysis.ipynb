{
 "cells": [
  {
   "cell_type": "markdown",
   "metadata": {},
   "source": [
    "# Lecture 3: Data manipulation for data analysis\n",
    "\n",
    "Process/manipulate the data to make it easier to do the desired analysis (do the successful picks look different than the unsuccessful ones?)\n"
   ]
  },
  {
   "cell_type": "code",
   "execution_count": null,
   "metadata": {},
   "outputs": [],
   "source": [
    "# Install a pip package in the current Jupyter kernel\n",
    "# Note: this is a safety check in case your JN install was not in the same place as your libraries\n",
    "import sys\n",
    "!{sys.executable} -m pip install csv"
   ]
  },
  {
   "cell_type": "code",
   "execution_count": null,
   "metadata": {},
   "outputs": [],
   "source": [
    "import numpy as np\n",
    "import json as json\n",
    "import matplotlib.pyplot as plt\n",
    "import csv"
   ]
  },
  {
   "cell_type": "markdown",
   "metadata": {},
   "source": [
    "## Manipulation 1: Make it easier to access a channel by name\n",
    "\n",
    "Read in the data description add the \"By name\" dictionary, and write out\n",
    "Note the use of the .. in order to get a file from the next directory over."
   ]
  },
  {
   "cell_type": "code",
   "execution_count": null,
   "metadata": {},
   "outputs": [],
   "source": [
    "try:\n",
    "    with open(\"Data/HW1_check_results.json\", \"r\") as fp:\n",
    "        pick_data_description = json.load(fp)\n",
    "\n",
    "        pick_data_description[\"By name\"] = {}\n",
    "        for i, d in enumerate(pick_data_description[\"Data channels\"]):\n",
    "            pick_data_description[\"By name\"][d[\"name\"]] = i\n",
    "\n",
    "    with open(\"Data/HW1_check_results.json\", \"w\") as fp:\n",
    "        json.dump(pick_data_description, fp)\n",
    "\n",
    "except FileNotFoundError:\n",
    "    print(f\"The file was not found; check that the data directory is in the current one and the file is in that directory\")\n"
   ]
  },
  {
   "cell_type": "markdown",
   "metadata": {},
   "source": [
    "## Manipulation 2: Reorganize into an n-pick X data channel X n time steps array\n",
    "\n",
    "Also separate out the pick succes y/n column.\n",
    "This was an optional assignment, btw."
   ]
  },
  {
   "cell_type": "code",
   "execution_count": null,
   "metadata": {},
   "outputs": [],
   "source": [
    "pick_data = np.loadtxt(\"Data/proxy_pick_data.csv\", dtype=\"float\", delimiter=\",\")\n",
    "\n",
    "data_channels = pick_data_description[\"Data channels\"]\n",
    "n_time_steps = pick_data_description[\"n_time_steps\"]\n",
    "n_step_size = pick_data_description[\"n_total_dims\"]\n",
    "time_step = 1/30\n",
    "\n",
    "# Separate the data into pick success y/n and a n_pick X n_channels X n_timesteps array\n",
    "pick_data_success_fail = pick_data[:, -1]\n",
    "pick_data_better = pick_data[:, :-1]\n",
    "n_picks = pick_data.shape[0]\n",
    "pick_data_reorg = pick_data[:, 0:-1].reshape([n_picks, n_step_size, n_time_steps], order='F')"
   ]
  },
  {
   "cell_type": "code",
   "execution_count": null,
   "metadata": {},
   "outputs": [],
   "source": [
    "def my_plot(axs, ts, y_for_all_dim):\n",
    "    for xyz_dim in range(0, 3):\n",
    "        # xyz_torque_data = pick_data_better[0, start_index+xyz_dim::n_step_size]\n",
    "        axs.plot(ts, y_for_all_dim[xyz_dim])\n"
   ]
  },
  {
   "cell_type": "code",
   "execution_count": null,
   "metadata": {},
   "outputs": [],
   "source": [
    "n_rows = 2\n",
    "n_cols = 2\n",
    "fig, axs = plt.subplots(n_rows, n_cols, figsize=(10,10))\n",
    "\n",
    "ts = np.arange(start=0, stop=n_time_steps * 1/30, step=1/30)\n",
    "y_for_all_dim_fancy = np.zeros((3, n_time_steps))\n",
    "\n",
    "for row in [0, 1]:\n",
    "    for channel in [0, 1]:\n",
    "        start_index = data_channels[channel][\"index_offset\"]\n",
    "        y_for_all_dim = []\n",
    "        for xyz_dim in range(0, 3):\n",
    "            xyz_torque_data = pick_data_better[row, start_index+xyz_dim::n_step_size]\n",
    "            y_for_all_dim.append(xyz_torque_data)\n",
    "            y_for_all_dim_fancy[xyz_dim, :] = xyz_torque_data\n",
    "\n",
    "        my_plot(axs[row, channel], ts, y_for_all_dim_fancy)\n",
    "# y_torque_data = pick_data_better[0, start_index+1::n_step_size]\n",
    "#  z_torque_data = pick_data_better[0, start_index+2::n_step_size]\n",
    "\n",
    "# axs[0, 0].plot(ts, y_torque_data)\n",
    "# axs[0, 0].plot(ts, z_torque_data)"
   ]
  },
  {
   "cell_type": "markdown",
   "metadata": {},
   "source": [
    "# Plot all of the channels for one pick \n",
    "See what the data looks like"
   ]
  },
  {
   "cell_type": "code",
   "execution_count": null,
   "metadata": {},
   "outputs": [],
   "source": [
    "# Make sure enough plots (should probably be set by number of channels)\n",
    "n_rows = 6\n",
    "n_cols = 6\n",
    "fig, axs = plt.subplots(n_rows, n_cols, figsize=(10,10))\n",
    "\n",
    "# Pick a row\n",
    "row_to_plot = 0\n",
    "\n",
    "# t values for all plots\n",
    "ts = np.arange(start=0, stop=n_time_steps * time_step, step=time_step)\n",
    "\n",
    "# Keep a running index to figure out which plot to plot in\n",
    "which_plot_index = 0\n",
    "map_xyz = ('x', 'y', 'z')\n",
    "for ch in pick_data_description[\"Data channels\"]:\n",
    "    for xyz in range(0, ch[\"dimensions\"]):\n",
    "        # Use mod & div to decide which row/col to plot in\n",
    "        #   the r,c on the left is an example of packing/unpacking -\n",
    "        #   could do this on two lines, but this \"makes sense\"\n",
    "        r, c = (which_plot_index // n_cols, which_plot_index % n_cols)\n",
    "        axs[r, c].plot(ts, pick_data_reorg[row_to_plot, ch[\"index_offset\"] + xyz, :])\n",
    "        axs[r, c].set_title(ch[\"name\"] + \" \" + map_xyz[xyz], fontsize=10)\n",
    "        which_plot_index += 1  # One of the rare cases to create and increment a loop variable\n",
    "\n",
    "plt.tight_layout()"
   ]
  },
  {
   "cell_type": "markdown",
   "metadata": {},
   "source": [
    "#  Get the data for one channel, one dimension, to make it easier to plot\n",
    "\n",
    "This is set up so that it's easy to change out which channel/dimension to plot.\n",
    "Writing the data out to a csv file for use in lab"
   ]
  },
  {
   "cell_type": "code",
   "execution_count": null,
   "metadata": {},
   "outputs": [],
   "source": [
    "# Name and dimension of the channel we want to plot\n",
    "ch_name = \"Motor position f1\"\n",
    "dim = 0\n",
    "\n",
    "# Use the newly-created dictionary to get the data channel's index\n",
    "data_channel_index = pick_data_description[\"By name\"][ch_name]\n",
    "# ... starting column is index_offset + dimension\n",
    "ch_to_plot = pick_data_description[\"Data channels\"][data_channel_index][\"index_offset\"] + dim\n",
    "\n",
    "# Use boolean indexing to pull out just the successful/failed picks\n",
    "data_successful = pick_data_reorg[pick_data_success_fail == 1, ch_to_plot]\n",
    "data_failed = pick_data_reorg[pick_data_success_fail == 0, ch_to_plot]\n",
    "\n",
    "# Write the separated data out as a csv file\n",
    "with open('Data/' + ch_name + '_successful.csv', 'w') as f:\n",
    "    writer = csv.writer(f)\n",
    "    writer.writerows(data_successful)\n",
    "\n",
    "with open('Data/' + ch_name + '_failed.csv', 'w') as f:\n",
    "    writer = csv.writer(f)\n",
    "    writer.writerows(data_failed)\n"
   ]
  },
  {
   "cell_type": "markdown",
   "metadata": {},
   "source": [
    "# Plot several pick's worth of data to see what it looks like \n",
    "\n",
    "All from the same channel - see how it varies from pick to pick (if it does)\n",
    "Top half is successful picks, bottom half unsuccessful\n"
   ]
  },
  {
   "cell_type": "code",
   "execution_count": null,
   "metadata": {},
   "outputs": [],
   "source": [
    "n_rows = 6\n",
    "n_cols = 6\n",
    "fig, axs = plt.subplots(n_rows, n_rows, figsize=(10, 10))\n",
    "for p in range(0, (n_rows // 2) * n_cols):\n",
    "    r, c = p // n_cols, p % n_cols\n",
    "    axs[r, c].plot(ts, data_successful[p])\n",
    "    axs[r, c].set_title(f\"{ch_name} {map_xyz[dim]}\" + f\" suc {p}\", fontsize=10)\n",
    "\n",
    "for p in range(0, (n_rows // 2) * n_cols):\n",
    "    r, c = 3 + p // n_cols, p % n_cols\n",
    "    axs[r, c].plot(ts, data_failed[p])\n",
    "    axs[r, c].set_title(f\"{ch_name} {map_xyz[dim]}\" + f\" fail {p}\", fontsize=10)\n",
    "\n",
    "plt.tight_layout()\n"
   ]
  },
  {
   "cell_type": "code",
   "execution_count": null,
   "metadata": {},
   "outputs": [],
   "source": []
  }
 ],
 "metadata": {
  "kernelspec": {
   "display_name": "Python 3",
   "language": "python",
   "name": "python3"
  },
  "language_info": {
   "codemirror_mode": {
    "name": "ipython",
    "version": 3
   },
   "file_extension": ".py",
   "mimetype": "text/x-python",
   "name": "python",
   "nbconvert_exporter": "python",
   "pygments_lexer": "ipython3",
   "version": "3.11.4"
  }
 },
 "nbformat": 4,
 "nbformat_minor": 2
}
