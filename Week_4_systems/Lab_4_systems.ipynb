{
"cells": [
{
"cell_type": "code",
"execution_count": null,
"metadata": {
"deletable": false,
"editable": false
},
"outputs": [],
"source": [
"# Initialize Otter\n",
"import otter\n",
"grader = otter.Notebook(\"Lab_4_systems.ipynb\")"
]
},
{
"cell_type": "markdown",
"metadata": {},
"source": [
"# Predator-prey iterative functions\n",
"\n",
"Continuing on from lec_act_4_systems - we're going to add the compute n time steps and plotting\n",
"\n",
"Slides for the lab: https://docs.google.com/presentation/d/1wd1SpTJiezfroDizaFkA6UxCgMQE_A4ZKCyJoNfa0cM/edit?usp=sharing"
]
},
{
"cell_type": "code",
"execution_count": null,
"metadata": {},
"outputs": [],
"source": [
"# Doing the imports for you - notice scipy. You may need to install this library\n",
"import numpy as np\n",
"import matplotlib.pyplot as plt\n",
"from scipy import integrate"
]
},
{
"cell_type": "markdown",
"metadata": {},
"source": [
"# Copy functions over\n",
"\n",
"TODO 1: Copy your three functions from lec_act_4_systems to here (compute_x_from_prey_predator and compute_one_time_step). "
]
},
{
"cell_type": "code",
"execution_count": null,
"metadata": {
"tags": []
},
"outputs": [],
"source": [
"# compute_prey_from_prey_and_predator\n",
"..."
]
},
{
"cell_type": "code",
"execution_count": null,
"metadata": {
"tags": []
},
"outputs": [],
"source": [
"# compute_predator_from_prey_and_predator\n",
"...\n"
]
},
{
"cell_type": "code",
"execution_count": null,
"metadata": {
"tags": []
},
"outputs": [],
"source": [
"# compute_one_time_step\n",
"..."
]
},
{
"cell_type": "code",
"execution_count": null,
"metadata": {
"tags": []
},
"outputs": [],
"source": [
"# Check code\n",
"delta_t = 0.1\n",
"n_days = 40\n",
"n_time_steps = int(n_days / delta_t)\n",
"params = {\"Prey reproduce\":1.0,\n",
"          \"Prey eaten\":0.02,\n",
"          \"Predator loss\":1.2,\n",
"          \"Predator reproduce\":0.03,\n",
"          \"delta t\": delta_t,   # unit: days\n",
"          \"n days\": n_days,     # unit: days\n",
"          \"n time steps\": n_time_steps}\n",
"\n",
"prey_initial = 100\n",
"predator_initial = 100\n",
"\n",
"prey_new, predator_new = compute_one_time_step(prey_initial, predator_initial, params)\n",
"\n",
"print(f\"Checking prey new {prey_new}, should be 90 predator new {predator_new}, should be 118\")"
]
},
{
"cell_type": "code",
"execution_count": null,
"metadata": {
"deletable": false,
"editable": false
},
"outputs": [],
"source": [
"grader.check(\"copy_correct\")"
]
},
{
"cell_type": "markdown",
"metadata": {},
"source": [
"# Iterate n times\n",
"\n",
"Write a function that uses your **compute_one_time_step** to calculate how the prey and predator values change over time."
]
},
{
"cell_type": "code",
"execution_count": null,
"metadata": {
"tags": []
},
"outputs": [],
"source": [
"# Note that you could use either the number of time steps OR total time for the last parameter\n",
"#  Timesteps is a bit safer because at least you know it will only go for so many time steps...\n",
"def calculate_n_time_steps(prey_initial, predator_initial, params):\n",
"    \"\"\" Call compute one time step multiple times and store it in a numpy array\n",
"    @param prey - the starting prey value (number)\n",
"    @param predator - the ending predator value (number)\n",
"    @param params - the four parameters of the Lotka-Volterra system, plus delta t and time step, in a dictionary\n",
"    @return prey, predator values as a 2xtimesteps numpy array\n",
"    \"\"\"\n",
"    # TODO:\n",
"    #   Allocate a 2xn time steps numpy array to put the data in\n",
"    #   Set the first element of that data to the initial prey/predator values\n",
"    #   for the remaining values\n",
"    #     Calculate the next from the previous\n",
"    #     Store the next values in the array\n",
"    #   return the array\n"
]
},
{
"cell_type": "code",
"execution_count": null,
"metadata": {
"tags": []
},
"outputs": [],
"source": [
"new_populations_check = calculate_n_time_steps(prey_initial=prey_initial, predator_initial=predator_initial, params=params)\n",
"\n",
"print(f\"Shape of new_populations_check should be 2 x {params['n time steps']}, is {new_populations_check.shape}\")\n",
"\n",
"print(f\"Last time step should be [-1.10352058e-04  2.17613504e-01], is {new_populations_check[:, -1]}\")\n"
]
},
{
"cell_type": "code",
"execution_count": null,
"metadata": {
"deletable": false,
"editable": false
},
"outputs": [],
"source": [
"grader.check(\"compute_n_time_steps\")"
]
},
{
"cell_type": "markdown",
"metadata": {},
"source": [
"<!-- BEGIN QUESTION -->\n",
"\n",
"# Plot the results\n"
]
},
{
"cell_type": "code",
"execution_count": null,
"metadata": {
"tags": []
},
"outputs": [],
"source": [
"# Plot the prey and predator cycles. \n",
"def plot_results(prey_pred_values, params):\n",
"    \"\"\" plot the results of running the system\n",
"    @param prey_pred_values - x y values in a 2xn numpy array\n",
"    @param params - the four parameters of the Lotka-Volterra system, plus delta t and time step\n",
"    @return Nothing\n",
"    \"\"\"\n",
"    nrows = 1\n",
"    ncols = 1\n",
"    fig, axs = plt.subplots(nrows, ncols, figsize=(4, 4))\n",
"\n",
"    ts = np.linspace(0, params[\"delta t\"] * params[\"n time steps\"], params[\"n time steps\"])\n",
"    axs.plot(ts, prey_pred_values[0, :], '-k', label=\"Prey\")\n",
"    axs.plot(ts, prey_pred_values[1, :], ':g', label=\"Predator\")\n",
"    \n",
"    axs.set_xlabel('Days')\n",
"    axs.set_ylabel('Population')\n",
"\n",
"    axs.set_title(f\"d prey = {params['Prey reproduce']} x - {params['Prey eaten']} x y\\nd pred = {-params['Predator loss']} y + {params['Predator reproduce']} x y\")\n",
"    axs.legend()"
]
},
{
"cell_type": "code",
"execution_count": null,
"metadata": {
"tags": []
},
"outputs": [],
"source": [
"# TODO - notice that the number of prey/predators is creeping up - this is because Euler integration is not\n",
"#. very accurate. It shouldn't\n",
"# TODO Try changing delta_t - if you make it smaller, what happens to the creep? What if you make it bigger?\n",
"delta_t = 0.005\n",
"n_days = 40\n",
"n_time_steps = int(n_days / delta_t)\n",
"params_full = {\"Prey reproduce\":1.0,\n",
"          \"Prey eaten\":0.01,\n",
"          \"Predator loss\":1.2,\n",
"          \"Predator reproduce\":0.02,\n",
"          \"delta t\": delta_t,   # day\n",
"          \"n days\": n_days,     # unit: days\n",
"          \"n time steps\":n_time_steps}\n",
"\n",
"new_populations_full = calculate_n_time_steps(prey_initial=prey_initial, predator_initial=predator_initial, params=params_full)\n",
"plot_results(new_populations_full, params_full)\n"
]
},
{
"cell_type": "markdown",
"metadata": {},
"source": [
"<!-- END QUESTION -->\n",
"\n",
"# Using the ODE solver\n",
"\n",
"TODO: look over the instructions here first: https://scientific-python.readthedocs.io/en/latest/notebooks_rst/3_Ordinary_Differential_Equations/02_Examples/Lotka_Volterra_model.html\n",
"\n",
"This is an example of how generalization makes things a bit confusing - the function passed TO the ode solver to calculate the derivitive is defined by\n",
"- what the current input value is. Because the ode solver can work in any dimension, this is a numpy array. In our case, we only have two dimensions. But it's up to us to \"unpack\" the numpy array into our variables\n",
"- the current time with which to calculate the derivative. For example, if dx/dt = t * x + 3, then this would be the t. In our case, the derivatives do NOT depend on t, just prey/predator values, so we can ignore t\n",
"- one (or more) parameters specified by YOU, the caller. This is how you get \"arbitrary\" values into your function...\n",
"\n",
"In the example in the link above, they pass in each \"user\" parameter (alpha, beta, delta, gamma) as an individual paramter, using the args = () mechanism. We are just going to pass all of our parameters in as a dictionary, as we did above. Note that this is (somewhat) slower because of doing the key/value extraction every call\n",
"\n",
"- The derivative function should return a numpy array of the same dimension as the input array\n",
"\n",
"Optional: use the args=(a,b,g,d) approach instead.\n",
"\n",
"TODO: Fill in the predator_prey_derivative function"
]
},
{
"cell_type": "code",
"execution_count": null,
"metadata": {
"tags": []
},
"outputs": [],
"source": [
"def predator_prey_derivative(prey_predator, t, params):\n",
"    \"\"\" Slightly modified version of the derivative function from the scipy example\n",
"    @param prey_predator is current prey and predator as a tuple (X in the example above)\n",
"    @param t is ignored/not used in the predator/prey derivative - but if dx/dt DID depend on t, then here it is\n",
"    @param params - our params from before (instead of alpha, beta, delta, gamma) \"\"\"\n",
"    prey, predator = prey_predator   # Cute trick to get x and y out of the tuple\n",
"\n",
"    # TODO dprey_dt should be dprey_dt from your compute_prey_from_prey_and_predator (no multiplication by dt)\n",
"    #  Note: The t in the input equation is t, NOT dt - so do NOT use it in your equation\n",
"    # params[\"Prey reproduce\"] will be the same as in the previous bit of code\n",
"    dprey_dt = ...\n",
"    dpredator_dt = ...\n",
"\n",
"    \n",
"    # Stitch back together into a numpy array\n",
"    return np.array([dprey_dt, dpredator_dt])"
]
},
{
"cell_type": "code",
"execution_count": null,
"metadata": {
"tags": []
},
"outputs": [],
"source": [
"# Check the function works\n",
"# Huh, what's with the _? This is Python syntax for: There's a variable, but I don't care what value it is\n",
"derivs = predator_prey_derivative(np.array([prey_initial, predator_initial]), _, params_full)\n",
"\n",
"print(f\"Derivative result is {derivs}, should be [ 0. 80.]\")"
]
},
{
"cell_type": "code",
"execution_count": null,
"metadata": {
"deletable": false,
"editable": false
},
"outputs": [],
"source": [
"grader.check(\"ode_solver_deriv_fc\")"
]
},
{
"cell_type": "markdown",
"metadata": {},
"source": [
"<!-- BEGIN QUESTION -->\n",
"\n",
"# Call the ODE solver\n",
"\n",
"If your function is correct then this will just work.\n",
"\n",
"TODO: Try doing args=(params, 3) instead of what's there; what kind of error do you get? Why? Can you change the derivative function to \"fix\" it?\n",
"\n",
"TODO: Take out the transpose. What error do you get? Why?"
]
},
{
"cell_type": "code",
"execution_count": null,
"metadata": {
"tags": []
},
"outputs": [],
"source": [
"# Now do plot results with the ode solver\n",
"\n",
"#  Notice that we turn the input into a numpy array - ode can operate on any numpy array of any dimension...\n",
"prey_predator_initial = np.array([prey_initial, predator_initial])\n",
"\n",
"# The ode solver will return the prey/predator values at these time values\n",
"#   Note that the ode solver will do the integration between those time steps...\n",
"ts = np.linspace(0.0, params_full[\"n days\"], params_full[\"n time steps\"])"
]
},
{
"cell_type": "code",
"execution_count": null,
"metadata": {
"tags": []
},
"outputs": [],
"source": [
"# Crazy python parameter passing\n",
"#  First argument is a function that takes in x,y and returns dx/dt and dy/dt\n",
"#  Second argument is the t values to calculate for\n",
"#  Third argument is an (optional) list of parameters - could be more than one - that get passed to the\n",
"#    list of parameters following X, t in predator_prey_derivative\n",
"#  Yes, this is terribly confusing, and can cause a lot of errors that are challenging to debug\n",
"#   Python quirks - args needs to be a tuple. To make a tuple with one element, add a comma\n",
"# TODO: Try adding another parameter to the tuple - what error do you get and why?\n",
"#.TODO: Try passing in prey_initial, predator_intial instead of prey_predator_initial - what kind of error do you get?\n",
"new_populations_ode = integrate.odeint(predator_prey_derivative, prey_predator_initial, ts, args=(params_full, ))\n",
"\n",
"print(f\"Last value is {new_populations_ode[-1]}, should be [65.2xxx 51.0xxx]\")"
]
},
{
"cell_type": "code",
"execution_count": null,
"metadata": {
"tags": []
},
"outputs": [],
"source": [
"# Why is this a transpose? Because ode outputs as an n_time_steps X 2 array\n",
"plot_results(np.transpose(new_populations_ode), params_full)"
]
},
{
"cell_type": "code",
"execution_count": null,
"metadata": {
"deletable": false,
"editable": false
},
"outputs": [],
"source": [
"grader.check(\"call_ode_solver\")"
]
},
{
"cell_type": "markdown",
"metadata": {},
"source": [
"<!-- END QUESTION -->\n",
"\n",
"## Hours and collaborators\n",
"Required for every assignment - fill out before you hand-in.\n",
"\n",
"Listing names and websites helps you to document who you worked with and what internet help you received in the case of any plagiarism issues. You should list names of anyone (in class or not) who has substantially helped you with an assignment - or anyone you have *helped*. You do not need to list TAs.\n",
"\n",
"Listing hours helps us track if the assignments are too long."
]
},
{
"cell_type": "code",
"execution_count": null,
"metadata": {
"tags": []
},
"outputs": [],
"source": [
"\n",
"# List of names (creates a set)\n",
"worked_with_names = {\"not filled out\"}\n",
"# List of URLS (creates a set)\n",
"websites = {\"not filled out\"}\n",
"# Approximate number of hours, including lab/in-class time\n",
"hours = -1.5\n",
"\n",
"# for all row, column in all_indices_from_where\n",
"#.   if this is the column for wrist torque \n",
"#.      print(f\"Row: {r}, Time step: {c // n_time_steps} Successful y/n: {pick_data[r, -1] == 1}, value: {pick_data[r, c]}\")"
]
},
{
"cell_type": "code",
"execution_count": null,
"metadata": {
"deletable": false,
"editable": false
},
"outputs": [],
"source": [
"grader.check(\"hours_collaborators\")"
]
},
{
"cell_type": "code",
"execution_count": null,
"metadata": {},
"outputs": [],
"source": []
},
{
"cell_type": "markdown",
"metadata": {
"deletable": false,
"editable": false
},
"source": [
"## Submission\n",
"\n",
"Make sure you have run all cells in your notebook in order before running the cell below, so that all images/graphs appear in the output. The cell below will generate a zip file for you to submit. **Please save before exporting!**\n",
"\n",
"Submit through gradescope, week 4 lab"
]
},
{
"cell_type": "code",
"execution_count": null,
"metadata": {
"deletable": false,
"editable": false
},
"outputs": [],
"source": [
"# Save your notebook first, then run this cell to export your submission.\n",
"grader.export(run_tests=True)"
]
},
{
"cell_type": "markdown",
"metadata": {},
"source": [
" "
]
}
],
"metadata": {
"kernelspec": {
"display_name": "Python 3",
"language": "python",
"name": "python3"
},
"language_info": {
"codemirror_mode": {
"name": "ipython",
"version": 3
},
"file_extension": ".py",
"mimetype": "text/x-python",
"name": "python",
"nbconvert_exporter": "python",
"pygments_lexer": "ipython3",
"version": "3.7.3"
},
"otter": {
"OK_FORMAT": true,
"tests": {
"call_ode_solver": {
"name": "call_ode_solver",
"points": 1,
"suites": [
{
"cases": [
{
"code": ">>> assert(np.isclose(new_populations_ode[-1, 0], 65.200863))\n",
"hidden": false,
"locked": false
},
{
"code": ">>> assert(np.isclose(new_populations_ode[-1, 1], 51.062375))\n",
"hidden": false,
"locked": false
}
],
"scored": true,
"setup": "",
"teardown": "",
"type": "doctest"
}
]
},
"compute_n_time_steps": {
"name": "compute_n_time_steps",
"points": 5,
"suites": [
{
"cases": [
{
"code": ">>> assert(new_populations_check.shape[0] == 2)\n",
"hidden": false,
"locked": false
},
{
"code": ">>> assert(new_populations_check.shape[1] == params['n time steps'])\n",
"hidden": false,
"locked": false
},
{
"code": ">>> assert(np.isclose(new_populations_check[0, -1], -1.10352058e-04))\n",
"hidden": false,
"locked": false
},
{
"code": ">>> assert(np.isclose(new_populations_check[1, -1], 2.17613504e-01))\n",
"hidden": false,
"locked": false
}
],
"scored": true,
"setup": "",
"teardown": "",
"type": "doctest"
}
]
},
"copy_correct": {
"name": "copy_correct",
"points": 1,
"suites": [
{
"cases": [
{
"code": ">>> assert(np.isclose(prey_new, 90))    \n",
"hidden": false,
"locked": false
},
{
"code": ">>> assert(np.isclose(predator_new, 118))\n",
"hidden": false,
"locked": false
}
],
"scored": true,
"setup": "",
"teardown": "",
"type": "doctest"
}
]
},
"hours_collaborators": {
"name": "hours_collaborators",
"points": 1,
"suites": [
{
"cases": [
{
"code": ">>> assert(not \"not filled out\" in worked_with_names)\n",
"hidden": false,
"locked": false
},
{
"code": ">>> assert(not \"not filled out\" in websites)\n",
"hidden": false,
"locked": false
},
{
"code": ">>> assert(hours > 0)\n",
"hidden": false,
"locked": false
}
],
"scored": true,
"setup": "",
"teardown": "",
"type": "doctest"
}
]
},
"ode_solver_deriv_fc": {
"name": "ode_solver_deriv_fc",
"points": 2,
"suites": [
{
"cases": [
{
"code": ">>> assert(np.isclose(derivs[0], 0))\n",
"hidden": false,
"locked": false
},
{
"code": ">>> assert(np.isclose(derivs[1], 80))\n",
"hidden": false,
"locked": false
}
],
"scored": true,
"setup": "",
"teardown": "",
"type": "doctest"
}
]
}
}
}
},
"nbformat": 4,
"nbformat_minor": 2
}