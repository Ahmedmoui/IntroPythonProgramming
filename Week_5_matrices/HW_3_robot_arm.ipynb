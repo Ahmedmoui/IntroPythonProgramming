{
"cells": [
{
"cell_type": "code",
"execution_count": null,
"metadata": {
"deletable": false,
"editable": false
},
"outputs": [],
"source": [
"# Initialize Otter\n",
"import otter\n",
"grader = otter.Notebook(\"HW_3_robot_arm.ipynb\")"
]
},
{
"cell_type": "markdown",
"metadata": {},
"source": [
"# Robot arm\n",
"\n",
"Part 1: Forward kinematics\n",
"\n",
"Part 2: Optimization\n",
"\n",
"Slides: https://docs.google.com/presentation/d/17aiTBmPZidR6op7TvqYRzYatuc_NETYA1BhgpSHQ-FM/edit?usp=sharing"
]
},
{
"cell_type": "code",
"execution_count": null,
"metadata": {},
"outputs": [],
"source": [
"# The usual imports\n",
"import numpy as np\n",
"import matplotlib.pyplot as plt\n",
"\n",
"# These are the routines used in the lab and/or you need to fill in for the homework (lab 5, week 5)\n",
"from arm_routines import get_matrices_all_links, create_arm_geometry, set_angles_of_arm_geometry, \\\n",
"                         plot_complete_arm, get_gripper_location\n"
]
},
{
"cell_type": "code",
"execution_count": null,
"metadata": {},
"outputs": [],
"source": [
"# This bit of code tells Jupyter notebooks to also look in the week_6_optimization folder for files\n",
"import os\n",
"import sys\n",
"sys.path.insert(0, os.path.abspath('../Week_6_optimization'))\n",
"\n",
"# These are the routines used in the lab and/or you need to fill in for the homework (lab 6, week 6)\n",
"from arm_optimization_routines import distance_to_goal, do_fmin"
]
},
{
"cell_type": "code",
"execution_count": null,
"metadata": {},
"outputs": [],
"source": [
"# These commands will force JN to actually re-load the external file when you re-execute the import command\n",
"%load_ext autoreload\n",
"%autoreload 2"
]
},
{
"cell_type": "markdown",
"metadata": {
"deletable": false,
"editable": false
},
"source": [
"# Doing forward kinematics\n",
"\n",
"TODO: Edit the step 3 functions in arm_routines.py (get_matrix_base, get_matrix_link, get_matrices_all_links)\n",
"\n",
"The three functions build the matrices you need to move each component to the end of the previous one. There's a \"special\" one for figuring out how to place the start of the arm on the base. For every other link the calculation for the matrix is the same. The third function does the for loops that call the second function for each link."
]
},
{
"cell_type": "code",
"execution_count": null,
"metadata": {
"tags": []
},
"outputs": [],
"source": [
"    # Create the arm geometry (done in Lab 5)\n",
"    base_size_param = (1.0, 0.5)\n",
"    link_sizes_param = [(0.5, 0.25), (0.3, 0.1), (0.2, 0.05)]\n",
"    palm_width_param = 0.1\n",
"    finger_size_param = (0.075, 0.025)\n",
"\n",
"\n",
"    # This function calls each of the set_transform_xxx functions, and puts the results\n",
"    # in a list (the gripper - the last element - is a list)\n",
"    arm_geometry = create_arm_geometry(base_size_param, link_sizes_param, palm_width_param, finger_size_param)"
]
},
{
"cell_type": "code",
"execution_count": null,
"metadata": {
"tags": []
},
"outputs": [],
"source": [
"## Check the combined link/gripper/finger rotations\n",
"# Several different angles to check your routines with \n",
"# Pass the one you want to check into set_angles_of_arm_geometry below\n",
"angles_none = [0.0, 0.0, 0.0, [0.0, 0.0, 0.0]]\n",
"angles_check_link_0 = [np.pi/4, 0.0, 0.0, [0.0, 0.0, 0.0]]\n",
"angles_check_link_0_1 = [np.pi/4, -np.pi/4, 0.0, [0.0, 0.0, 0.0]]\n",
"angles_check_wrist = [np.pi/2, -np.pi/4, -3.0 * np.pi/4, [np.pi/3.0, 0.0, 0.0]]\n",
"angles_check_fingers = [np.pi/2, -np.pi/4, -3.0 * np.pi/4, [0.0, np.pi/4.0, -np.pi/4.0]]"
]
},
{
"cell_type": "code",
"execution_count": null,
"metadata": {
"tags": []
},
"outputs": [],
"source": [
"# Use this cell to visually check the results\n",
"# With angles_none it should point straight up\n",
"# If you do NOT have the gripper function done, this will not show the green + (see next question)\n",
"set_angles_of_arm_geometry(arm_geometry, angles_none)\n",
"matrices = get_matrices_all_links(arm_geometry)\n",
"\n",
"fig, axs = plt.subplots(1, 1, figsize=(6, 6))\n",
"plot_complete_arm(axs, arm_geometry, matrices)"
]
},
{
"cell_type": "code",
"execution_count": null,
"metadata": {
"tags": []
},
"outputs": [],
"source": [
"# Don't change this one\n",
"angles_check = [np.pi/2, -np.pi/4, -3.0 * np.pi/4, [np.pi/3.0, np.pi/4.0, -np.pi/4.0]]\n",
"set_angles_of_arm_geometry(arm_geometry, angles_check)\n",
"matrices = get_matrices_all_links(arm_geometry)\n",
"print(matrices)"
]
},
{
"cell_type": "code",
"execution_count": null,
"metadata": {
"tags": []
},
"outputs": [],
"source": [
"mat_check_base = np.identity(3)\n",
"assert(np.all(np.isclose(matrices[0], mat_check_base, atol=0.01)))"
]
},
{
"cell_type": "code",
"execution_count": null,
"metadata": {
"tags": []
},
"outputs": [],
"source": [
"mat_check_link_1 = np.array([[ 0.0, -1.0,  0.0], \\\n",
"                             [ 1.0,  0.0,  0.5], \\\n",
"                             [ 0.0,  0.0,  1.0]])\n",
"assert(np.all(np.isclose(matrices[1], mat_check_link_1, atol=0.01)))"
]
},
{
"cell_type": "code",
"execution_count": null,
"metadata": {
"tags": []
},
"outputs": [],
"source": [
"mat_check_link_2 = np.array([[ -1.0, 0.0,  -0.5], \\\n",
"                             [ 0.0,  -1.0,  0.5], \\\n",
"                             [ 0.0,  0.0,  1.0]])\n",
"assert(np.all(np.isclose(matrices[2], mat_check_link_2, atol=0.01)))"
]
},
{
"cell_type": "code",
"execution_count": null,
"metadata": {
"tags": []
},
"outputs": [],
"source": [
"mat_check_wrist = np.array([[ 1.0, 0.0,  -0.5121], \\\n",
"                            [ 0.0, 1.0,   0.7121], \\\n",
"                            [ 0.0,  0.0,  1.0]])\n",
"assert(np.all(np.isclose(matrices[-1], mat_check_wrist, atol=0.01)))"
]
},
{
"cell_type": "code",
"execution_count": null,
"metadata": {
"deletable": false,
"editable": false
},
"outputs": [],
"source": [
"grader.check(\"step3\")"
]
},
{
"cell_type": "markdown",
"metadata": {
"deletable": false,
"editable": false
},
"source": [
"# Gripper location\n",
"\n",
"TODO: edit get_gripper_location to return the x,y location of the gripper.\n",
"\n",
"A reminder that the grasp location is offset from the palm by a bit ([\"grasp\"] key in palm object)"
]
},
{
"cell_type": "code",
"execution_count": null,
"metadata": {
"tags": []
},
"outputs": [],
"source": [
"# Check the gripper function\n",
"# As in the previous problem, you can use the \"simpler\" angles to check your function\n",
"angles_gripper_check = [np.pi/3, -np.pi/6, 3.0 * np.pi/6, [-np.pi/4, np.pi/4.0, -np.pi/4.0]]\n",
"\n",
"# Actually set the matrices\n",
"set_angles_of_arm_geometry(arm_geometry, angles_gripper_check)\n",
"matrices = get_matrices_all_links(arm_geometry)\n",
"\n",
"# Now actually plot - the grasper grip location should show up as a green cross\n",
"fig, axs = plt.subplots(1, 1, figsize=(8, 8))\n",
"plot_complete_arm(axs, arm_geometry, matrices)"
]
},
{
"cell_type": "code",
"execution_count": null,
"metadata": {
"tags": []
},
"outputs": [],
"source": [
"# Now actually plot - the grasper grip location should show up as a green cross\n",
"fig, axs = plt.subplots(1, 1, figsize=(8, 8))\n",
"plot_complete_arm(axs, arm_geometry, matrices)"
]
},
{
"cell_type": "code",
"execution_count": null,
"metadata": {
"tags": []
},
"outputs": [],
"source": [
"# Numerical check - don't change these\n",
"set_angles_of_arm_geometry(arm_geometry, angles_gripper_check)\n",
"\n",
"grasp_loc = get_gripper_location(arm_geometry)\n",
"print(f\"Grasp loc is {grasp_loc}, expected (-0.8106, 0.92437)\")\n",
"assert(np.isclose(grasp_loc[0], -0.8106, atol=0.01) and np.isclose(grasp_loc[1], 0.92437, atol=0.01))"
]
},
{
"cell_type": "code",
"execution_count": null,
"metadata": {
"deletable": false,
"editable": false
},
"outputs": [],
"source": [
"grader.check(\"gripper_loc\")"
]
},
{
"cell_type": "markdown",
"metadata": {
"deletable": false,
"editable": false
},
"source": [
"# FMin optimization\n",
"\n",
"Note: func_for_fmin from the Lab should be working first\n",
"\n",
"TODO: Edit do_fmin to call func_for_fmin with the appropriate angles, etc\n"
]
},
{
"cell_type": "code",
"execution_count": null,
"metadata": {
"tags": []
},
"outputs": [],
"source": [
"# Set the starting angles of the arm\n",
"#. Note: It really shouldn't matter what these are for the final result, as long as they're \"reasonable\"\n",
"angles_start = [np.pi/6.0, -np.pi/4, 1.5 * np.pi/4, [np.pi/3.0, -np.pi/8.0, np.pi/6.0]]\n",
"set_angles_of_arm_geometry(arm_geometry, angles_start)\n",
"\n",
"# Do the optimization\n",
"target = np.array([0.55, 1.15])\n",
"angles_optimized = do_fmin(angles_start, arm_geometry, target)\n",
"\n",
"# Make sure the angles of the arm are set to the optimized one\n",
"set_angles_of_arm_geometry(arm_geometry, angles_optimized)\n",
"\n",
"# Check that this is close to zero\n",
"d_to_target = distance_to_goal(arm_geometry, target)\n",
"print(f\"Distance to goal {d_to_target}, should be close to zero if target reachable\")\n",
"\n",
"assert(np.isclose(d_to_target, 0.0, atol=0.01))"
]
},
{
"cell_type": "code",
"execution_count": null,
"metadata": {
"tags": []
},
"outputs": [],
"source": [
"# Plot arm with target\n",
"fig, axs = plt.subplots(1, 1, figsize=(8, 8))\n",
"plot_complete_arm(axs, arm_geometry, get_matrices_all_links(arm_geometry))\n",
"axs.plot(target[0], target[1], '+g', markersize=20)"
]
},
{
"cell_type": "code",
"execution_count": null,
"metadata": {
"deletable": false,
"editable": false
},
"outputs": [],
"source": [
"grader.check(\"optimization\")"
]
},
{
"cell_type": "markdown",
"metadata": {
"deletable": false,
"editable": false
},
"source": [
"# Generalization\n",
"\n",
"If nothing has been \"hardwired\" in, this should just work - changing the geometry, the starting angles, the target point. However, if you've hardwired something in, it probably won't..."
]
},
{
"cell_type": "code",
"execution_count": null,
"metadata": {
"tags": []
},
"outputs": [],
"source": [
"# Create the arm geometry\n",
"base_size_param = (0.5, 0.25) # squished\n",
"link_sizes_param = [(0.3, 0.15), (0.2, 0.09), (0.1, 0.05), (0.075, 0.03)]\n",
"palm_width_param = 0.15\n",
"finger_size_param = (0.085, 0.015)\n",
"\n",
"\n",
"# This function calls each of the set_transform_xxx functions, and puts the results\n",
"# in a list (the gripper - the last element - is a list)\n",
"arm_longer = create_arm_geometry(base_size_param, link_sizes_param, palm_width_param, finger_size_param)\n",
"\n",
"# Set the angles of the arm\n",
"angles_start = [-np.pi/4.0, -np.pi/4, 1.2 * np.pi/4, -1 * np.pi/8, [-np.pi/3.0, np.pi/6.0, -np.pi/6.0]]\n",
"set_angles_of_arm_geometry(arm_longer, angles_start)\n",
"\n",
"target_longer = np.array([0.3, -0.25])"
]
},
{
"cell_type": "code",
"execution_count": null,
"metadata": {
"tags": []
},
"outputs": [],
"source": [
"# Plot arm with target\n",
"fig, axs = plt.subplots(1, 1, figsize=(8, 8))\n",
"plot_complete_arm(axs, arm_longer, get_matrices_all_links(arm_longer))\n",
"axs.plot(target_longer[0], target_longer[1], '+g', markersize=20)"
]
},
{
"cell_type": "code",
"execution_count": null,
"metadata": {
"tags": []
},
"outputs": [],
"source": [
"# Do the optimization\n",
"angles_optimized = do_fmin(angles_start, arm_longer, target_longer)\n",
"set_angles_of_arm_geometry(arm_longer, angles_optimized)"
]
},
{
"cell_type": "code",
"execution_count": null,
"metadata": {
"tags": []
},
"outputs": [],
"source": [
"# Plot arm with target\n",
"fig, axs = plt.subplots(1, 1, figsize=(8, 8))\n",
"plot_complete_arm(axs, arm_longer, get_matrices_all_links(arm_longer))\n",
"axs.plot(target_longer[0], target_longer[1], '+g', markersize=20)"
]
},
{
"cell_type": "code",
"execution_count": null,
"metadata": {
"tags": []
},
"outputs": [],
"source": [
"assert(np.isclose(distance_to_goal(arm_geometry, target), 0.0, atol=0.01))"
]
},
{
"cell_type": "code",
"execution_count": null,
"metadata": {
"deletable": false,
"editable": false
},
"outputs": [],
"source": [
"grader.check(\"generalization\")"
]
},
{
"cell_type": "markdown",
"metadata": {
"deletable": false,
"editable": false
},
"source": [
"## Hours and collaborators\n",
"Required for every assignment - fill out before you hand-in.\n",
"\n",
"Listing names and websites helps you to document who you worked with and what internet help you received in the case of any plagiarism issues. You should list names of anyone (in class or not) who has substantially helped you with an assignment - or anyone you have *helped*. You do not need to list TAs.\n",
"\n",
"Listing hours helps us track if the assignments are too long."
]
},
{
"cell_type": "code",
"execution_count": null,
"metadata": {
"tags": []
},
"outputs": [],
"source": [
"\n",
"# List of names (creates a set)\n",
"worked_with_names = {\"not filled out\"}\n",
"# List of URLS (creates a set)\n",
"websites = {\"not filled out\"}\n",
"# Approximate number of hours, including lab/in-class time\n",
"hours = -1.5\n",
"\n",
"# for all row, column in all_indices_from_where\n",
"#.   if this is the column for wrist torque \n",
"#.      print(f\"Row: {r}, Time step: {c // n_time_steps} Successful y/n: {pick_data[r, -1] == 1}, value: {pick_data[r, c]}\")"
]
},
{
"cell_type": "code",
"execution_count": null,
"metadata": {
"deletable": false,
"editable": false
},
"outputs": [],
"source": [
"grader.check(\"hours_collaborators\")"
]
},
{
"cell_type": "markdown",
"metadata": {
"deletable": false,
"editable": false
},
"source": [
"## Submission\n",
"\n",
"Make sure you have run all cells in your notebook in order before running the cell below, so that all images/graphs appear in the output. The cell below will generate a zip file for you to submit. **Please save before exporting!**\n",
"\n",
"Submit through gradescope, HWK 3 Matrices and Optimization"
]
},
{
"cell_type": "code",
"execution_count": null,
"metadata": {
"deletable": false,
"editable": false
},
"outputs": [],
"source": [
"# Save your notebook first, then run this cell to export your submission.\n",
"grader.export(run_tests=True)"
]
},
{
"cell_type": "markdown",
"metadata": {},
"source": [
" "
]
}
],
"metadata": {
"kernelspec": {
"display_name": "Python 3",
"language": "python",
"name": "python3"
},
"language_info": {
"codemirror_mode": {
"name": "ipython",
"version": 3
},
"file_extension": ".py",
"mimetype": "text/x-python",
"name": "python",
"nbconvert_exporter": "python",
"pygments_lexer": "ipython3",
"version": "3.7.4"
},
"otter": {
"OK_FORMAT": true,
"tests": {
"generalization": {
"name": "generalization",
"points": 4,
"suites": [
{
"cases": [
{
"code": ">>> assert(np.isclose(distance_to_goal(arm_geometry, target), 0.0, atol=0.01))\n",
"hidden": false,
"locked": false
}
],
"scored": true,
"setup": "",
"teardown": "",
"type": "doctest"
}
]
},
"gripper_loc": {
"name": "gripper_loc",
"points": 2,
"suites": [
{
"cases": [
{
"code": ">>> assert(np.isclose(grasp_loc[0], -0.8106, atol=0.01) and np.isclose(grasp_loc[1], 0.92437, atol=0.01))\n",
"hidden": false,
"locked": false
}
],
"scored": true,
"setup": "",
"teardown": "",
"type": "doctest"
}
]
},
"hours_collaborators": {
"name": "hours_collaborators",
"points": 1,
"suites": [
{
"cases": [
{
"code": ">>> assert(not \"not filled out\" in worked_with_names)\n",
"hidden": false,
"locked": false
},
{
"code": ">>> assert(not \"not filled out\" in websites)\n",
"hidden": false,
"locked": false
},
{
"code": ">>> assert(hours > 0)\n",
"hidden": false,
"locked": false
}
],
"scored": true,
"setup": "",
"teardown": "",
"type": "doctest"
}
]
},
"optimization": {
"name": "optimization",
"points": 5,
"suites": [
{
"cases": [
{
"code": ">>> assert(np.isclose(d_to_target, 0.0, atol=0.01))\n",
"hidden": false,
"locked": false
}
],
"scored": true,
"setup": "",
"teardown": "",
"type": "doctest"
}
]
},
"step3": {
"name": "step3",
"points": 5,
"suites": [
{
"cases": [
{
"code": ">>> assert(np.all(np.isclose(matrices[0], mat_check_base, atol=0.01)))\n",
"hidden": false,
"locked": false
},
{
"code": ">>> assert(np.all(np.isclose(matrices[1], mat_check_link_1, atol=0.01)))\n",
"hidden": false,
"locked": false
},
{
"code": ">>> assert(np.all(np.isclose(matrices[2], mat_check_link_2, atol=0.01)))\n",
"hidden": false,
"locked": false
},
{
"code": ">>> assert(np.all(np.isclose(matrices[-1], mat_check_wrist, atol=0.01)))\n",
"hidden": false,
"locked": false
}
],
"scored": true,
"setup": "",
"teardown": "",
"type": "doctest"
}
]
}
}
}
},
"nbformat": 4,
"nbformat_minor": 2
}