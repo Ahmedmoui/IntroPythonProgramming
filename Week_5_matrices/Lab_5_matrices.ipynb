{
"cells": [
{
"cell_type": "code",
"execution_count": null,
"metadata": {
"deletable": false,
"editable": false
},
"outputs": [],
"source": [
"# Initialize Otter\n",
"import otter\n",
"grader = otter.Notebook(\"Lab_5_matrices.ipynb\")"
]
},
{
"cell_type": "markdown",
"metadata": {},
"source": [
"# Using matrices to position parts of a robot arm\n",
"\n",
"The goal of this part of the assignment is to use matrices to position a robot arm in space. In the lab we'll just\n",
"position each component independently and rotate them by angles.\n",
"\n",
"\n",
"Slides: https://docs.google.com/presentation/d/1Ut5RnIKU8DF8k_joGXp4tJ1FzBKNIX8JYRE9wkIP_qE/edit?"
]
},
{
"cell_type": "code",
"execution_count": null,
"metadata": {},
"outputs": [],
"source": [
"# The usual imports\n",
"import numpy as np\n",
"import matplotlib.pyplot as plt\n",
"\n",
"# These are the routines used in the lecture activity - we'll re-use them here\n",
"import matrix_routines as mt\n",
"from object_routines import read_object, plot_object_in_world_coord_system"
]
},
{
"cell_type": "markdown",
"metadata": {},
"source": [
"## Step 1: Link transform matrices \n",
"\n",
"Use matrices to take two basic shapes (a square and a wedge) and re-shape them into the geometry for the arm, gripper.\n",
"\n",
"Yes, you could just create these basic shapes with the \"correct\" XYs, but we'll use a matrix to transform the\n",
"basic shape (square, wedge) to the correct size and shape.\n",
"\n",
"This is actually what most packages (eg, solidworks) do when you make a model. Each part of the model is defined in a \"canonical\" location, then transformed to the desired position/scale/rotation using a matarix. This is\n",
" *before* calculating the matrix that positions the part based on the, eg, joint angles\n",
"\n",
"For all of these, you should be creating a matrix that consists of a scale followed by a rotate (maybe) followed by a translate\n",
"\n",
"See slides for what the resulting re-positioned shapes look like\n",
"\n",
"Wedge and Square are both -1,-1 to 1, 1 (you can open up the .json files to see what the vertex locations are)"
]
},
{
"cell_type": "code",
"execution_count": null,
"metadata": {
"tags": []
},
"outputs": [],
"source": [
"def get_transform_base(base_width=1.0, base_height=0.5):\n",
"    \"\"\" Position and orient the base of the object\n",
"    Base middle should be at 0,0, wedge pointed up, base_width wide, base_height tall\n",
"    @param base_width - width of the base\n",
"    @param base_height - height of the base\n",
"    @return 3x3 matrix that positions the base as listed\"\"\"\n",
"\n",
"    # TODO: create a matrix to get the wedge into the right position/size/orientation\n",
"    #  Scale first, then rotate, then translate\n",
"    # Open up Data/Wedge.json if you want to see the XYs (this shape is made in object_routines.py)\n",
"    # Reminder that all of the matrix creation functions are some form of\n",
"    #    mt.make_scale_matrix(sx, sy)  rotation and translation\n",
"\n",
"    mat_return = np.identity(3)\n",
"    ...\n",
"\n",
"    return mat_return"
]
},
{
"cell_type": "code",
"execution_count": null,
"metadata": {
"tags": []
},
"outputs": [],
"source": [
"def get_transform_link(arm_length, arm_height):\n",
"    \"\"\" This is one of the arm components - since they're all kinda the same (just different sizes) just have\n",
"    one function to create them\n",
"    The arm should have the left hand side, middle at 0,0 and extend along the x_axis by length\n",
"    @param arm_length - the desired length of the arm\n",
"    @param arm_height - the desired height of the arm\n",
"    @return the 3x3 matrix\"\"\"\n",
"\n",
"    # TODO: return the matrix that puts the link in the right position/size/orientation\n",
"    #  Reminder that squares are defined by -1,-1 to 1,1, and so currently have side lengths of 2...\n",
"    mat_return = np.identity(3)\n",
"    ...\n",
"\n",
"    # Force recalculation of matrix\n",
"    return mat_return"
]
},
{
"cell_type": "code",
"execution_count": null,
"metadata": {
"tags": []
},
"outputs": [],
"source": [
"def get_transform_palm(palm_width):\n",
"    \"\"\" This is palm of the gripper - a rectangle palm_width tall, centered at the origin, 1/10 as wide as it is tall\n",
"    @param palm_width - the desired separation of the two fingers\n",
"    @return the 3x3 matrix\"\"\"\n",
"\n",
"    # TODO: Calculate the scale matrixthat makes the palm the correct size\n",
"    mat_return = np.identity(3)\n",
"    ...\n",
"\n",
"    return mat_return"
]
},
{
"cell_type": "code",
"execution_count": null,
"metadata": {
"tags": []
},
"outputs": [],
"source": [
"def get_transform_finger(palm_width, finger_size, b_is_top):\n",
"    \"\"\" This is one of the fingers - two wedges, separated by the palm width\n",
"    @param palm_width - the desired separation of the two fingers\n",
"    @param finger_size - tuple, how long and wide to make the finger\n",
"    @param b_is_top - is this the top or the bottom finger?\n",
"    @return the modified object\"\"\"\n",
"\n",
"    # TODO [optional]: Calculate the transform to get it in the right position/size/orientation\n",
"    #  b_is_top means it's the top finger...\n",
"    mat_return = np.identity(3)\n",
"    ...\n",
"\n",
"    return mat_return"
]
},
{
"cell_type": "code",
"execution_count": null,
"metadata": {
"tags": []
},
"outputs": [],
"source": [
"# Check the returned values\n",
"np.set_printoptions(precision=4, floatmode='fixed')  # Print out with 4 digits of precision\n",
"\n",
"mat_base = get_transform_base(1.0, 0.5)\n",
"print(mat_base)\n",
"mat_base_check = np.array([[0, -0.5, 0], [0.25, 0.0, 0.25], [0.0, 0.0, 1.0]])\n",
"assert(np.all(np.isclose(mat_base, mat_base_check)))"
]
},
{
"cell_type": "code",
"execution_count": null,
"metadata": {
"tags": []
},
"outputs": [],
"source": [
"mat_link1 = get_transform_link(0.5, 0.25)\n",
"print(mat_link1)\n",
"mat_link1_check = np.array([[0.25, 0.0, 0.25], [0.0, 0.125, 0.0], [0.0, 0.0, 1.0]])\n",
"assert(np.all(np.isclose(mat_link1, mat_link1_check)))"
]
},
{
"cell_type": "code",
"execution_count": null,
"metadata": {
"tags": []
},
"outputs": [],
"source": [
"mat_palm = get_transform_palm(0.1)\n",
"print(mat_palm)\n",
"mat_palm_check = np.array([[0.005, 0.0, 0.0], [0.0, 0.05, 0.0], [0.0, 0.0, 1.0]])\n",
"assert(np.all(np.isclose(mat_palm, mat_palm_check)))"
]
},
{
"cell_type": "code",
"execution_count": null,
"metadata": {
"tags": []
},
"outputs": [],
"source": [
"mat_finger_top = get_transform_finger(0.1, (0.075, 0.025), True)\n",
"print(mat_finger_top)\n",
"mat_finger_top_check = np.array([[0.0375, 0.0, 0.0375], [0.0, 0.0125, 0.05], [0.0, 0.0, 1.0]])\n",
"assert(np.all(np.isclose(mat_finger_top, mat_finger_top_check)))"
]
},
{
"cell_type": "code",
"execution_count": null,
"metadata": {
"tags": []
},
"outputs": [],
"source": [
"mat_finger_bot = get_transform_finger(0.1, (0.075, 0.025), False)\n",
"mat_finger_bot_check = np.array([[0.0375, 0.0, 0.0375], [0.0, 0.0125, -0.05], [0.0, 0.0, 1.0]])\n",
"assert(np.all(np.isclose(mat_finger_bot, mat_finger_bot_check)))\n",
"print(mat_finger_bot)"
]
},
{
"cell_type": "code",
"execution_count": null,
"metadata": {
"deletable": false,
"editable": false
},
"outputs": [],
"source": [
"grader.check(\"Matrix_position\")"
]
},
{
"cell_type": "markdown",
"metadata": {},
"source": [
"# Put it all together to make the entire gripper\n",
"\n",
"This should just \"work\" if you did the previous part correctly (no TODOs). "
]
},
{
"cell_type": "code",
"execution_count": null,
"metadata": {
"tags": []
},
"outputs": [],
"source": [
"def create_gripper(palm_width, finger_size):\n",
"    \"\"\" Make a gripper from a palm and two fingers\n",
"    Palm is centered on the x and y axis, base of finger will be at 0, 1/2 palm width\n",
"    @param palm_width - the desired separation of the two fingers\n",
"    @param finger_size - how long and wide to make the finger\n",
"    @return the modified object\"\"\"\n",
"\n",
"    palm = read_object(\"Square\")\n",
"    palm[\"Matrix position\"] = get_transform_palm(palm_width)\n",
"    palm[\"Matrix\"] = palm[\"Matrix position\"]\n",
"    palm[\"Grasp\"] = finger_size[0] * 0.75\n",
"    # Keep this for later\n",
"    palm[\"Palm width\"] = palm_width\n",
"    palm[\"Angle\"] = 0  # Wrist angle\n",
"    palm[\"Color\"] = \"tomato\"\n",
"    palm[\"Name\"] = \"Palm\"\n",
"\n",
"    # The gripper is a list of three elements - the fingers are optional\n",
"    gripper = [palm]\n",
"    for b in [True, False]:\n",
"        finger = read_object(\"Wedge\")\n",
"        finger[\"Matrix position\"] = get_transform_finger(palm_width, finger_size, b)\n",
"        finger[\"Matrix\"] = finger[\"Matrix position\"]\n",
"\n",
"        finger[\"Angle\"] = 0.0\n",
"        if b:\n",
"            finger[\"Location\"] = \"Top\"\n",
"            finger[\"Color\"] = \"darkgoldenrod\"\n",
"        else:\n",
"            finger[\"Location\"] = \"Bottom\"\n",
"            finger[\"Color\"] = \"darkgreen\"\n",
"\n",
"        finger[\"Name\"] = f\"Finger {finger['Location']}\"\n",
"\n",
"        # Keep this for later\n",
"        finger[\"Palm width\"] = palm_width\n",
"        finger[\"Angle\"] = 0\n",
"        gripper.append(finger)\n",
"\n",
"    return gripper"
]
},
{
"cell_type": "code",
"execution_count": null,
"metadata": {
"tags": []
},
"outputs": [],
"source": [
"def create_arm_geometry(base_size, link_sizes, palm_width, finger_size):\n",
"    \"\"\" Read in the square/wedge matrices, then call the set_transform_* functions to move them around\n",
"    See slides for what these should look like when done\n",
"    @param link_sizes: A list of tuples, one for each link, with the link length and width\n",
"    @param palm_width: The width of the palm (how far the fingers are spaced apart)\n",
"    @param finger_size: A tuple with the finger length and width\n",
"    @returns A list of the objects (arm_geometry)\n",
"    \"\"\"\n",
"\n",
"    # This is the base of the robot\n",
"    base = read_object(\"Wedge\")\n",
"    base[\"Color\"] = \"darkturquoise\"\n",
"    base[\"Name\"] = \"Base\"\n",
"    base[\"Angle\"] = 0.0\n",
"\n",
"    # Here is where the matrix that moves the base (which is a wedge) to the right size/place is set\n",
"    base[\"Matrix position\"] = get_transform_base(base_size[0], base_size[1])\n",
"    base[\"Matrix\"] = base[\"Matrix position\"]\n",
"\n",
"    # Keep the geometry in a list - start the list with the base object\n",
"    arm_geometry = [base]\n",
"\n",
"    # Since arm links are kinda the same, just different sizes, create a list with the link sizes and make one\n",
"    #  component from each pair of sizes\n",
"    # Note that this makes it easy to add (or remove) links by just changing this list\n",
"    for i, size in enumerate(link_sizes):\n",
"        arm_link = read_object(\"Square\")\n",
"        # Note that, because dictionaries are pointers and we edited square inside of set_transform, square and arm\n",
"        #   link point to the same thing after this call - which is why we'll read in a new copy of square on the\n",
"        #   next loop\n",
"        arm_link[\"Matrix position\"] = get_transform_link(size[0], size[1])\n",
"        arm_link[\"Matrix\"] = arm_link[\"Matrix position\"]\n",
"        arm_link[\"Name\"] = f\"Link {i}\"\n",
"\n",
"        # Add this version to our list of arm components\n",
"        arm_geometry.append(arm_link)\n",
"\n",
"    # The gripper is made of Three pieces - we're going to put them all together (as a list) at the end of the list...\n",
"    #   This will make it possible to build the matrix for the gripper and apply that matrix to all gripper elements\n",
"    #   Note: Putting the fingers on is optional\n",
"    gripper = create_gripper(palm_width, finger_size)\n",
"\n",
"    # Add the gripper as a single element to the end of the list\n",
"    arm_geometry.append(gripper)\n",
"    return arm_geometry"
]
},
{
"cell_type": "code",
"execution_count": null,
"metadata": {
"tags": []
},
"outputs": [],
"source": [
"# Call it with example angles\n",
"base_size_param = (1.0, 0.5)\n",
"link_sizes_param = [(0.5, 0.25), (0.3, 0.1), (0.2, 0.05)]\n",
"palm_width_param = 0.1\n",
"finger_size_param = (0.075, 0.025)\n",
"\n",
"# This function calls each of the set_transform_xxx functions, and puts the results\n",
"# in a list (the gripper - the last element - is a list)\n",
"arm_geometry = create_arm_geometry(base_size_param, link_sizes_param, palm_width_param, finger_size_param)\n",
"if len(arm_geometry) != 5:\n",
"    print(\"Wrong number of components, should be 5, got {len(arm_geometry)}\")\n",
"if len(arm_geometry[-1]) != 3:\n",
"    print(\"Wrong number of gripper components, should be 3, got {len(arm_geometry[-1])}\")\n",
"\n",
"print(arm_geometry)"
]
},
{
"cell_type": "code",
"execution_count": null,
"metadata": {
"deletable": false,
"editable": false
},
"outputs": [],
"source": [
"grader.check(\"Step_1\")"
]
},
{
"cell_type": "markdown",
"metadata": {},
"source": [
"## Step 2 - set the matrices that rotate the links/palm"
]
},
{
"cell_type": "code",
"execution_count": null,
"metadata": {
"tags": []
},
"outputs": [],
"source": [
"def get_rotation_link(arm_link):\n",
"    \"\"\" Compute JUST the rotation matrix for this link\n",
"    @param arm_link - the link as an object dictionary, angle stored in arm_link['Angle']\n",
"    @return 3x3 rotation matrix\"\"\"\n",
"\n",
"    # TODO Create a rotation matrix based on the link's angle (stored with the key \"Angle\")\n",
"    ...\n",
"    return np.identity(3)"
]
},
{
"cell_type": "code",
"execution_count": null,
"metadata": {
"tags": []
},
"outputs": [],
"source": [
"def get_matrix_finger(finger):\n",
"    \"\"\" Compute JUST the matrix that moves the finger to the correct angle\n",
"    Pulling this out as a method so we can use it elsewhere\n",
"    @param finger - the finger as an object dictionary\n",
"    @return a 3x3 matrix\"\"\"\n",
"\n",
"    # TODO: (this is optional)\n",
"    #   Translate the base of the finger back to the origin, rotate it, then translate it back out\n",
"    #   Reminder: The base of the finger can be found using mt.get_dx_dy_from_matrix\n",
"    ...\n",
"    return matrix"
]
},
{
"cell_type": "code",
"execution_count": null,
"metadata": {
"tags": []
},
"outputs": [],
"source": [
"def set_angles_of_arm_geometry(arm_geometry, angles):\n",
"    \"\"\" Just sets the angle of each link, gripper\n",
"    Assumes that the arm has as many links as the angles and that the gripper is two objects at the end.\n",
"    There are three numbers for that last angle - a wrist angle, and one angle for each finger, stored as a list\n",
"    Not setting the base transformation\n",
"    @param arm_geometry - the arm geometry\n",
"    @param angles - the actual angles\"\"\"\n",
"\n",
"    if len(arm_geometry) != len(angles) + 1:\n",
"        raise ValueError(\"Arm geometry and angles do not match\")\n",
"\n",
"    # Set angles of joints\n",
"    for comp, ang in zip(arm_geometry[1:-1], angles[0:-1]):\n",
"        comp[\"Angle\"] = ang\n",
"\n",
"    # Set angle of wrist and fingers\n",
"    #   Note that these are all dictionaries, so this is just a pointer to the last list element\n",
"    gripper = arm_geometry[-1]\n",
"    gripper[0][\"Angle\"] = angles[-1][0]\n",
"    for i, comp in enumerate(gripper):\n",
"        comp[\"Angle\"] = angles[-1][i]"
]
},
{
"cell_type": "code",
"execution_count": null,
"metadata": {
"tags": []
},
"outputs": [],
"source": [
"# This part should be correct (it's from part 1)\n",
"base_size_param = (1.0, 0.5)\n",
"link_sizes_param = [(0.5, 0.25), (0.3, 0.1), (0.2, 0.05)]\n",
"palm_width_param = 0.1\n",
"finger_size_param = (0.075, 0.025)\n",
"\n",
"angles_check = [np.pi/2, -np.pi/4, -3.0 * np.pi/4, [np.pi/3.0, np.pi/4.0, -np.pi/4.0]]\n",
"\n",
"np.set_printoptions(precision=4, floatmode='fixed')\n",
"\n",
"arm_geometry = create_arm_geometry(base_size_param, link_sizes_param, palm_width_param, finger_size_param)\n",
"set_angles_of_arm_geometry(arm_geometry, angles_check)"
]
},
{
"cell_type": "code",
"execution_count": null,
"metadata": {
"tags": []
},
"outputs": [],
"source": [
"# Check the rotation matrix for the first link\n",
"mat_rot_link1 = get_rotation_link(arm_geometry[1])\n",
"print(mat_rot_link1)\n",
"mat_rot_link1_check = np.array([[0.0, -1.0, 0.0], [1.0, 0.0, 0.0], [0.0, 0.0, 1.0]])\n",
"assert(np.all(np.isclose(mat_rot_link1, mat_rot_link1_check)))"
]
},
{
"cell_type": "code",
"execution_count": null,
"metadata": {
"tags": []
},
"outputs": [],
"source": [
"# Check the rotation matrix for the top finger (optional)\n",
"mat_rot_top_finger = get_matrix_finger(arm_geometry[-1][1])\n",
"print(mat_rot_top_finger)\n",
"mat_rot_top_finger_check = np.array([[0.7071, -0.7071, 0.0354], [0.7071, 0.7071, 0.0146], [0.0, 0.0, 1.0]])\n",
"assert(np.all(np.isclose(mat_rot_top_finger, mat_rot_top_finger_check, atol=0.3)))"
]
},
{
"cell_type": "code",
"execution_count": null,
"metadata": {
"tags": []
},
"outputs": [],
"source": [
"# Check the rotation matrix for the bottom finger (optional)\n",
"mat_rot_bot_finger = get_matrix_finger(arm_geometry[-1][2])\n",
"print(mat_rot_bot_finger)\n",
"mat_rot_bot_finger_check = np.array([[0.7071, 0.7071, 0.0354], [-0.7071, 0.7071, -0.0146], [0.0, 0.0, 1.0]])\n",
"assert(np.all(np.isclose(mat_rot_bot_finger, mat_rot_bot_finger_check, atol=0.3)))"
]
},
{
"cell_type": "code",
"execution_count": null,
"metadata": {
"deletable": false,
"editable": false
},
"outputs": [],
"source": [
"grader.check(\"set_matrix_from_angles\")"
]
},
{
"cell_type": "markdown",
"metadata": {},
"source": [
"<!-- BEGIN QUESTION -->\n",
"\n",
"# Plot the arm (step 1)\n",
"\n",
"Note: This should work for step 1 with **b_with_angles** set to False. You'll need to fix the TODOS to get it to work with step 2, in addition to doing the two functions in the previous problem"
]
},
{
"cell_type": "code",
"execution_count": null,
"metadata": {
"tags": []
},
"outputs": [],
"source": [
"def plot_arm_components(axs, arm, b_with_angles=False):\n",
"    \"\"\" Plot each component in its own coordinate system with the matrix that was used to move the geometry\n",
"    @param axs are the axes of each plot window\n",
"    @param arm as a list of dictionaries, each of which is an object\n",
"    @param b_with_angles - if True, rotate the geometry by the given angle stored in the object \"\"\"\n",
"\n",
"    box = read_object(\"Square\")\n",
"    box[\"Matrix\"] = mt.make_scale_matrix(0.75, 0.75)\n",
"    box[\"Color\"] = \"lightgrey\"\n",
"\n",
"    # if b_with_angles is false, this stays the identity matrix for all plots\n",
"    rot_matrix = np.identity(3)\n",
"\n",
"    # Plot the base and the arm links in their own windows\n",
"    for i, component in enumerate(arm[:-1]):\n",
"        plot_object_in_world_coord_system(axs[i], box)\n",
"\n",
"        # TODO: if b_with_angles is True, sets the rotation matrix by the angle stored in the component\n",
"        #   You should call get_rotation_link to get the matrix\n",
"        ...\n",
"\n",
"        plot_object_in_world_coord_system(axs[i], component, rot_matrix)\n",
"        axs[i].set_title(component[\"Name\"])\n",
"        axs[i].plot(0, 0, 'xr')\n",
"        axs[i].axis(\"equal\")\n",
"\n",
"    # plot the gripper - I know it's more than one piece of geometry, so plot each in turn\n",
"    plot_object_in_world_coord_system(axs[-1], box)\n",
"\n",
"    gripper = arm[-1]\n",
"\n",
"    # Palm first\n",
"    palm = gripper[0]\n",
"    if b_with_angles:\n",
"        rot_matrix = get_rotation_link(palm)\n",
"\n",
"    plot_object_in_world_coord_system(axs[-1], palm, rot_matrix)\n",
"\n",
"    # Now the fingers\n",
"    for finger in gripper[1:]:\n",
"        # TODO (optional): Rotate each finger by the given amount, then rotate the entire gripper by the wrist angle\n",
"        # Step 1: Edit get_matrix_finger to get the matrix to move just the finger\n",
"        # Step 2: Multiply that matrix by the rotation matrix for the palm\n",
"        ...\n",
"        plot_object_in_world_coord_system(axs[-1], finger, rot_matrix)\n",
"\n",
"    # Draw a red line for the palm and an x at the base of the wrist and another at the finger contact points\n",
"\n",
"    # Get the y axis of the rotation matrix\n",
"    axs_x, axs_y = mt.get_axes_from_matrix(mt.make_rotation_matrix(palm[\"Angle\"]))\n",
"    # Scale by palm width\n",
"    axs_y = axs_y * palm[\"Palm width\"] / 2.0\n",
"    # Go from -vec to + vec\n",
"    axs[-1].plot([-axs_y[0], axs_y[0]], [-axs_y[1], axs_y[1]], '-r')\n",
"\n",
"    # Draw a red + at the base of the palm\n",
"    axs[-1].plot(0, 0, '+r')\n",
"\n",
"    # Draw a green x at the contact point of the fingers\n",
"    axs[-1].plot(axs_x[0] * palm[\"Grasp\"], axs_x[1] * palm[\"Grasp\"], 'xg')\n",
"\n",
"    axs[-1].set_title(\"Gripper\")\n",
"    axs[-1].legend(loc=\"upper left\")\n",
"    axs[-1].axis(\"equal\")"
]
},
{
"cell_type": "code",
"execution_count": null,
"metadata": {
"tags": []
},
"outputs": [],
"source": [
"# Re-defining here, just to be safe\n",
"base_size_param = (1.0, 0.5)\n",
"link_sizes_param = [(0.5, 0.25), (0.3, 0.1), (0.2, 0.05)]\n",
"palm_width_param = 0.1\n",
"finger_size_param = (0.075, 0.025)\n",
"\n",
"# This function calls each of the set_transform_xxx functions, and puts the results\n",
"# in a list (the gripper - the last element - is a list)\n",
"arm_geometry = create_arm_geometry(base_size_param, link_sizes_param, palm_width_param, finger_size_param)\n",
"\n",
"# Should show all 5 components, the base, 3 links, and the gripper\n",
"# Step 1 - note, comment out this one if you don't want both drawn on top of each other when you do step 2\n",
"fig, axs = plt.subplots(1, len(arm_geometry), figsize=(4 * len(arm_geometry), 4))\n",
"plot_arm_components(axs, arm_geometry)"
]
},
{
"cell_type": "code",
"execution_count": null,
"metadata": {
"deletable": false,
"editable": false
},
"outputs": [],
"source": [
"grader.check(\"Plotting1\")"
]
},
{
"cell_type": "markdown",
"metadata": {},
"source": [
"<!-- END QUESTION -->\n",
"\n",
"<!-- BEGIN QUESTION -->\n",
"\n",
"# Plotting for step 2\n",
"\n",
"I've included several different sets of angle values for you."
]
},
{
"cell_type": "code",
"execution_count": null,
"metadata": {
"tags": []
},
"outputs": [],
"source": [
"# Repeating here\n",
"base_size_param = (1.0, 0.5)\n",
"link_sizes_param = [(0.5, 0.25), (0.3, 0.1), (0.2, 0.05)]\n",
"palm_width_param = 0.1\n",
"finger_size_param = (0.075, 0.025)\n",
"\n",
"# This function calls each of the set_transform_xxx functions, and puts the results\n",
"# in a list (the gripper - the last element - is a list)\n",
"arm_geometry = create_arm_geometry(base_size_param, link_sizes_param, palm_width_param, finger_size_param)\n"
]
},
{
"cell_type": "code",
"execution_count": null,
"metadata": {
"tags": []
},
"outputs": [],
"source": [
"# Step 2 - rotate each link element in its own cooridinate system\n",
"# Several different angles to check your results with\n",
"angles_none = [0.0, 0.0, 0.0, [0.0, 0.0, 0.0]]\n",
"angles_check_fingers = [np.pi/2, -np.pi/4, -3.0 * np.pi/4, [0.0, np.pi/4.0, -np.pi/4.0]]\n",
"angles_check_wrist = [np.pi/2, -np.pi/4, -3.0 * np.pi/4, [np.pi/3.0, 0.0, 0.0]]\n",
"angles_check = [np.pi/2, -np.pi/4, -3.0 * np.pi/4, [np.pi/3.0, np.pi/4.0, -np.pi/4.0]]\n",
"\n",
"# You can use the above set of angles to check each part of the plot\n",
"set_angles_of_arm_geometry(arm_geometry, angles_check)\n",
"fig2, axs2 = plt.subplots(1, len(arm_geometry), figsize=(4 * len(arm_geometry), 4))\n",
"plot_arm_components(axs2, arm_geometry, b_with_angles=True)"
]
},
{
"cell_type": "code",
"execution_count": null,
"metadata": {
"deletable": false,
"editable": false
},
"outputs": [],
"source": [
"grader.check(\"Plotting2\")"
]
},
{
"cell_type": "markdown",
"metadata": {},
"source": [
"<!-- END QUESTION -->\n",
"\n",
"## Hours and collaborators\n",
"Required for every assignment - fill out before you hand-in.\n",
"\n",
"Listing names and websites helps you to document who you worked with and what internet help you received in the case of any plagiarism issues. You should list names of anyone (in class or not) who has substantially helped you with an assignment - or anyone you have *helped*. You do not need to list TAs.\n",
"\n",
"Listing hours helps us track if the assignments are too long."
]
},
{
"cell_type": "code",
"execution_count": null,
"metadata": {
"tags": []
},
"outputs": [],
"source": [
"\n",
"# List of names (creates a set)\n",
"worked_with_names = {\"not filled out\"}\n",
"# List of URLS (creates a set)\n",
"websites = {\"not filled out\"}\n",
"# Approximate number of hours, including lab/in-class time\n",
"hours = -1.5\n",
"\n",
"# for all row, column in all_indices_from_where\n",
"#.   if this is the column for wrist torque \n",
"#.      print(f\"Row: {r}, Time step: {c // n_time_steps} Successful y/n: {pick_data[r, -1] == 1}, value: {pick_data[r, c]}\")"
]
},
{
"cell_type": "code",
"execution_count": null,
"metadata": {
"deletable": false,
"editable": false
},
"outputs": [],
"source": [
"grader.check(\"hours_collaborators\")"
]
},
{
"cell_type": "markdown",
"metadata": {
"deletable": false,
"editable": false
},
"source": [
"## Submission\n",
"\n",
"Make sure you have run all cells in your notebook in order before running the cell below, so that all images/graphs appear in the output. The cell below will generate a zip file for you to submit. **Please save before exporting!**\n",
"\n",
"Submit through gradescope, week 5 lab"
]
},
{
"cell_type": "code",
"execution_count": null,
"metadata": {
"deletable": false,
"editable": false
},
"outputs": [],
"source": [
"# Save your notebook first, then run this cell to export your submission.\n",
"grader.export(run_tests=True)"
]
},
{
"cell_type": "markdown",
"metadata": {},
"source": [
" "
]
}
],
"metadata": {
"kernelspec": {
"display_name": "Python 3",
"language": "python",
"name": "python3"
},
"language_info": {
"codemirror_mode": {
"name": "ipython",
"version": 3
},
"file_extension": ".py",
"mimetype": "text/x-python",
"name": "python",
"nbconvert_exporter": "python",
"pygments_lexer": "ipython3",
"version": "3.7.3"
},
"otter": {
"OK_FORMAT": true,
"tests": {
"Matrix_position": {
"name": "Matrix_position",
"points": 5,
"suites": [
{
"cases": [
{
"code": ">>> assert(np.all(np.isclose(mat_base, mat_base_check)))\n",
"hidden": false,
"locked": false
},
{
"code": ">>> assert(np.all(np.isclose(mat_link1, mat_link1_check)))\n",
"hidden": false,
"locked": false
},
{
"code": ">>> assert(np.all(np.isclose(mat_palm, mat_palm_check)))\n",
"hidden": false,
"locked": false
}
],
"scored": true,
"setup": "",
"teardown": "",
"type": "doctest"
}
]
},
"Plotting1": {
"name": "Plotting1",
"points": 1,
"suites": [
{
"cases": [
{
"code": ">>> # Code test 3\n",
"hidden": false,
"locked": false
}
],
"scored": true,
"setup": "",
"teardown": "",
"type": "doctest"
}
]
},
"Plotting2": {
"name": "Plotting2",
"points": 1,
"suites": [
{
"cases": [
{
"code": ">>> # Code test 3\n",
"hidden": false,
"locked": false
}
],
"scored": true,
"setup": "",
"teardown": "",
"type": "doctest"
}
]
},
"Step_1": {
"name": "Step_1",
"points": 1,
"suites": [
{
"cases": [
{
"code": ">>> assert(len(arm_geometry) == 5)\n",
"hidden": false,
"locked": false
},
{
"code": ">>> assert(len(arm_geometry[-1]) == 3)\n",
"hidden": false,
"locked": false
}
],
"scored": true,
"setup": "",
"teardown": "",
"type": "doctest"
}
]
},
"hours_collaborators": {
"name": "hours_collaborators",
"points": 1,
"suites": [
{
"cases": [
{
"code": ">>> assert(not \"not filled out\" in worked_with_names)\n",
"hidden": false,
"locked": false
},
{
"code": ">>> assert(not \"not filled out\" in websites)\n",
"hidden": false,
"locked": false
},
{
"code": ">>> assert(hours > 0)\n",
"hidden": false,
"locked": false
}
],
"scored": true,
"setup": "",
"teardown": "",
"type": "doctest"
}
]
},
"set_matrix_from_angles": {
"name": "set_matrix_from_angles",
"points": 2,
"suites": [
{
"cases": [
{
"code": ">>> assert(np.all(np.isclose(mat_rot_link1, mat_rot_link1_check)))\n",
"hidden": false,
"locked": false
}
],
"scored": true,
"setup": "",
"teardown": "",
"type": "doctest"
}
]
}
}
}
},
"nbformat": 4,
"nbformat_minor": 2
}