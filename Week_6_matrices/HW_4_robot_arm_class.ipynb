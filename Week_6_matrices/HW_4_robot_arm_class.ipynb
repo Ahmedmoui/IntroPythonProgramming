{
 "cells": [
  {
   "cell_type": "code",
   "execution_count": null,
   "metadata": {
    "deletable": false,
    "editable": false
   },
   "outputs": [],
   "source": [
    "# Initialize Otter\n",
    "import otter\n",
    "grader = otter.Notebook(\"HW_4_robot_arm_class.ipynb\")"
   ]
  },
  {
   "cell_type": "markdown",
   "metadata": {},
   "source": [
    "# Robot arm using a class\n",
    "\n",
    "Move homework 3 code (robot arm) into a class. We'll do this in the same order that you wrote functions in HW 3.\n",
    "\n",
    "\n",
    "Slides: https://docs.google.com/presentation/d/1JnRTK3F3x1V8OUGUXh9-NRxkYniXa2oFEbUmi6SG8VY/edit?usp=sharing"
   ]
  },
  {
   "cell_type": "code",
   "execution_count": null,
   "metadata": {},
   "outputs": [],
   "source": [
    "# The usual imports\n",
    "import numpy as np\n",
    "import matplotlib.pyplot as plt\n",
    "from scipy.optimize import fmin"
   ]
  },
  {
   "cell_type": "code",
   "execution_count": null,
   "metadata": {},
   "outputs": [],
   "source": [
    "# matrix_rouintes.py functions\n",
    "#  If this doesn't work, make sure matrix_routines.py is in the same directory as this file\n",
    "import matrix_routines as mt"
   ]
  },
  {
   "cell_type": "code",
   "execution_count": null,
   "metadata": {},
   "outputs": [],
   "source": [
    "# These commands will force JN to actually re-load the external file when you re-execute the import command\n",
    "%load_ext autoreload\n",
    "%autoreload 2"
   ]
  },
  {
   "cell_type": "code",
   "execution_count": null,
   "metadata": {
    "deletable": false,
    "editable": false
   },
   "outputs": [],
   "source": [
    "# import the class\n",
    "from arm_component import ArmComponent\n",
    "\n",
    "# Note: Feel free to copy the class from arm_component.py rather than doing the\n",
    "#  import while debugging this question. "
   ]
  },
  {
   "cell_type": "markdown",
   "metadata": {
    "deletable": false,
    "editable": false
   },
   "source": [
    "## Arm component\n",
    "\n",
    "TODO: fill in the class methods for *ArmComponent*\n",
    "\n",
    "This is setup so you can test one piece at a time."
   ]
  },
  {
   "cell_type": "code",
   "execution_count": null,
   "metadata": {
    "tags": []
   },
   "outputs": [],
   "source": [
    "# Create an instance of the class\n",
    "arm_component = ArmComponent(\"check_name\", ArmComponent.points_in_a_wedge(), \"check_color\")\n",
    "\n",
    "# Step 1: Check that variable names are created correctly\n",
    "assert arm_component.name == \"check_name\"\n",
    "assert arm_component.color == \"check_color\"\n",
    "assert np.all(np.isclose(arm_component.matrix_shape, np.identity(3)))\n",
    "assert np.all(np.isclose(arm_component.matrix_pose, np.identity(3)))\n"
   ]
  },
  {
   "cell_type": "code",
   "execution_count": null,
   "metadata": {
    "tags": []
   },
   "outputs": [],
   "source": [
    "# Step 2: add the points_in_square method\n",
    "# Create an instance of the class, but with square points\n",
    "arm_component = ArmComponent(\"check_name\", ArmComponent.points_in_a_square(), \"check_color\")\n",
    "\n",
    "assert np.isclose(arm_component.pts[0, 0], -1.0)\n",
    "assert np.isclose(arm_component.pts[1, 0], -1.0)\n",
    "assert np.all(np.isclose(arm_component.pts.shape, (3, 5)))"
   ]
  },
  {
   "cell_type": "code",
   "execution_count": null,
   "metadata": {
    "tags": []
   },
   "outputs": [],
   "source": [
    "# Step 3: Add the matrix_shape_X methods\n",
    "#  Check 1, matrix_shape_base\n",
    "\n",
    "base_component = ArmComponent(\"base\", ArmComponent.points_in_a_wedge(), \"Grey\")\n",
    "base_component.matrix_shape_base(base_width=0.5, base_height=0.25)\n",
    "\n",
    "print(f\"{base_component.matrix_shape}\")\n",
    "assert np.isclose(base_component.matrix_shape[0, 0], 0.25)\n",
    "assert np.isclose(base_component.matrix_shape[1, 1], 0.125)\n"
   ]
  },
  {
   "cell_type": "code",
   "execution_count": null,
   "metadata": {
    "tags": []
   },
   "outputs": [],
   "source": [
    "#  Check 2, matrix_shape_link\n",
    "\n",
    "link_component = ArmComponent(\"link\", ArmComponent.points_in_a_square(), \"Red\")\n",
    "link_component.matrix_shape_link(link_length=0.75, link_width=0.5)\n",
    "\n",
    "print(f\"{link_component.matrix_shape}\")\n",
    "assert np.isclose(link_component.matrix_shape[0, 0], 0.375)\n",
    "assert np.isclose(link_component.matrix_shape[1, 1], 0.25)\n"
   ]
  },
  {
   "cell_type": "code",
   "execution_count": null,
   "metadata": {
    "tags": []
   },
   "outputs": [],
   "source": [
    "#  Check 3, matrix_shape_palm\n",
    "\n",
    "palm_component = ArmComponent(\"link\", ArmComponent.points_in_a_square(), \"Red\")\n",
    "palm_component.matrix_shape_palm(palm_width=0.5)\n",
    "\n",
    "print(f\"{palm_component.matrix_shape}\")\n",
    "assert np.isclose(palm_component.matrix_shape[0, 0], 0.025)\n",
    "assert np.isclose(palm_component.matrix_shape[1, 1], 0.25)\n"
   ]
  },
  {
   "cell_type": "code",
   "execution_count": null,
   "metadata": {
    "tags": []
   },
   "outputs": [],
   "source": [
    "#  Check 3, finger_component\n",
    "#   No checks for this one, since it was optional in the original assignment. But you should still copy it in\n",
    "\n",
    "finger_component = ArmComponent(\"link\", ArmComponent.points_in_a_wedge(), \"Green\")\n",
    "finger_component.matrix_shape_finger(palm_width=0.5, finger_size=(0.5, 0.2), b_is_top=True)"
   ]
  },
  {
   "cell_type": "code",
   "execution_count": null,
   "metadata": {
    "deletable": false,
    "editable": false
   },
   "outputs": [],
   "source": [
    "grader.check(\"arm_component\")"
   ]
  },
  {
   "cell_type": "markdown",
   "metadata": {
    "deletable": false,
    "editable": false
   },
   "source": [
    "## Complete robot arm class\n",
    "\n",
    "TODO: \n",
    "- Step 1: Edit the __init__  method in *robot_arm_class.py* \n",
    "- Step 2: Edit the set_angles method\n",
    "- Step 3: Edit the  plot method\n",
    "\n",
    "As before, you can either copy the class in or use the import method."
   ]
  },
  {
   "cell_type": "code",
   "execution_count": null,
   "metadata": {
    "tags": []
   },
   "outputs": [],
   "source": [
    "# If the import is not working, feel free to copy the code for the class here\n",
    "from robot_arm_class import RobotArm"
   ]
  },
  {
   "cell_type": "code",
   "execution_count": null,
   "metadata": {
    "tags": []
   },
   "outputs": [],
   "source": [
    "# TODO step 1 (init function)\n",
    "\n",
    "# Create the arm geometry \n",
    "base_size_param = (0.5, 1.0)\n",
    "link_sizes_param = [(0.5, 0.25), (0.3, 0.1), (0.2, 0.05)]\n",
    "palm_width_param = 0.1\n",
    "finger_size_param = (0.075, 0.025)\n",
    "\n",
    "# The equivalent of create_arm_geometry\n",
    "#   Fill in the init method\n",
    "robot_arm = RobotArm(base_size_param, link_sizes_param, palm_width_param, finger_size_param)\n",
    "\n",
    "# self.arm_geometry should be the list of arm components\n",
    "assert len(robot_arm.arm_geometry) == 5"
   ]
  },
  {
   "cell_type": "code",
   "execution_count": null,
   "metadata": {
    "tags": []
   },
   "outputs": [],
   "source": [
    "## Check the combined link/gripper/finger rotations\n",
    "# Several different angles to check your routines with \n",
    "# Pass the one you want to check into set_angles_of_arm_geometry below\n",
    "#  Feel free to change these\n",
    "angles_none = [0.0, 0.0, 0.0, [0.0, 0.0, 0.0]]\n",
    "angles_check_link_0 = [np.pi/4, 0.0, 0.0, [0.0, 0.0, 0.0]]\n",
    "angles_check_link_0_1 = [np.pi/4, -np.pi/4, 0.0, [0.0, 0.0, 0.0]]\n",
    "angles_check_wrist = [np.pi/2, -np.pi/4, -3.0 * np.pi/4, [np.pi/3.0, 0.0, 0.0]]\n",
    "angles_check_fingers = [np.pi/2, -np.pi/4, -3.0 * np.pi/4, [0.0, np.pi/4.0, -np.pi/4.0]]\n",
    "\n",
    "# Don't change this one\n",
    "angles_check = [np.pi/2, -np.pi/4, -3.0 * np.pi/4, [np.pi/3.0, np.pi/4.0, -np.pi/4.0]]\n",
    "\n",
    "robot_arm.set_angles(angles_check)"
   ]
  },
  {
   "cell_type": "code",
   "execution_count": null,
   "metadata": {
    "tags": []
   },
   "outputs": [],
   "source": [
    "fig, axs = plt.subplots(1, 1, figsize=(6, 6))\n",
    "robot_arm.plot_complete_arm(axs)"
   ]
  },
  {
   "cell_type": "code",
   "execution_count": null,
   "metadata": {
    "tags": []
   },
   "outputs": [],
   "source": [
    "mat_check_link_1 = np.array([[ -1.0,  0.0,  0.0], \\\n",
    "                             [  0.0, -1.0,  0.5], \\\n",
    "                             [  0.0,  0.0,  1.0]])\n",
    "                             \n",
    "print(robot_arm.arm_geometry[1].matrix_pose)\n",
    "assert(np.all(np.isclose(robot_arm.arm_geometry[1].matrix_pose, mat_check_link_1, atol=0.01)))"
   ]
  },
  {
   "cell_type": "code",
   "execution_count": null,
   "metadata": {
    "tags": []
   },
   "outputs": [],
   "source": [
    "mat_check_link_2 = np.array([[ -0.7071, -0.7071, -0.5], \\\n",
    "                             [  0.7071, -0.7071,  0.5], \\\n",
    "                             [  0.0,     0.0,  1.0]])\n",
    "print(robot_arm.arm_geometry[2].matrix_pose)\n",
    "assert(np.all(np.isclose(robot_arm.arm_geometry[2].matrix_pose, mat_check_link_2, atol=0.01)))"
   ]
  },
  {
   "cell_type": "code",
   "execution_count": null,
   "metadata": {
    "tags": []
   },
   "outputs": [],
   "source": [
    "mat_check_link_3 = np.array([[ 1.0, 0.0, -0.71213], \\\n",
    "                             [ 0.0, 1.0,  0.71213], \\\n",
    "                             [ 0.0, 0.0,  1.0]])\n",
    "print(robot_arm.arm_geometry[3].matrix_pose)\n",
    "assert(np.all(np.isclose(robot_arm.arm_geometry[3].matrix_pose, mat_check_link_3, atol=0.01)))"
   ]
  },
  {
   "cell_type": "code",
   "execution_count": null,
   "metadata": {
    "tags": []
   },
   "outputs": [],
   "source": [
    "mat_check_wrist = np.array([[ 0.5, -0.8660,  -0.5121], \\\n",
    "                            [ 0.8660,  0.5,   0.7121], \\\n",
    "                            [ 0.0,  0.0,  1.0]])\n",
    "print(robot_arm.arm_geometry[-1][0].matrix_pose)\n",
    "assert(np.all(np.isclose(robot_arm.arm_geometry[-1][0].matrix_pose, mat_check_wrist, atol=0.01)))"
   ]
  },
  {
   "cell_type": "code",
   "execution_count": null,
   "metadata": {
    "deletable": false,
    "editable": false
   },
   "outputs": [],
   "source": [
    "grader.check(\"robot_arm\")"
   ]
  },
  {
   "cell_type": "markdown",
   "metadata": {
    "deletable": false,
    "editable": false
   },
   "source": [
    "## Hours and collaborators\n",
    "Required for every assignment - fill out before you hand-in.\n",
    "\n",
    "Listing names and websites helps you to document who you worked with and what internet help you received in the case of any plagiarism issues. You should list names of anyone (in class or not) who has substantially helped you with an assignment - or anyone you have *helped*. You do not need to list TAs.\n",
    "\n",
    "Listing hours helps us track if the assignments are too long."
   ]
  },
  {
   "cell_type": "code",
   "execution_count": null,
   "metadata": {
    "tags": []
   },
   "outputs": [],
   "source": [
    "\n",
    "# List of names (creates a set)\n",
    "worked_with_names = {\"not filled out\"}\n",
    "# List of URLS TAF4 (creates a set)\n",
    "websites = {\"not filled out\"}\n",
    "# Approximate number of hours, including lab/in-class time\n",
    "hours = -1.5"
   ]
  },
  {
   "cell_type": "code",
   "execution_count": null,
   "metadata": {
    "deletable": false,
    "editable": false
   },
   "outputs": [],
   "source": [
    "grader.check(\"hours_collaborators\")"
   ]
  },
  {
   "cell_type": "markdown",
   "metadata": {},
   "source": [
    "### To submit\n",
    "\n",
    "- Submit this .ipynb file AND (if you did not copy the classes in) arm_components.py and robot_arm_classes.py. \n",
    "- We will supply matrix_routines.py for you (it won't break anything if you do include it)\n",
    "\n",
    "If the Gradescope autograder fails, please check here first for common reasons for it to fail\n",
    "    https://docs.google.com/presentation/d/1tYa5oycUiG4YhXUq5vHvPOpWJ4k_xUPp2rUNIL7Q9RI/edit?usp=sharing\n",
    "\n",
    "Make sure you remove all the print statements you put in that print out lots of stuff."
   ]
  }
 ],
 "metadata": {
  "kernelspec": {
   "display_name": "base",
   "language": "python",
   "name": "python3"
  },
  "language_info": {
   "codemirror_mode": {
    "name": "ipython",
    "version": 3
   },
   "file_extension": ".py",
   "mimetype": "text/x-python",
   "name": "python",
   "nbconvert_exporter": "python",
   "pygments_lexer": "ipython3",
   "version": "3.12.4"
  },
  "otter": {
   "OK_FORMAT": true,
   "tests": {
    "arm_component": {
     "name": "arm_component",
     "points": 15,
     "suites": [
      {
       "cases": [
        {
         "code": ">>> assert arm_component.name == 'check_name'\n",
         "hidden": false,
         "locked": false
        },
        {
         "code": ">>> assert arm_component.color == 'check_color'\n",
         "hidden": false,
         "locked": false
        },
        {
         "code": ">>> assert np.all(np.isclose(arm_component.matrix_shape, np.identity(3)))\n",
         "hidden": false,
         "locked": false
        },
        {
         "code": ">>> assert np.all(np.isclose(arm_component.matrix_pose, np.identity(3)))\n",
         "hidden": false,
         "locked": false
        },
        {
         "code": ">>> assert np.isclose(arm_component.pts[0, 0], -1.0)\n",
         "hidden": false,
         "locked": false
        },
        {
         "code": ">>> assert np.isclose(arm_component.pts[1, 0], -1.0)\n",
         "hidden": false,
         "locked": false
        },
        {
         "code": ">>> assert np.all(np.isclose(arm_component.pts.shape, (3, 5)))\n",
         "hidden": false,
         "locked": false
        },
        {
         "code": ">>> assert np.isclose(base_component.matrix_shape[0, 0], 0.25)\n",
         "hidden": false,
         "locked": false
        },
        {
         "code": ">>> assert np.isclose(base_component.matrix_shape[1, 1], 0.125)\n",
         "hidden": false,
         "locked": false
        },
        {
         "code": ">>> assert np.isclose(link_component.matrix_shape[0, 0], 0.375)\n",
         "hidden": false,
         "locked": false
        },
        {
         "code": ">>> assert np.isclose(link_component.matrix_shape[1, 1], 0.25)\n",
         "hidden": false,
         "locked": false
        },
        {
         "code": ">>> assert np.isclose(palm_component.matrix_shape[0, 0], 0.025)\n",
         "hidden": false,
         "locked": false
        },
        {
         "code": ">>> assert np.isclose(palm_component.matrix_shape[1, 1], 0.25)\n",
         "hidden": false,
         "locked": false
        }
       ],
       "scored": true,
       "setup": "",
       "teardown": "",
       "type": "doctest"
      }
     ]
    },
    "hours_collaborators": {
     "name": "hours_collaborators",
     "points": 1,
     "suites": [
      {
       "cases": [
        {
         "code": ">>> assert not 'not filled out' in worked_with_names\n",
         "hidden": false,
         "locked": false
        },
        {
         "code": ">>> assert not 'not filled out' in websites\n",
         "hidden": false,
         "locked": false
        },
        {
         "code": ">>> assert hours > 0\n",
         "hidden": false,
         "locked": false
        }
       ],
       "scored": true,
       "setup": "",
       "teardown": "",
       "type": "doctest"
      }
     ]
    },
    "robot_arm": {
     "name": "robot_arm",
     "points": 10,
     "suites": [
      {
       "cases": [
        {
         "code": ">>> assert len(robot_arm.arm_geometry) == 5\n",
         "hidden": false,
         "locked": false
        },
        {
         "code": ">>> assert np.all(np.isclose(robot_arm.arm_geometry[1].matrix_pose, mat_check_link_1, atol=0.01))\n",
         "hidden": false,
         "locked": false
        },
        {
         "code": ">>> assert np.all(np.isclose(robot_arm.arm_geometry[2].matrix_pose, mat_check_link_2, atol=0.01))\n",
         "hidden": false,
         "locked": false
        },
        {
         "code": ">>> assert np.all(np.isclose(robot_arm.arm_geometry[3].matrix_pose, mat_check_link_3, atol=0.01))\n",
         "hidden": false,
         "locked": false
        },
        {
         "code": ">>> assert np.all(np.isclose(robot_arm.arm_geometry[-1][0].matrix_pose, mat_check_wrist, atol=0.01))\n",
         "hidden": false,
         "locked": false
        }
       ],
       "scored": true,
       "setup": "",
       "teardown": "",
       "type": "doctest"
      }
     ]
    }
   }
  }
 },
 "nbformat": 4,
 "nbformat_minor": 2
}
