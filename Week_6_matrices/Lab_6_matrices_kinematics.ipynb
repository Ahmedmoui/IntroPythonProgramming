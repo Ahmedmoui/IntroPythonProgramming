{
 "cells": [
  {
   "cell_type": "code",
   "execution_count": null,
   "metadata": {
    "deletable": false,
    "editable": false
   },
   "outputs": [],
   "source": [
    "# Initialize Otter\n",
    "import otter\n",
    "grader = otter.Notebook(\"Lab_6_matrices_kinematics.ipynb\")"
   ]
  },
  {
   "cell_type": "markdown",
   "metadata": {},
   "source": [
    "# Using matrices to position parts of a robot arm\n",
    "\n",
    "The goal of this part of the assignment is to use matrices to position a robot arm in space. In the lab we'll just\n",
    "position each component independently and rotate them by angles. In the homework we'll pose all of the links.\n",
    "\n",
    "\n",
    "Slides: https://docs.google.com/presentation/d/1Ut5RnIKU8DF8k_joGXp4tJ1FzBKNIX8JYRE9wkIP_qE/edit?\n",
    "\n",
    "Moving from the lecture activity to the lab:\n",
    "- Each component of the arm is stored as a dictionary. These are put into a list (see create_arm_geometry in arm_routines.py)\n",
    "- The points for the objects are stored in the object's dicitonary - check out create_arm_component() in arm_routines.py and the two routines used to make the point matrices (points_in_a_square and points_in_a_wedge in arm_routines.py)   \n",
    "- The object dictionary stores the points, the transformation matrix that changes the geometry/points to be the desired shape (\"Matrix_shape\") and a second matrix that puts the compoment in the right place in space (\"Matrix_pose) and some additional stuff (name, color, lengths, angles)\n",
    "- Theere are two plot routines. The first plots the object with just the Matrix_shape matrix. The second uses both to place the object in space (Matrix_pose @ Matrix_shape)\n",
    "\n",
    "Note: These **plot routines are called at the end of each question in this jupyter notebook**; they should at least run even if you haven't edited the code (they'll just draw objects with the identity matrix). You should jump to the end to the plots to visualize what you've done as you work through the problems."
   ]
  },
  {
   "cell_type": "code",
   "execution_count": null,
   "metadata": {},
   "outputs": [],
   "source": [
    "# The usual imports\n",
    "import numpy as np\n",
    "import matplotlib.pyplot as plt\n",
    "\n",
    "# These are the routines used in the lecture activity - we'll re-use them here\n",
    "import matrix_routines as mt"
   ]
  },
  {
   "cell_type": "code",
   "execution_count": null,
   "metadata": {},
   "outputs": [],
   "source": [
    "# These are the routines you'll edit for the lab. You can edit them in the.py file OR copy them in from the .py file to here\n",
    "#  If you do the latter, you'll probably want to copy them back to arm_routines.py for the homework\n",
    "# If you decide to copy the functions in here, make sure to copy ALL of the functions in arm_routines.py to here, \n",
    "#   then comment out this line and do a restart\n",
    "from arm_routines import points_in_a_square, points_in_a_wedge, \\\n",
    "    matrix_shape_base, matrix_shape_link, matrix_shape_palm, matrix_shape_finger"
   ]
  },
  {
   "cell_type": "code",
   "execution_count": null,
   "metadata": {},
   "outputs": [],
   "source": [
    "# These are the routines in arm_routines.py you'll need, but you don't need to change/edit them\n",
    "from arm_routines import create_arm_component, create_arm_geometry, plot_arm_components"
   ]
  },
  {
   "cell_type": "code",
   "execution_count": null,
   "metadata": {},
   "outputs": [],
   "source": [
    "# These commands will force JN to actually re-load the external file when you re-execute the import command\n",
    "%load_ext autoreload\n",
    "%autoreload 2"
   ]
  },
  {
   "cell_type": "markdown",
   "metadata": {
    "deletable": false,
    "editable": false
   },
   "source": [
    "## Step 1: Shape the base and the links\n",
    "\n",
    "Use matrices to take two basic shapes (a square and a wedge) and re-shape them into the geometry for the arm, gripper.\n",
    "\n",
    "Yes, you could just create these basic shapes with the \"correct\" XYs, but we'll use a matrix to transform the\n",
    "basic shape (square, wedge) to the correct size and shape. This way, we only have to make a square and a wedge and then just use matrices to shape them.\n",
    "\n",
    "This is actually what most packages (eg, solidworks) do when you make a model. Each part of the model is defined in a \"canonical\" location, then transformed to the desired position/scale/rotation using a matarix. This is\n",
    " *before* calculating the matrix that positions the part based on the, eg, joint angles\n",
    "\n",
    "For all of these, you should be creating a matrix that consists of a scale followed by a rotate (maybe) followed by a translate\n",
    "\n",
    "See slides for what the resulting re-positioned shapes look like; a reminder that there is a plot function at the bottom of this JN that you can use at any time.\n",
    "\n",
    "TODO step 1: Copy your code to make the square points into **points_in_a_square** in **arm_routines.py** (the wedge is done for you).\n",
    "\n",
    "TODO step 2: Edit **matrix_shape_base, matrix_shape_link, matrix_shape_palm, and (optional) matrix_shape_finger**\n",
    "\n",
    "These functions do the equivalent of what we did with **mat_transform_square** in the lecture activity.\n",
    "\n",
    "The following tests/cells breaks out each of those routines and checks the results. The function **create_arm_geometry** puts all of those functions together to create the geometry for the entire arm."
   ]
  },
  {
   "cell_type": "code",
   "execution_count": null,
   "metadata": {
    "tags": []
   },
   "outputs": [],
   "source": [
    "# The sizes for all of the components\n",
    "base_size_param = (0.5, 1.0)\n",
    "link_sizes_param = [(0.5, 0.25), (0.3, 0.1), (0.2, 0.05)]\n",
    "palm_width_param = 0.1\n",
    "finger_size_param = (0.075, 0.025)"
   ]
  },
  {
   "cell_type": "code",
   "execution_count": null,
   "metadata": {
    "tags": []
   },
   "outputs": [],
   "source": [
    "# Check the returned values\n",
    "np.set_printoptions(precision=4, floatmode='fixed')  # Print out with 4 digits of precision\n",
    "\n",
    "# This is the base of the robot\n",
    "base_obj = create_arm_component(name=\"Base\", pts=points_in_a_wedge(), color=\"darkturquoise\")\n",
    "\n",
    "# Here is where the matrix that moves the base (which is a wedge) to the right size/place is set\n",
    "matrix_shape_base(base_obj=base_obj, base_height=base_size_param[0], base_width=base_size_param[1])\n",
    "\n",
    "print(f\"Matrix\\n{base_obj['Matrix_shape']}\")\n",
    "print(f\"Pts transformed\\n{base_obj['Matrix_shape'] @ base_obj['Pts']}\")\n",
    "\n",
    "mat_base_check = np.array([[0.5, 0.0, 0], [0.0, 0.25, 0.25], [0.0, 0.0, 1.0]])\n",
    "assert(np.all(np.isclose(base_obj[\"Matrix_shape\"], mat_base_check)))"
   ]
  },
  {
   "cell_type": "code",
   "execution_count": null,
   "metadata": {
    "tags": []
   },
   "outputs": [],
   "source": [
    "link_obj = create_arm_component(name=f\"Link\", pts=points_in_a_square(), color=\"black\")\n",
    "\n",
    "# Set the matrix that scales/translates the square to the right place\n",
    "matrix_shape_link(link_obj=link_obj, link_length=link_sizes_param[0][0], link_width=link_sizes_param[0][1])\n",
    "\n",
    "print(f\"Matrix\\n{link_obj['Matrix_shape']}\")\n",
    "print(f\"Pts transformed\\n{link_obj['Matrix_shape'] @ link_obj['Pts']}\")\n",
    "\n",
    "mat_link1_check = np.array([[0.25, 0.0, 0.25], [0.0, 0.125, 0.0], [0.0, 0.0, 1.0]])\n",
    "assert(np.all(np.isclose(link_obj[\"Matrix_shape\"], mat_link1_check)))"
   ]
  },
  {
   "cell_type": "code",
   "execution_count": null,
   "metadata": {
    "tags": []
   },
   "outputs": [],
   "source": [
    "palm_obj = create_arm_component(name=\"Palm\", pts=points_in_a_square(), color=\"tomato\")\n",
    "# Sets the Matrix_scale key\n",
    "matrix_shape_palm(palm_obj, palm_width=palm_width_param)\n",
    "\n",
    "print(f\"Matrix\\n{palm_obj['Matrix_shape']}\")\n",
    "print(f\"Pts transformed\\n{palm_obj['Matrix_shape'] @ palm_obj['Pts']}\")\n",
    "\n",
    "mat_palm_check = np.array([[0.005, 0.0, 0.0], [0.0, 0.05, 0.0], [0.0, 0.0, 1.0]])\n",
    "assert(np.all(np.isclose(palm_obj[\"Matrix_shape\"], mat_palm_check)))"
   ]
  },
  {
   "cell_type": "code",
   "execution_count": null,
   "metadata": {
    "tags": []
   },
   "outputs": [],
   "source": [
    "# Top finger - we'll do the bottom one in the next cell\n",
    "finger_top_obj = create_arm_component(name=\"Finger_top\", pts=points_in_a_wedge(), color=\"black\")\n",
    "\n",
    "matrix_shape_finger(finger_top_obj, palm_width=palm_width_param, finger_size=finger_size_param, b_is_top=True)\n",
    "\n",
    "print(f\"Matrix\\n{finger_top_obj['Matrix_shape']}\")\n",
    "print(f\"Pts transformed\\n{finger_top_obj['Matrix_shape'] @ finger_top_obj['Pts']}\")\n",
    "\n",
    "mat_finger_top_check = np.array([[0.0375, 0.0, 0.0375], [0.0, 0.0125, 0.05], [0.0, 0.0, 1.0]])\n",
    "assert(np.all(np.isclose(finger_top_obj[\"Matrix_shape\"], mat_finger_top_check)))"
   ]
  },
  {
   "cell_type": "code",
   "execution_count": null,
   "metadata": {
    "tags": []
   },
   "outputs": [],
   "source": [
    "finger_bot_obj = create_arm_component(name=\"Finger_top\", pts=points_in_a_wedge(), color=\"black\")\n",
    "\n",
    "matrix_shape_finger(finger_bot_obj, palm_width=0.1, finger_size=finger_size_param, b_is_top=False)\n",
    "\n",
    "print(f\"Matrix\\n{finger_bot_obj['Matrix_shape']}\")\n",
    "print(f\"Pts transformed\\n{finger_bot_obj['Matrix_shape'] @ finger_bot_obj['Pts']}\")\n",
    "\n",
    "mat_finger_bot_check = np.array([[0.0375, 0.0, 0.0375], [0.0, 0.0125, -0.05], [0.0, 0.0, 1.0]])\n",
    "assert(np.all(np.isclose(finger_bot_obj[\"Matrix_shape\"], mat_finger_bot_check)))\n"
   ]
  },
  {
   "cell_type": "code",
   "execution_count": null,
   "metadata": {
    "deletable": false,
    "editable": false
   },
   "outputs": [],
   "source": [
    "grader.check(\"Matrix_position\")"
   ]
  },
  {
   "cell_type": "markdown",
   "metadata": {
    "deletable": false,
    "editable": false
   },
   "source": [
    "# Put it all together to make the entire arm plus gripper\n",
    "\n",
    "This should just \"work\" if you did the previous part correctly (no TODOs). "
   ]
  },
  {
   "cell_type": "code",
   "execution_count": null,
   "metadata": {
    "tags": []
   },
   "outputs": [],
   "source": [
    "\n",
    "# This function calls each of the set_transform_xxx functions, and puts the results\n",
    "# in a list (the gripper - the last element - is a list)\n",
    "arm_geometry = create_arm_geometry(base_size_param, link_sizes_param, palm_width_param, finger_size_param)\n",
    "if len(arm_geometry) != 5:\n",
    "    print(\"Wrong number of components, should be 5, got {len(arm_geometry)}\")\n",
    "if len(arm_geometry[-1]) != 3:\n",
    "    print(\"Wrong number of gripper components, should be 3, got {len(arm_geometry[-1])}\")\n",
    "\n",
    "# Print the base and the links\n",
    "for link in arm_geometry[:-1]:\n",
    "    print(f\"Link {link['Name']}\")\n",
    "    print(f\"  Matrix (shape)\\n   {link['Matrix_shape']}\")\n",
    "\n",
    "# ... and the gripper\n",
    "print(\"Gripper:\")\n",
    "for link in arm_geometry[-1]:\n",
    "    print(f\" Part: {link['Name']}\")\n",
    "    print(f\"  Matrix (shape)\\n   {link['Matrix_shape']}\")\n"
   ]
  },
  {
   "cell_type": "code",
   "execution_count": null,
   "metadata": {
    "tags": []
   },
   "outputs": [],
   "source": [
    "# Should show all 5 components, the base, 3 links, and the gripper\n",
    "# Step 1 - note, comment out this one if you don't want both drawn on top of each other when you do step 2\n",
    "fig, axs = plt.subplots(1, len(arm_geometry), figsize=(4 * len(arm_geometry), 4))\n",
    "\n",
    "# TODO Edit plot_arm_components to do matrix transforms\n",
    "plot_arm_components(axs, arm_geometry, b_do_pose_matrix=False)"
   ]
  },
  {
   "cell_type": "code",
   "execution_count": null,
   "metadata": {
    "deletable": false,
    "editable": false
   },
   "outputs": [],
   "source": [
    "grader.check(\"Step_1\")"
   ]
  },
  {
   "cell_type": "markdown",
   "metadata": {
    "deletable": false,
    "editable": false
   },
   "source": [
    "## Step 2 - set the matrices that rotate the links/palm\n",
    "\n",
    "TODO: Edit **set_matrices_all_components** so that the \"Matrix_pose\" key has the rotation for each link\n",
    "\n",
    "This is the equivalent of the **mat_rotate_link** matrices from the lecture activity.\n",
    "\n",
    "Reminder that the plotting below can be used to check the results"
   ]
  },
  {
   "cell_type": "code",
   "execution_count": null,
   "metadata": {
    "tags": []
   },
   "outputs": [],
   "source": [
    "def set_rotation_matrices_all_components(arm_list, angles_list):\n",
    "    \"\"\" For each component, set the Matrix_pose to be a matrix that rotates each component by the desired amount\n",
    "    In other words, set the \"Matrix_pose\" key in each dictionary in arm_link\n",
    "\n",
    "    In the Homework you'll edit a similar function to set \"Matrix_pose\" to be the matrix that takes the component to its final position\n",
    "    @param arm_list - the list of the arm component dictionaries.\n",
    "    @param angles_list - a list of angles, one for each link, one for the palm, and one for the fingers\n",
    "    \"\"\"\n",
    "\n",
    "    # TODO: Set the \"Matrix_pose\" matrix for each arm component\n",
    "\n",
    "    # The base link - it doesn't move, so this is the identity matrix. Setting here just to show the syntax of\n",
    "    #   setting the Matrix_pose keye\n",
    "    arm_list[0][\"Matrix_pose\"] = np.identity(3)\n",
    "\n",
    "    # TODO:\n",
    "    #  For each link, set Matrix_pose to be the rotation matrix that rotates the link to the correct orientation\n",
    "\n",
    "    # This gets the angle that corresponds to each link plus the link dictionary for all links\n",
    "    for ang, link in zip(angles_list[0:-1], arm_list[1:-1]):\n",
    "        # Save the angle to the dictionary\n",
    "        link[\"Angle\"] = ang\n",
    "        link[\"Matrix_pose\"] = np.identity(3)\n",
    "        # TODO \n",
    "        # For the Lab: Set the matrix in the key \"Matrix_pose\" to be a rotation for that link\n",
    "        #  Yes, this should be a simple call to make_rotation_matrix\n",
    "        ...\n",
    "\n",
    "    # Now do the gripper (palm) - the fingers are optional\n",
    "    # If you don't do the fingers, just use the same matrix for the palm AND the fingers\n",
    "    gripper = arm_list[-1]\n",
    "    angles_gripper = angles_list[-1]\n",
    "    palm_obj = gripper[0]\n",
    "    palm_obj[\"Angle\"] = angles_gripper[0]\n",
    "    palm_obj[\"Matrix_pose\"] = np.identity(3)\n",
    "\n",
    "    # TODO Set the matrix pose for the palm. This is exactly the same as setting the link pose. Note that the angle is stored\n",
    "    # in palm[\"Angle\"]\n",
    "    ...\n",
    "\n",
    "    # TODO (optional): Rotate the finger by the desired angle as well as the rotation by the palm angle\n",
    "    #   If you do not do the optional finger rotation then the finger rotation matrix should be the same as the palm's\n",
    "    #  Optional:\n",
    "    #   Translate the base of the finger back to the origin, rotate it, then translate it back out\n",
    "    #   Reminder: The middle of the finger can be found using mt.get_dx_dy_from_matrix\n",
    "    #    Note 1: You want to move the base of the finger, NOT the middle, to the origin before you do the rotate\n",
    "    #    Note 2: The top finger rotates by finger_angle, the bottom by - finger_angle - this is already handled\n",
    "    #      in finger_angle\n",
    "    for finger, finger_angle in zip(gripper[1:3], angles_gripper[1:]):\n",
    "        finger[\"Angle\"] = finger_angle\n",
    "        ...\n"
   ]
  },
  {
   "cell_type": "code",
   "execution_count": null,
   "metadata": {
    "tags": []
   },
   "outputs": [],
   "source": [
    "# Call the above function with test values\n",
    "angles_check = [np.pi/2, -np.pi/4, -3.0 * np.pi/4, [np.pi/3.0, np.pi/4.0, -np.pi/4.0]]\n",
    "\n",
    "# You can use the above set of angles to check each part of the plot\n",
    "#  Make sure to leave it on angles_check when you're done\n",
    "set_rotation_matrices_all_components(arm_geometry, angles_check)\n"
   ]
  },
  {
   "cell_type": "code",
   "execution_count": null,
   "metadata": {
    "tags": []
   },
   "outputs": [],
   "source": [
    "# Check the rotation matrix for the first link\n",
    "mat_rot_link1 = arm_geometry[1][\"Matrix_pose\"]\n",
    "print(mat_rot_link1)\n",
    "mat_rot_link1_check = np.array([[0.0, -1.0, 0.0], [1.0, 0.0, 0.0], [0.0, 0.0, 1.0]])\n",
    "assert(np.all(np.isclose(mat_rot_link1, mat_rot_link1_check)))"
   ]
  },
  {
   "cell_type": "code",
   "execution_count": null,
   "metadata": {
    "tags": []
   },
   "outputs": [],
   "source": [
    "# Check the rotation matrix for the palm\n",
    "mat_rot_palm = arm_geometry[-1][0][\"Matrix_pose\"]\n",
    "print(mat_rot_palm)\n",
    "mat_rot_palm_check = mt.make_rotation_matrix(angles_check[-1][0])\n",
    "assert(np.all(np.isclose(mat_rot_palm, mat_rot_palm_check, atol=0.3)))"
   ]
  },
  {
   "cell_type": "code",
   "execution_count": null,
   "metadata": {
    "tags": []
   },
   "outputs": [],
   "source": [
    "# Check the rotation matrix for the top finger (optional)\n",
    "mat_rot_top_finger = arm_geometry[-1][1][\"Matrix_pose\"]\n",
    "print(mat_rot_top_finger)\n",
    "mat_rot_top_finger_check = np.array([[-0.2588, -0.9659, 0.0050], [0.9659, -0.2588, 0.0379], [0.0, 0.0, 1.0]])\n",
    "assert(np.all(np.isclose(mat_rot_top_finger, mat_rot_top_finger_check, atol=0.3)))"
   ]
  },
  {
   "cell_type": "code",
   "execution_count": null,
   "metadata": {
    "tags": []
   },
   "outputs": [],
   "source": [
    "# Check the rotation matrix for the bottom finger (optional)\n",
    "mat_rot_bot_finger = arm_geometry[-1][2][\"Matrix_pose\"]\n",
    "print(mat_rot_bot_finger)\n",
    "mat_rot_bot_finger_check = np.array([[0.9659, -0.2588, 0.0304], [0.2588, 0.9659, 0.0233], [0.0, 0.0, 1.0]])\n",
    "assert(np.all(np.isclose(mat_rot_bot_finger, mat_rot_bot_finger_check, atol=0.3)))"
   ]
  },
  {
   "cell_type": "code",
   "execution_count": null,
   "metadata": {
    "deletable": false,
    "editable": false
   },
   "outputs": [],
   "source": [
    "grader.check(\"set_matrix_from_angles\")"
   ]
  },
  {
   "cell_type": "markdown",
   "metadata": {
    "deletable": false,
    "editable": false
   },
   "source": [
    "# Plotting for step 2\n",
    "\n",
    "I've included several different sets of angle values for you."
   ]
  },
  {
   "cell_type": "code",
   "execution_count": null,
   "metadata": {
    "tags": []
   },
   "outputs": [],
   "source": [
    "# Step 2 - rotate each link element in its own cooridinate system\n",
    "# Several different angles to check your results with\n",
    "angles_none = [0.0, 0.0, 0.0, [0.0, 0.0, 0.0]]\n",
    "angles_check_fingers = [np.pi/2, -np.pi/4, -3.0 * np.pi/4, [0.0, np.pi/4.0, -np.pi/4.0]]\n",
    "angles_check_wrist = [np.pi/2, -np.pi/4, -3.0 * np.pi/4, [np.pi/3.0, 0.0, 0.0]]\n",
    "angles_check = [np.pi/2, -np.pi/4, -3.0 * np.pi/4, [np.pi/3.0, np.pi/4.0, -np.pi/4.0]]\n",
    "\n",
    "# You can use the above set of angles to check each part of the plot\n",
    "#  Make sure to leave it on angles_check when you're done\n",
    "set_rotation_matrices_all_components(arm_geometry, angles_check)\n",
    "fig, axs = plt.subplots(1, len(arm_geometry), figsize=(6 * len(arm_geometry), 6))\n",
    "plot_arm_components(axs, arm_geometry, b_do_pose_matrix=True)"
   ]
  },
  {
   "cell_type": "code",
   "execution_count": null,
   "metadata": {
    "tags": []
   },
   "outputs": [],
   "source": [
    "# Manual grade\n",
    "print(\"This is a manually-graded question; there is no grader.check() function. See rubric and slides for more information on expected output.\")"
   ]
  },
  {
   "cell_type": "markdown",
   "metadata": {
    "deletable": false,
    "editable": false
   },
   "source": [
    "## Hours and collaborators\n",
    "Required for every assignment - fill out before you hand-in.\n",
    "\n",
    "Listing names and websites helps you to document who you worked with and what internet help you received in the case of any plagiarism issues. You should list names of anyone (in class or not) who has substantially helped you with an assignment - or anyone you have *helped*. You do not need to list TAs.\n",
    "\n",
    "Listing hours helps us track if the assignments are too long."
   ]
  },
  {
   "cell_type": "code",
   "execution_count": null,
   "metadata": {
    "tags": []
   },
   "outputs": [],
   "source": [
    "\n",
    "# List of names (creates a set)\n",
    "worked_with_names = {\"not filled out\"}\n",
    "# List of URLS I25 (creates a set)\n",
    "websites = {\"not filled out\"}\n",
    "# Approximate number of hours, including lab/in-class time\n",
    "hours = -1.5"
   ]
  },
  {
   "cell_type": "code",
   "execution_count": null,
   "metadata": {
    "deletable": false,
    "editable": false
   },
   "outputs": [],
   "source": [
    "grader.check(\"hours_collaborators\")"
   ]
  },
  {
   "cell_type": "markdown",
   "metadata": {},
   "source": [
    "### To submit\n",
    "\n",
    "Read me!!!   **Read me!!!**\n",
    "\n",
    "- Submit this .ipynb file **AND** arm_routines.py. If you don't include arm_routines.py Gradescope cannot magically reach out to your computer and find your arm_routines.py file.\n",
    "- We will supply matrix_routines.py for you (it won't break anything if you do include it)\n",
    "\n",
    "If the Gradescope autograder fails, please check here first for common reasons for it to fail\n",
    "    https://docs.google.com/presentation/d/1tYa5oycUiG4YhXUq5vHvPOpWJ4k_xUPp2rUNIL7Q9RI/edit?usp=sharing\n",
    "\n",
    "Lots of people forget arm_routines.py. "
   ]
  }
 ],
 "metadata": {
  "kernelspec": {
   "display_name": "Python 3",
   "language": "python",
   "name": "python3"
  },
  "language_info": {
   "codemirror_mode": {
    "name": "ipython",
    "version": 3
   },
   "file_extension": ".py",
   "mimetype": "text/x-python",
   "name": "python",
   "nbconvert_exporter": "python",
   "pygments_lexer": "ipython3",
   "version": "3.11.7"
  },
  "otter": {
   "OK_FORMAT": true,
   "tests": {
    "Matrix_position": {
     "name": "Matrix_position",
     "points": 5,
     "suites": [
      {
       "cases": [
        {
         "code": ">>> assert np.all(np.isclose(base_obj['Matrix_shape'], mat_base_check))\n",
         "hidden": false,
         "locked": false
        },
        {
         "code": ">>> assert np.all(np.isclose(link_obj['Matrix_shape'], mat_link1_check))\n",
         "hidden": false,
         "locked": false
        },
        {
         "code": ">>> assert np.all(np.isclose(palm_obj['Matrix_shape'], mat_palm_check))\n",
         "hidden": false,
         "locked": false
        }
       ],
       "scored": true,
       "setup": "",
       "teardown": "",
       "type": "doctest"
      }
     ]
    },
    "Step_1": {
     "name": "Step_1",
     "points": 1,
     "suites": [
      {
       "cases": [
        {
         "code": ">>> assert len(arm_geometry) == 5\n",
         "hidden": false,
         "locked": false
        },
        {
         "code": ">>> assert len(arm_geometry[-1]) == 3\n",
         "hidden": false,
         "locked": false
        }
       ],
       "scored": true,
       "setup": "",
       "teardown": "",
       "type": "doctest"
      }
     ]
    },
    "hours_collaborators": {
     "name": "hours_collaborators",
     "points": 1,
     "suites": [
      {
       "cases": [
        {
         "code": ">>> assert not 'not filled out' in worked_with_names\n",
         "hidden": false,
         "locked": false
        },
        {
         "code": ">>> assert not 'not filled out' in websites\n",
         "hidden": false,
         "locked": false
        },
        {
         "code": ">>> assert hours > 0\n",
         "hidden": false,
         "locked": false
        }
       ],
       "scored": true,
       "setup": "",
       "teardown": "",
       "type": "doctest"
      }
     ]
    },
    "set_matrix_from_angles": {
     "name": "set_matrix_from_angles",
     "points": 2,
     "suites": [
      {
       "cases": [
        {
         "code": ">>> assert np.all(np.isclose(mat_rot_link1, mat_rot_link1_check))\n",
         "hidden": false,
         "locked": false
        },
        {
         "code": ">>> assert np.all(np.isclose(mat_rot_palm, mat_rot_palm_check, atol=0.3))\n",
         "hidden": false,
         "locked": false
        }
       ],
       "scored": true,
       "setup": "",
       "teardown": "",
       "type": "doctest"
      }
     ]
    }
   }
  }
 },
 "nbformat": 4,
 "nbformat_minor": 2
}
