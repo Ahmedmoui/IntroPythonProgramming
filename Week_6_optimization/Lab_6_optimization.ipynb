{
"cells": [
{
"cell_type": "code",
"execution_count": null,
"metadata": {
"deletable": false,
"editable": false
},
"outputs": [],
"source": [
"# Initialize Otter\n",
"import otter\n",
"grader = otter.Notebook(\"Lab_6_optimization.ipynb\")"
]
},
{
"cell_type": "markdown",
"metadata": {},
"source": [
"# Setting up a function for fmin\n",
"\n",
"Set up the function that we will be passing to fmin\n",
"\n",
"Slides: https://docs.google.com/presentation/d/1m-8UphLgGLVaDKKcZ-NA_ejgOFlkD1Rlz3_sW0fHBM8/edit?usp=sharing"
]
},
{
"cell_type": "code",
"execution_count": null,
"metadata": {},
"outputs": [],
"source": [
"# The usual imports\n",
"import numpy as np\n",
"import matplotlib.pyplot as plt\n"
]
},
{
"cell_type": "code",
"execution_count": null,
"metadata": {},
"outputs": [],
"source": [
"# Imports from week 5\n",
"# This bit of code tells Jupyter notebooks to also look in the week_6_optimization folder for files\n",
"import os\n",
"import sys\n",
"sys.path.insert(0, os.path.abspath('../Week_5_matrices'))\n",
"\n",
"# Routines from HW 3, Lab 5\n",
"# These are the routines used in the lab and/or you need to fill in for the homework (lab 5, week 5)\n",
"from arm_routines import create_arm_geometry, set_angles_of_arm_geometry, get_gripper_location"
]
},
{
"cell_type": "code",
"execution_count": null,
"metadata": {},
"outputs": [],
"source": [
"# These are the routines used in the lab and/or you need to fill in for the homework (lab 6, week 6)\n",
"from arm_optimization_routines import vector_to_goal, distance_to_goal, func_for_fmin, angles_list_to_numpy"
]
},
{
"cell_type": "code",
"execution_count": null,
"metadata": {},
"outputs": [],
"source": [
"# These commands will force JN to actually re-load the external file when you re-execute the import command\n",
"%load_ext autoreload\n",
"%autoreload 2"
]
},
{
"cell_type": "markdown",
"metadata": {},
"source": [
"## Distance from gripper locatin to target\n",
"\n",
"TODO: Edit vector_to_goal and distance_to_goal in arm_optimization_routines.py"
]
},
{
"cell_type": "code",
"execution_count": null,
"metadata": {
"tags": []
},
"outputs": [],
"source": [
"# Create the arm geometry\n",
"base_size_param = (1.0, 0.5)\n",
"link_sizes_param = [(0.5, 0.25), (0.3, 0.1), (0.2, 0.05)]\n",
"palm_width_param = 0.1\n",
"finger_size_param = (0.075, 0.025)\n",
"\n",
"arm_geometry = create_arm_geometry(base_size_param, link_sizes_param, palm_width_param, finger_size_param)\n",
"\n",
"# Set the angles of the arm\n",
"angles_gripper_check = [np.pi/6.0, -np.pi/4, 1.5 * np.pi/4, [np.pi/3.0, -np.pi/8.0, np.pi/6.0]]\n",
"set_angles_of_arm_geometry(arm_geometry, angles_gripper_check)"
]
},
{
"cell_type": "code",
"execution_count": null,
"metadata": {
"tags": []
},
"outputs": [],
"source": [
"# Get the gripper location\n",
"x, y = get_gripper_location(arm_geometry)\n",
"print(f\"Gripper location ({x}, {y}), should be (-0.383, 1.323)\")"
]
},
{
"cell_type": "code",
"execution_count": null,
"metadata": {
"tags": []
},
"outputs": [],
"source": [
"target = np.array([0.75, 1.25])\n",
"vx, vy = vector_to_goal(arm_geometry, target)\n",
"print(f\"Vector to goal ({vx}, {vy}), should be (1.133, -0.073)\")"
]
},
{
"cell_type": "code",
"execution_count": null,
"metadata": {
"tags": []
},
"outputs": [],
"source": [
"d_to_target = distance_to_goal(arm_geometry, target)\n",
"print(f\"Distance to goal {d_to_target}, should be 1.1353\")"
]
},
{
"cell_type": "code",
"execution_count": null,
"metadata": {
"deletable": false,
"editable": false
},
"outputs": [],
"source": [
"grader.check(\"dist_func\")"
]
},
{
"cell_type": "markdown",
"metadata": {},
"source": [
"# Edit the function that will be passed to fmin\n",
"\n",
"TODO: edit **func_for_fmin** to take in a numpy array of angles and return the distance"
]
},
{
"cell_type": "code",
"execution_count": null,
"metadata": {
"tags": []
},
"outputs": [],
"source": [
"# This is a helper function to convert the list of angles in angles_gripper into a numpy array, which is\n",
"#  what fmin works with\n",
"angles_numpy = angles_list_to_numpy(angles_gripper_check)\n",
"check_dist = func_for_fmin(angles_numpy, arm_geometry, target)\n",
"print(f\"Check func for min {check_dist}, should be 1.1353\")\n"
]
},
{
"cell_type": "code",
"execution_count": null,
"metadata": {
"deletable": false,
"editable": false
},
"outputs": [],
"source": [
"grader.check(\"Func\")"
]
},
{
"cell_type": "markdown",
"metadata": {},
"source": [
"## Hours and collaborators\n",
"Required for every assignment - fill out before you hand-in.\n",
"\n",
"Listing names and websites helps you to document who you worked with and what internet help you received in the case of any plagiarism issues. You should list names of anyone (in class or not) who has substantially helped you with an assignment - or anyone you have *helped*. You do not need to list TAs.\n",
"\n",
"Listing hours helps us track if the assignments are too long."
]
},
{
"cell_type": "code",
"execution_count": null,
"metadata": {
"tags": []
},
"outputs": [],
"source": [
"\n",
"# List of names (creates a set)\n",
"worked_with_names = {\"not filled out\"}\n",
"# List of URLS (creates a set)\n",
"websites = {\"not filled out\"}\n",
"# Approximate number of hours, including lab/in-class time\n",
"hours = -1.5\n",
"\n",
"# for all row, column in all_indices_from_where\n",
"#.   if this is the column for wrist torque \n",
"#.      print(f\"Row: {r}, Time step: {c // n_time_steps} Successful y/n: {pick_data[r, -1] == 1}, value: {pick_data[r, c]}\")"
]
},
{
"cell_type": "code",
"execution_count": null,
"metadata": {
"deletable": false,
"editable": false
},
"outputs": [],
"source": [
"grader.check(\"hours_collaborators\")"
]
},
{
"cell_type": "markdown",
"metadata": {
"deletable": false,
"editable": false
},
"source": [
"## Submission\n",
"\n",
"Make sure you have run all cells in your notebook in order before running the cell below, so that all images/graphs appear in the output. The cell below will generate a zip file for you to submit. **Please save before exporting!**\n",
"\n",
"Submit through gradescope, week 6 lab. Don't forget arm_routines.py and arm_optimization_routines.py"
]
},
{
"cell_type": "code",
"execution_count": null,
"metadata": {
"deletable": false,
"editable": false
},
"outputs": [],
"source": [
"# Save your notebook first, then run this cell to export your submission.\n",
"grader.export(run_tests=True)"
]
},
{
"cell_type": "markdown",
"metadata": {},
"source": [
" "
]
}
],
"metadata": {
"kernelspec": {
"display_name": "Python 3",
"language": "python",
"name": "python3"
},
"language_info": {
"codemirror_mode": {
"name": "ipython",
"version": 3
},
"file_extension": ".py",
"mimetype": "text/x-python",
"name": "python",
"nbconvert_exporter": "python",
"pygments_lexer": "ipython3",
"version": "3.7.4"
},
"otter": {
"OK_FORMAT": true,
"tests": {
"Func": {
"name": "Func",
"points": 5,
"suites": [
{
"cases": [
{
"code": ">>> assert(np.isclose(check_dist, 1.1353, atol=0.1))\n",
"hidden": false,
"locked": false
}
],
"scored": true,
"setup": "",
"teardown": "",
"type": "doctest"
}
]
},
"dist_func": {
"name": "dist_func",
"points": 4,
"suites": [
{
"cases": [
{
"code": ">>> assert(np.isclose(vx, 1.133, atol=0.01))\n",
"hidden": false,
"locked": false
},
{
"code": ">>> assert(np.isclose(vy, -0.073, atol=0.01))\n",
"hidden": false,
"locked": false
},
{
"code": ">>> assert(np.isclose(d_to_target, 1.1353, atol=0.01))\n",
"hidden": false,
"locked": false
}
],
"scored": true,
"setup": "",
"teardown": "",
"type": "doctest"
}
]
},
"hours_collaborators": {
"name": "hours_collaborators",
"points": 1,
"suites": [
{
"cases": [
{
"code": ">>> assert(not \"not filled out\" in worked_with_names)\n",
"hidden": false,
"locked": false
},
{
"code": ">>> assert(not \"not filled out\" in websites)\n",
"hidden": false,
"locked": false
},
{
"code": ">>> assert(hours > 0)\n",
"hidden": false,
"locked": false
}
],
"scored": true,
"setup": "",
"teardown": "",
"type": "doctest"
}
]
}
}
}
},
"nbformat": 4,
"nbformat_minor": 2
}