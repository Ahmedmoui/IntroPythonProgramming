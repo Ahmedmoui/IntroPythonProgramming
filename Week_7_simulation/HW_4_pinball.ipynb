{
"cells": [
{
"cell_type": "code",
"execution_count": null,
"metadata": {
"deletable": false,
"editable": false
},
"outputs": [],
"source": [
"# Initialize Otter\n",
"import otter\n",
"grader = otter.Notebook(\"HW_4_pinball.ipynb\")"
]
},
{
"cell_type": "markdown",
"metadata": {},
"source": [
"# HWK 4 pinball simulation\n",
"\n",
"The full pinball simulation: slides https://docs.google.com/presentation/d/1fNTOc_4YXfBkQ_ko9X8eQqAgK3Opnn9c02i72sVDqKU/edit?usp=sharing\n",
"\n",
"Full pinball \n",
" - position and velocity with Euler simulation (lecture activity, compute_next_step)\n",
" - stop when ball passes below y=0 (lab, simulate_pinball version 1)\n",
" - \"Bouncing\" off of the top and side walls (lab, outside_xx_wall, handle bounce, simulate_pinball version 1)\n",
" - \"Bouncing\" off of bumpers (homework)\n",
"\n",
"Week 1: we'll add two things for week 1:\n",
"- Circular \"bumpers\"\n",
"- Some bumpers will impart an acceleration to the pinball\n"
]
},
{
"cell_type": "code",
"execution_count": null,
"metadata": {},
"outputs": [],
"source": [
"# The usual imports\n",
"import numpy as np\n",
"import matplotlib.pyplot as plt"
]
},
{
"cell_type": "code",
"execution_count": null,
"metadata": {},
"outputs": [],
"source": [
"# These commands will force JN to actually re-load the external file when you re-execute the import command\n",
"%load_ext autoreload\n",
"%autoreload 2"
]
},
{
"cell_type": "markdown",
"metadata": {},
"source": [
"<!-- BEGIN QUESTION -->\n",
"\n",
"# Circular bumper\n",
"\n",
"TODO: Copy your lab simulation code, set up your imports, and add a circular bumper\n",
"- decide which functions/what the format of the functions should be to handle a bumper\n",
"- write test code for that function\n",
"- add handling bumpers to the simulation\n"
]
},
{
"cell_type": "code",
"execution_count": null,
"metadata": {
"tags": []
},
"outputs": [],
"source": [
"# Imports from week 5\n",
"# This bit of code tells Jupyter notebooks to also look in the week_6_optimization folder for files\n",
"import os\n",
"import sys\n",
"\n",
"# If you want them...\n",
"sys.path.insert(0, os.path.abspath('../Week_5_matrices'))"
]
},
{
"cell_type": "code",
"execution_count": null,
"metadata": {
"tags": []
},
"outputs": [],
"source": [
"# Pinball_routines imports\n",
"..."
]
},
{
"cell_type": "code",
"execution_count": null,
"metadata": {
"tags": []
},
"outputs": [],
"source": [
"# Simulate pinball routine\n",
"#. TODO Decide how to set up your parameters to support an arbitrary number of bumpers in addition to the walls\n",
"..."
]
},
{
"cell_type": "code",
"execution_count": null,
"metadata": {
"tags": []
},
"outputs": [],
"source": [
"# Time step\n",
"delta_t = 0.01\n",
"\n",
"# Test 1 - do you stop when you hit the floor?\n",
"starting_state = np.zeros([3, 2])  # location, velocity, acceleration\n",
"starting_state[0, :] = [0, 0] # Start at zero, zero\n",
"# Velocity - mostly up with a bit of x noise\n",
"# Check top wall only\n",
"# starting_state[1, :] = [-0.2, 10.0]\n",
"# Check all walls\n",
"# starting_state[1, :] = [5.2, 5.0]\n",
"# Check top left bumper\n",
"starting_state[1, :] = [2.4, 8.5]\n",
"starting_state[2, :] = [0.0, acceleration_due_to_gravity()]\n",
"\n",
"# Define a dictinary that holds the walls and bumpers\n",
"# Default is top wall at y=5, left/right walls at +- 3.0\n",
"# Bumpers of radius around 1 at each corner\n",
"...\n"
]
},
{
"cell_type": "code",
"execution_count": null,
"metadata": {
"tags": []
},
"outputs": [],
"source": [
"# TODO: your tests"
]
},
{
"cell_type": "markdown",
"metadata": {},
"source": [
"<!-- END QUESTION -->\n",
"\n",
"<!-- BEGIN QUESTION -->\n",
"\n",
"# Plot bumpers and walls and path\n",
"\n",
"TODO: Start with the plotting code from the lab\n",
" - add plotting the bumpers\n",
" "
]
},
{
"cell_type": "code",
"execution_count": null,
"metadata": {
"tags": []
},
"outputs": [],
"source": [
"# TODO: Plot the track, walls, and bumpers\n",
"#  Start with the lab plot\n",
"...\n"
]
},
{
"cell_type": "code",
"execution_count": null,
"metadata": {
"tags": []
},
"outputs": [],
"source": [
"# TODO Call the plot function\n",
"..."
]
},
{
"cell_type": "markdown",
"metadata": {},
"source": [
"<!-- END QUESTION -->\n",
"\n",
"# Use integration to calculate length of path"
]
},
{
"cell_type": "code",
"execution_count": null,
"metadata": {
"tags": []
},
"outputs": [],
"source": []
},
{
"cell_type": "code",
"execution_count": null,
"metadata": {
"tags": []
},
"outputs": [],
"source": [
"# TODO: Add in checks for outside_left_wall and outside_right_wall\n",
"# Add in check for poses not going outside of left/right walls\n"
]
},
{
"cell_type": "code",
"execution_count": null,
"metadata": {
"deletable": false,
"editable": false
},
"outputs": [],
"source": [
"grader.check(\"integrate_path\")"
]
},
{
"cell_type": "markdown",
"metadata": {},
"source": [
"<!-- BEGIN QUESTION -->\n",
"\n",
"# Plot\n",
"\n",
"I've provided the plot routine; you can run this at any point to check your current ret_poses as you're debugging"
]
},
{
"cell_type": "code",
"execution_count": null,
"metadata": {
"tags": []
},
"outputs": [],
"source": [
"# Plot the walls and the pinball path\n",
"def plot_pinball_lab(ret_poses, walls, total_time):\n",
"    \"\"\" plot the results of running the system AND the \"correct\" closed form result\n",
"    @param ret_poses - x y position values in a 2xn numpy array\n",
"    @param walls - The walls and ceiling locations (top, left, right)\n",
"    @param total_time - the total time the system ran (for closed form solution, delta_t * n time steps)\n",
"    @return Nothing\n",
"    \"\"\"\n",
"    nrows = 1\n",
"    ncols = 1\n",
"    fig, axs = plt.subplots(nrows, ncols, figsize=(4, 4))\n",
"\n",
"    # The values we calculated in calculate_n_time_steps\n",
"    axs.plot([walls[1], walls[2]], [walls[0], walls[0]], '-m', label=f\"Top wall {top_wall}\")\n",
"    axs.plot([walls[1], walls[2]], [0, 0], '-k', label=\"Floor wall\")\n",
"    axs.plot([walls[1], walls[1]], [0, walls[0]], '-g', label=\"Left wall\")\n",
"    axs.plot([walls[2], walls[2]], [0, walls[0]], '-g', label=\"Right wall\")\n",
"\n",
"    axs.plot(ret_poses[0, 0], ret_poses[1, 0], 'xr', label=\"Start\")\n",
"    axs.plot(ret_poses[0, :], ret_poses[1, :], '.-k', label=\"Poses\")\n",
"\n",
"    axs.axis('equal')\n",
"    axs.set_title(f\"Boring pinball, 0-{total_time} s\")\n",
"    axs.legend()"
]
},
{
"cell_type": "code",
"execution_count": null,
"metadata": {
"tags": []
},
"outputs": [],
"source": [
"# Pass the walls into the plot as a list\n",
"total_time = delta_t * ret_poses.shape[1]\n",
"plot_pinball_lab(ret_poses, [top_wall, left_wall, right_wall], total_time)"
]
},
{
"cell_type": "code",
"execution_count": null,
"metadata": {
"deletable": false,
"editable": false
},
"outputs": [],
"source": [
"grader.check(\"plotting\")"
]
},
{
"cell_type": "markdown",
"metadata": {},
"source": [
"<!-- END QUESTION -->\n",
"\n",
"# Question 5 instructions\n"
]
},
{
"cell_type": "code",
"execution_count": null,
"metadata": {
"tags": []
},
"outputs": [],
"source": [
"# code question 3"
]
},
{
"cell_type": "code",
"execution_count": null,
"metadata": {
"deletable": false,
"editable": false
},
"outputs": [],
"source": [
"grader.check(\"Question 3\")"
]
},
{
"cell_type": "markdown",
"metadata": {},
"source": [
"# Question 6 instructions\n"
]
},
{
"cell_type": "code",
"execution_count": null,
"metadata": {
"tags": []
},
"outputs": [],
"source": [
"# code question 3"
]
},
{
"cell_type": "code",
"execution_count": null,
"metadata": {
"deletable": false,
"editable": false
},
"outputs": [],
"source": [
"grader.check(\"Question 3\")"
]
},
{
"cell_type": "markdown",
"metadata": {},
"source": [
"## Hours and collaborators\n",
"Required for every assignment - fill out before you hand-in.\n",
"\n",
"Listing names and websites helps you to document who you worked with and what internet help you received in the case of any plagiarism issues. You should list names of anyone (in class or not) who has substantially helped you with an assignment - or anyone you have *helped*. You do not need to list TAs.\n",
"\n",
"Listing hours helps us track if the assignments are too long."
]
},
{
"cell_type": "code",
"execution_count": null,
"metadata": {
"tags": []
},
"outputs": [],
"source": [
"\n",
"# List of names (creates a set)\n",
"worked_with_names = {\"not filled out\"}\n",
"# List of URLS (creates a set)\n",
"websites = {\"not filled out\"}\n",
"# Approximate number of hours, including lab/in-class time\n",
"hours = -1.5\n",
"\n",
"# for all row, column in all_indices_from_where\n",
"#.   if this is the column for wrist torque \n",
"#.      print(f\"Row: {r}, Time step: {c // n_time_steps} Successful y/n: {pick_data[r, -1] == 1}, value: {pick_data[r, c]}\")"
]
},
{
"cell_type": "code",
"execution_count": null,
"metadata": {
"deletable": false,
"editable": false
},
"outputs": [],
"source": [
"grader.check(\"hours_collaborators\")"
]
},
{
"cell_type": "markdown",
"metadata": {
"deletable": false,
"editable": false
},
"source": [
"## Submission\n",
"\n",
"Make sure you have run all cells in your notebook in order before running the cell below, so that all images/graphs appear in the output. The cell below will generate a zip file for you to submit. **Please save before exporting!**\n",
"\n",
"Submit through gradescope, homework 4 pinball. Don't forget pinball_routines.py"
]
},
{
"cell_type": "code",
"execution_count": null,
"metadata": {
"deletable": false,
"editable": false
},
"outputs": [],
"source": [
"# Save your notebook first, then run this cell to export your submission.\n",
"grader.export(run_tests=True)"
]
},
{
"cell_type": "markdown",
"metadata": {},
"source": [
" "
]
}
],
"metadata": {
"kernelspec": {
"display_name": "Python 3",
"language": "python",
"name": "python3"
},
"language_info": {
"codemirror_mode": {
"name": "ipython",
"version": 3
},
"file_extension": ".py",
"mimetype": "text/x-python",
"name": "python",
"nbconvert_exporter": "python",
"pygments_lexer": "ipython3",
"version": "3.7.3"
},
"otter": {
"OK_FORMAT": true,
"tests": {
"Question 3": {
"name": "Question 3",
"points": 2,
"suites": [
{
"cases": [
{
"code": ">>> # Code test 3\n",
"hidden": false,
"locked": false
},
{
"code": ">>> # Code test 3\n",
"hidden": false,
"locked": false
}
],
"scored": true,
"setup": "",
"teardown": "",
"type": "doctest"
}
]
},
"hours_collaborators": {
"name": "hours_collaborators",
"points": 1,
"suites": [
{
"cases": [
{
"code": ">>> assert(not \"not filled out\" in worked_with_names)\n",
"hidden": false,
"locked": false
},
{
"code": ">>> assert(not \"not filled out\" in websites)\n",
"hidden": false,
"locked": false
},
{
"code": ">>> assert(hours > 0)\n",
"hidden": false,
"locked": false
}
],
"scored": true,
"setup": "",
"teardown": "",
"type": "doctest"
}
]
},
"integrate_path": {
"name": "integrate_path",
"points": 4,
"suites": [
{
"cases": [
{
"code": ">>> assert(outside_left_wall([left_wall + 0.5, 0.0], x_wall=left_wall) == False)\n",
"hidden": false,
"locked": false
},
{
"code": ">>> assert(outside_left_wall([left_wall - 0.5, 0.0], x_wall=left_wall) == True)\n",
"hidden": false,
"locked": false
},
{
"code": ">>> assert(outside_right_wall([right_wall - 0.5, 0.0], x_wall=right_wall) == False)\n",
"hidden": false,
"locked": false
},
{
"code": ">>> assert(outside_right_wall([right_wall + 0.5, 0.0], x_wall=right_wall) == True)\n",
"hidden": false,
"locked": false
},
{
"code": ">>> assert(np.all(ret_poses[0, :] < right_wall + 0.01))\n",
"hidden": false,
"locked": false
},
{
"code": ">>> assert(np.all(ret_poses[0, :] > left_wall - 0.01))\n",
"hidden": false,
"locked": false
}
],
"scored": true,
"setup": "",
"teardown": "",
"type": "doctest"
}
]
},
"plotting": {
"name": "plotting",
"points": 2,
"suites": [
{
"cases": [
{
"code": ">>> # Code test 3\n",
"hidden": false,
"locked": false
}
],
"scored": true,
"setup": "",
"teardown": "",
"type": "doctest"
}
]
}
}
}
},
"nbformat": 4,
"nbformat_minor": 2
}