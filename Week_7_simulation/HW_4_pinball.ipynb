{
"cells": [
{
"cell_type": "code",
"execution_count": null,
"metadata": {
"deletable": false,
"editable": false
},
"outputs": [],
"source": [
"# Initialize Otter\n",
"import otter\n",
"grader = otter.Notebook(\"HW_4_pinball.ipynb\")"
]
},
{
"cell_type": "markdown",
"metadata": {},
"source": [
"# HWK 4 pinball simulation\n",
"\n",
"The full pinball simulation: slides https://docs.google.com/presentation/d/1fNTOc_4YXfBkQ_ko9X8eQqAgK3Opnn9c02i72sVDqKU/edit?usp=sharing\n",
"\n",
"Full pinball \n",
" - position and velocity with Euler simulation (lecture activity, compute_next_step)\n",
" - stop when ball passes below y=0 (lab, simulate_pinball version 1)\n",
" - \"Bouncing\" off of the top and side walls (lab, outside_xx_wall, handle bounce, simulate_pinball version 1)\n",
" - \"Bouncing\" off of bumpers (homework)\n",
"\n",
"Week 1: we'll add two things for week 1:\n",
"- Circular \"bumpers\"\n",
"- [optional] Some bumpers will impart an acceleration to the pinball\n",
"- [optional] Add damping\n",
"\n",
"Week 2: Some simple calculations\n",
"- Length of path pinball travels\n",
"- Integral of vx and vy\n"
]
},
{
"cell_type": "code",
"execution_count": null,
"metadata": {},
"outputs": [],
"source": [
"# The usual imports\n",
"import numpy as np\n",
"import matplotlib.pyplot as plt"
]
},
{
"cell_type": "code",
"execution_count": null,
"metadata": {},
"outputs": [],
"source": [
"# These commands will force JN to actually re-load the external file when you re-execute the import command\n",
"%load_ext autoreload\n",
"%autoreload 2"
]
},
{
"cell_type": "markdown",
"metadata": {},
"source": [
"<!-- BEGIN QUESTION -->\n",
"\n",
"## Circular bumper: How to implement?\n",
"\n",
"TODO: Write code to handle a circular bumper\n",
"\n",
"- decide which functions/what the format of the functions should be to handle a bumper\n",
"\n",
"Note: You'll add tests and simulation and plotting in the following questions"
]
},
{
"cell_type": "code",
"execution_count": null,
"metadata": {
"tags": []
},
"outputs": [],
"source": [
"# Imports from week 5\n",
"# This bit of code tells Jupyter notebooks to also look in the week_6_optimization folder for files\n",
"import os\n",
"import sys\n",
"\n",
"# If you want them...\n",
"sys.path.insert(0, os.path.abspath('../Week_5_matrices'))\n",
"sys.path.insert(0, os.path.abspath('../Week_7_simulation'))"
]
},
{
"cell_type": "code",
"execution_count": null,
"metadata": {
"tags": []
},
"outputs": [],
"source": [
"# TODO: Write circular bumper routines\n",
"# You can write them here or put them in pinball_routines.py and import them here\n",
"# Feel free to add more cells\n",
"..."
]
},
{
"cell_type": "markdown",
"metadata": {},
"source": [
"<!-- END QUESTION -->\n",
"\n",
"<!-- BEGIN QUESTION -->\n",
"\n",
"## Circular bumper test routines\n",
"\n",
"TODO: Create tests to check your bumper routines. "
]
},
{
"cell_type": "code",
"execution_count": null,
"metadata": {
"tags": []
},
"outputs": [],
"source": [
"# Feel free to add more cells\n",
"..."
]
},
{
"cell_type": "markdown",
"metadata": {},
"source": [
"<!-- END QUESTION -->\n",
"\n",
"<!-- BEGIN QUESTION -->\n",
"\n",
"## Simulation routine\n",
"\n",
"TODO: Copy over the simulation routine from your lab and add circular bumpers\n",
"- How will you represent/store the bumpers?\n",
"- If you implement acceleration or drag then describe it here "
]
},
{
"cell_type": "code",
"execution_count": null,
"metadata": {
"tags": []
},
"outputs": [],
"source": [
"# Pinball_routines imports\n",
"..."
]
},
{
"cell_type": "code",
"execution_count": null,
"metadata": {
"tags": []
},
"outputs": [],
"source": [
"# Simulate pinball routine\n",
"#. TODO Decide how to set up your parameters to support an arbitrary number of bumpers in addition to the walls\n",
"..."
]
},
{
"cell_type": "code",
"execution_count": null,
"metadata": {
"tags": []
},
"outputs": [],
"source": [
"# Time step\n",
"delta_t = 0.01\n",
"\n",
"# Test 1 - do you stop when you hit the floor?\n",
"starting_state = np.zeros([3, 2])  # location, velocity, acceleration\n",
"starting_state[0, :] = [0, 0] # Start at zero, zero\n",
"# Velocity - mostly up with a bit of x noise\n",
"# Check top wall only\n",
"# starting_state[1, :] = [-0.2, 10.0]\n",
"# Check all walls\n",
"# starting_state[1, :] = [5.2, 5.0]\n",
"# Check top left bumper\n",
"starting_state[1, :] = [2.4, 8.5]\n",
"starting_state[2, :] = [0.0, acceleration_due_to_gravity()]\n",
"\n",
"# Define a dictinary that holds the walls and bumpers\n",
"# Default is top wall at y=5, left/right walls at +- 3.0\n",
"# Bumpers of radius around 1 at each corner\n",
"..."
]
},
{
"cell_type": "markdown",
"metadata": {},
"source": [
"<!-- END QUESTION -->\n",
"\n",
"<!-- BEGIN QUESTION -->\n",
"\n",
"## Plot bumpers and walls and path\n",
"\n",
"TODO: Start with the plotting code from the lab\n",
" - add plotting the bumpers\n",
" - pass the data structure you use to define the bumpers and walls to the plot routine\n",
" \n",
"TODO: Generate at least 3 plots showing the pinball doing different behaviors (must include reflection off of wall, bumper[s])"
]
},
{
"cell_type": "code",
"execution_count": null,
"metadata": {
"tags": []
},
"outputs": [],
"source": [
"# TODO: Create a function to plot the pinball track, walls, and bumpers\n",
"#  Start with the lab plot\n",
"..."
]
},
{
"cell_type": "code",
"execution_count": null,
"metadata": {
"tags": []
},
"outputs": [],
"source": [
"# TODO: set up different starting positions and/or pinball setups and plot them\n",
"delta_t = 0.01\n",
"\n",
"starting_state = np.zeros([3, 2])  # location, velocity, acceleration\n",
"starting_state[0, :] = [0, 0] # Start at zero, zero\n",
"# Velocity - mostly up with a bit of x noise\n",
"starting_state[1, :] = [2.4, 8.5]\n",
"starting_state[2, :] = [0.0, acceleration_due_to_gravity()]\n",
"\n",
"..."
]
},
{
"cell_type": "markdown",
"metadata": {},
"source": [
"<!-- END QUESTION -->\n",
"\n",
"## Week 2 - Use integration to calculate length of path\n",
"\n",
"TODO: Calculate the length of the pinball path using euclidian distances"
]
},
{
"cell_type": "code",
"execution_count": null,
"metadata": {
"tags": []
},
"outputs": [],
"source": [
"def length_of_pinball_path(poses):\n",
"    \"\"\" Calculate the length of the pinball path using euclidian distances\n",
"    @param poses - the x,y poses\n",
"    @return length\"\"\"\n",
"    # TODO: Sum up the distance between all of the pose points\n",
"    # Reminder: Distance is sqrt(x^2 + y^2)\n",
"    return 0.0\n",
"    # END PROMPT \"\"\""
]
},
{
"cell_type": "code",
"execution_count": null,
"metadata": {
"tags": []
},
"outputs": [],
"source": [
"# TODO For these tests use this starting state\n",
"#  - do NOT place a bumper/wall in the path - it should just go up and down\n",
"#  - Use the given starting position and velocity\n",
"#  - Use a delta t of 0.01\n",
"#  - Do NOT do damping\n",
"starting_state = np.zeros([3, 2])  # location, velocity, acceleration\n",
"starting_state[0, :] = [0, 0] # Start at zero, zero\n",
"# Velocity - mostly up with a bit of x noise\n",
"starting_state[1, :] = [0.5, 3.5]\n",
"starting_state[2, :] = [0.0, acceleration_due_to_gravity()]\n",
"\n",
"# TODO: call your simulate routine with  delta_t = 0.01 and the above starting state\n",
"\n",
"ret_poses, ret_velocities = simulate_pinball(starting_state, ..., delta_t=delta_t)\n",
"# END PROMPT \"\"\"\n"
]
},
{
"cell_type": "code",
"execution_count": null,
"metadata": {
"tags": []
},
"outputs": [],
"source": [
"len_path = (length_of_pinball_path(ret_poses))\n",
"print(f\"Distance traveled {len_path}, expected 1.386298\")"
]
},
{
"cell_type": "code",
"execution_count": null,
"metadata": {
"deletable": false,
"editable": false
},
"outputs": [],
"source": [
"grader.check(\"integrate_path\")"
]
},
{
"cell_type": "markdown",
"metadata": {},
"source": [
"## Integrate x velocity and y velocity\n",
"\n",
"TODO: Calculate the total relative distance the pinball traveled in x and y by integrating the velocity in x and y\n",
"- Change your simulation code so it returns velocities in addition to poses\n",
"- Call trapz with the vx values, using a fixed dx (delta_t) (this is the integral)"
]
},
{
"cell_type": "code",
"execution_count": null,
"metadata": {
"tags": []
},
"outputs": [],
"source": [
"def integral_of_path_velocity(velocities, delta_t):\n",
"    \"\"\" Calculate the x and y distance traveled of the pinball path by integrating the velocities\n",
"    @param velocities - the vx,vy velocities at each time step\n",
"    @param delta_t - the sampling used to generate the velocities\n",
"    @return integral of vx, integral of vy\"\"\"\n",
"    # TODO: Calculate the integral of vx and vy\n",
"    # Note: You'll want trapz because these are samples of the velocity function\n",
"    return integral_x, integral_y\n",
"    # END PROMPT \"\"\""
]
},
{
"cell_type": "code",
"execution_count": null,
"metadata": {
"tags": []
},
"outputs": [],
"source": [
"# Note - make sure you're using the starting state given in the path integration\n",
"integral_x, integral_y = integral_of_path_velocity(ret_velocities, delta_t)\n",
"print(f\"Integral of x velocity {integral_x}, expected 0.365\")\n",
"print(f\"Integral of y velocity {integral_y}, expected -0.056209\")"
]
},
{
"cell_type": "code",
"execution_count": null,
"metadata": {
"deletable": false,
"editable": false
},
"outputs": [],
"source": [
"grader.check(\"integrate_velocity\")"
]
},
{
"cell_type": "markdown",
"metadata": {},
"source": [
"## Hours and collaborators\n",
"Required for every assignment - fill out before you hand-in.\n",
"\n",
"Listing names and websites helps you to document who you worked with and what internet help you received in the case of any plagiarism issues. You should list names of anyone (in class or not) who has substantially helped you with an assignment - or anyone you have *helped*. You do not need to list TAs.\n",
"\n",
"Listing hours helps us track if the assignments are too long."
]
},
{
"cell_type": "code",
"execution_count": null,
"metadata": {
"tags": []
},
"outputs": [],
"source": [
"\n",
"# List of names (creates a set)\n",
"worked_with_names = {\"not filled out\"}\n",
"# List of URLS (creates a set)\n",
"websites = {\"not filled out\"}\n",
"# Approximate number of hours, including lab/in-class time\n",
"hours = -1.5\n",
"\n",
"# for all row, column in all_indices_from_where\n",
"#.   if this is the column for wrist torque \n",
"#.      print(f\"Row: {r}, Time step: {c // n_time_steps} Successful y/n: {pick_data[r, -1] == 1}, value: {pick_data[r, c]}\")"
]
},
{
"cell_type": "code",
"execution_count": null,
"metadata": {
"deletable": false,
"editable": false
},
"outputs": [],
"source": [
"grader.check(\"hours_collaborators\")"
]
},
{
"cell_type": "markdown",
"metadata": {
"deletable": false,
"editable": false
},
"source": [
"## Submission\n",
"\n",
"Make sure you have run all cells in your notebook in order before running the cell below, so that all images/graphs appear in the output. The cell below will generate a zip file for you to submit. **Please save before exporting!**\n",
"\n",
"Submit through gradescope, homework 4 pinball. Don't forget pinball_routines.py"
]
},
{
"cell_type": "code",
"execution_count": null,
"metadata": {
"deletable": false,
"editable": false
},
"outputs": [],
"source": [
"# Save your notebook first, then run this cell to export your submission.\n",
"grader.export(run_tests=True)"
]
},
{
"cell_type": "markdown",
"metadata": {},
"source": [
" "
]
}
],
"metadata": {
"kernelspec": {
"display_name": "Python 3",
"language": "python",
"name": "python3"
},
"language_info": {
"codemirror_mode": {
"name": "ipython",
"version": 3
},
"file_extension": ".py",
"mimetype": "text/x-python",
"name": "python",
"nbconvert_exporter": "python",
"pygments_lexer": "ipython3",
"version": "3.7.3"
},
"otter": {
"OK_FORMAT": true,
"tests": {
"hours_collaborators": {
"name": "hours_collaborators",
"points": 1,
"suites": [
{
"cases": [
{
"code": ">>> assert(not \"not filled out\" in worked_with_names)\n",
"hidden": false,
"locked": false
},
{
"code": ">>> assert(not \"not filled out\" in websites)\n",
"hidden": false,
"locked": false
},
{
"code": ">>> assert(hours > 0)\n",
"hidden": false,
"locked": false
}
],
"scored": true,
"setup": "",
"teardown": "",
"type": "doctest"
}
]
},
"integrate_path": {
"name": "integrate_path",
"points": 4,
"suites": [
{
"cases": [
{
"code": ">>> assert(np.isclose(len_path, 1.386298, atol=0.001))\n",
"hidden": false,
"locked": false
}
],
"scored": true,
"setup": "",
"teardown": "",
"type": "doctest"
}
]
},
"integrate_velocity": {
"name": "integrate_velocity",
"points": 4,
"suites": [
{
"cases": [
{
"code": ">>> assert(np.isclose(integral_x, 0.365, atol=0.001))\n",
"hidden": false,
"locked": false
},
{
"code": ">>> assert(np.isclose(integral_y, -0.056209, atol=0.001))\n",
"hidden": false,
"locked": false
}
],
"scored": true,
"setup": "",
"teardown": "",
"type": "doctest"
}
]
}
}
}
},
"nbformat": 4,
"nbformat_minor": 2
}