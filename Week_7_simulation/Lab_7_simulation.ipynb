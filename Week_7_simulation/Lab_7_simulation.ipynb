{
"cells": [
{
"cell_type": "code",
"execution_count": null,
"metadata": {
"deletable": false,
"editable": false
},
"outputs": [],
"source": [
"# Initialize Otter\n",
"import otter\n",
"grader = otter.Notebook(\"Lab_7_simulation.ipynb\")"
]
},
{
"cell_type": "markdown",
"metadata": {},
"source": [
"# Iterative systems part II \n",
"\n",
"We'll add two things here:\n",
" - Stop when the \"ball\" drops below the y = 0 line\n",
" - \"Bouncing\" off of the top and side walls\n",
"\n",
"See Slides for how to handle crossing a wall (naive versus smart fix)"
]
},
{
"cell_type": "code",
"execution_count": null,
"metadata": {},
"outputs": [],
"source": [
"# The usual imports\n",
"import numpy as np\n",
"import matplotlib.pyplot as plt"
]
},
{
"cell_type": "code",
"execution_count": null,
"metadata": {},
"outputs": [],
"source": [
"# Imports from week 5\n",
"# This bit of code tells Jupyter notebooks to also look in the week_6_optimization folder for files\n",
"import os\n",
"import sys\n",
"\n",
"# If you want them...\n",
"sys.path.insert(0, os.path.abspath('../Week_5_matrices'))"
]
},
{
"cell_type": "code",
"execution_count": null,
"metadata": {},
"outputs": [],
"source": [
"# These commands will force JN to actually re-load the external file when you re-execute the import command\n",
"%load_ext autoreload\n",
"%autoreload 2"
]
},
{
"cell_type": "code",
"execution_count": null,
"metadata": {},
"outputs": [],
"source": [
"# Do the import of your pinball routines\n",
"# \n",
"from pinball_routines import acceleration_due_to_gravity, compute_next_step, outside_top_wall, outside_left_wall, outside_right_wall"
]
},
{
"cell_type": "markdown",
"metadata": {
"deletable": false,
"editable": false
},
"source": [
"# Stop when at bottom\n",
"\n",
"Switch from going a set number of time steps to going until the ball passes through **y = 0**\n",
"\n",
"TODO: New simulation routine: set it up to return when passing through floor\n",
"\n",
"Ignore walls - we'll handle that in the next problem\n",
"\n",
"Keep the pose just after the ball passes through **y=0** - so the second to last pose should be above, the last below"
]
},
{
"cell_type": "code",
"execution_count": null,
"metadata": {
"tags": []
},
"outputs": [],
"source": [
"def simulate_pinball(starting_state, top_wall=7, left_wall=-3, right_wall=3, delta_t=0.1):\n",
"    \"\"\" Call compute one time step multiple times and store it in a numpy array\n",
"    @param starting_state - the starting positino, velocity, acceleration\n",
"    @param delta_t - the time step to use. Define a default t value that you've determined works well\n",
"    @return position values as a 2xtimesteps numpy array\n",
"    \"\"\"\n",
"\n",
"    # The returned array.We do not know the size, so do not pre-allocate\n",
"    ret_pose_all = []\n",
"\n",
"    # TODO (question 1) Use a while loop instead of the for loop\n",
"    # Set the stopping criteria based on current state y value\n",
"    # TODO (question 2)\n",
"    # Add in each wall/top at a time (there are test routines for reach below)\n",
"    # Use if statements, not if-else statements, because it is possible to be outside of the top and side wall...\n",
"    ...\n",
"    # All done - return the numpy array\n",
"    return np.array(ret_pose_all).transpose()"
]
},
{
"cell_type": "code",
"execution_count": null,
"metadata": {
"tags": []
},
"outputs": [],
"source": [
"# Time step\n",
"delta_t = 0.01\n",
"\n",
"# walls: top, left, right\n",
"top_wall = 5.0\n",
"left_wall = -3.0\n",
"right_wall = 3.0\n",
"\n",
"# Test 1 - do you stop when you hit the floor?\n",
"starting_state = np.zeros([3, 2])  # location, velocity, acceleration\n",
"starting_state[0, :] = [0, 0] # Start at zero, zero\n",
"# Check stopping condition only\n",
"starting_state[1, :] = [-0.5, 5.0]\n",
"starting_state[2, :] = [0.0, acceleration_due_to_gravity()]\n",
"ret_poses = simulate_pinball(starting_state, top_wall=top_wall, left_wall=left_wall, right_wall=right_wall, delta_t=delta_t)\n",
"\n",
"# Check stopping condition\n",
"assert(ret_poses[1, -1] < 0.0)\n",
"assert(ret_poses[1, -2] > 0.0)\n",
"\n",
"# Check x travel\n",
"x_travel = starting_state[0, 0] + starting_state[1, 0] * delta_t * (ret_poses.shape[1] - 1)\n",
"assert(np.isclose(ret_poses[0, -1], x_travel))\n"
]
},
{
"cell_type": "code",
"execution_count": null,
"metadata": {
"deletable": false,
"editable": false
},
"outputs": [],
"source": [
"grader.check(\"stop_bottom\")"
]
},
{
"cell_type": "markdown",
"metadata": {
"deletable": false,
"editable": false
},
"source": [
"# Reflect off top wall\n",
"\n",
"TODO 2: Add in reflecting off of top wall\n",
" - negate the velocity\n",
" - reposition on the wall\n",
" \n",
"Fancy - actually calculate the intersection and reflect the remaining vector back\n",
"\n",
"Semi-fancy - set the y value to be the top wall value, reflect the y vector\n",
"Not fancy - just flip the y value\n",
"\n",
"Note: The outside wall function(s) are in **pinball_routines.py**\n",
"\n",
"Options, from easy to hard: \n",
"- Put the fix in the **simulate_pinball** routine above\n",
"- add a reflect_top_wall function to pinball_routines.py (don't forget to add a check/test for that function and include it in the import)\n",
"- Create a general-purpose outside wall/reflect wall function using the **ax + by + c = 0** equation. "
]
},
{
"cell_type": "code",
"execution_count": null,
"metadata": {
"tags": []
},
"outputs": [],
"source": [
"# Checks for outside_top_wall routine - make sure these work before running simulate_pinball\n",
"assert(outside_top_wall([0, top_wall - 0.5], y_height=top_wall) == False)\n",
"assert(outside_top_wall([0, top_wall + 0.5], y_height=top_wall) == True)"
]
},
{
"cell_type": "code",
"execution_count": null,
"metadata": {
"tags": []
},
"outputs": [],
"source": [
"# Add enough velocity to hit the top wall, but not the side walls\n",
"starting_state[1, :] = [-0.2, 10.0]\n",
"\n",
"# Do the simulation\n",
"ret_poses = simulate_pinball(starting_state, top_wall=top_wall, left_wall=left_wall, right_wall=right_wall, delta_t=delta_t)\n",
"\n",
"# TODO Write yourself 3 checks\n",
"# Checks for outside_top_wall (in pinball_routines.py)\n",
"#    Check that a position just outside of the top wall returns True\n",
"#.   Check that a position just inide the top wall returns False\n",
"\n",
"# Check that you never went (far) outside the top wall, i.e., the y value was never more than 0.5 + 0.01\n"
]
},
{
"cell_type": "code",
"execution_count": null,
"metadata": {
"deletable": false,
"editable": false
},
"outputs": [],
"source": [
"grader.check(\"top_wall\")"
]
},
{
"cell_type": "markdown",
"metadata": {
"deletable": false,
"editable": false
},
"source": [
"# Left and right walls\n",
"\n",
"TODO: Now add in the left and right walls\n",
"\n",
"Reminder: outside_??_walls are in pinball_routines.py\n",
"\n",
"Edit **simulate_pinball** above\n",
"\n",
"Starting position in code below is set up to have the ball bounce off of all walls and a corner"
]
},
{
"cell_type": "code",
"execution_count": null,
"metadata": {
"tags": []
},
"outputs": [],
"source": [
"# Time step \n",
"# All other parameters set in previous problem(s)\n",
"delta_t = 0.01\n",
"\n",
"starting_state[1, :] = [-10.2, 10.0]\n",
"\n",
"# Do the simulation\n",
"ret_poses = simulate_pinball(starting_state, top_wall=top_wall, left_wall=left_wall, right_wall=right_wall, delta_t=delta_t)\n"
]
},
{
"cell_type": "code",
"execution_count": null,
"metadata": {
"tags": []
},
"outputs": [],
"source": [
"# TODO: Add in checks for outside_left_wall and outside_right_wall\n",
"# Add in check for poses not going outside of left/right walls\n"
]
},
{
"cell_type": "code",
"execution_count": null,
"metadata": {
"deletable": false,
"editable": false
},
"outputs": [],
"source": [
"grader.check(\"side_walls\")"
]
},
{
"cell_type": "markdown",
"metadata": {
"deletable": false,
"editable": false
},
"source": [
"<!-- BEGIN QUESTION -->\n",
"\n",
"# Plot simulation\n",
"\n",
"I've provided the plot routine; you can run this at any point to check your current ret_poses as you're debugging"
]
},
{
"cell_type": "code",
"execution_count": null,
"metadata": {
"tags": []
},
"outputs": [],
"source": [
"# Plot the walls and the pinball path\n",
"def plot_pinball_lab(ret_poses, walls, total_time):\n",
"    \"\"\" plot the results of running the system AND the \"correct\" closed form result\n",
"    @param ret_poses - x y position values in a 2xn numpy array\n",
"    @param walls - The walls and ceiling locations (top, left, right)\n",
"    @param total_time - the total time the system ran (for closed form solution, delta_t * n time steps)\n",
"    @return Nothing\n",
"    \"\"\"\n",
"    nrows = 1\n",
"    ncols = 1\n",
"    fig, axs = plt.subplots(nrows, ncols, figsize=(4, 4))\n",
"\n",
"    # The values we calculated in calculate_n_time_steps\n",
"    axs.plot([walls[1], walls[2]], [walls[0], walls[0]], '-m', label=f\"Top wall {top_wall}\")\n",
"    axs.plot([walls[1], walls[2]], [0, 0], '-k', label=\"Floor wall\")\n",
"    axs.plot([walls[1], walls[1]], [0, walls[0]], '-g', label=\"Left wall\")\n",
"    axs.plot([walls[2], walls[2]], [0, walls[0]], '-g', label=\"Right wall\")\n",
"\n",
"    axs.plot(ret_poses[0, 0], ret_poses[1, 0], 'xr', label=\"Start\")\n",
"    axs.plot(ret_poses[0, :], ret_poses[1, :], '.-k', label=\"Poses\")\n",
"\n",
"    axs.axis('equal')\n",
"    axs.set_title(f\"Boring pinball, 0-{total_time} s\")\n",
"    axs.legend()"
]
},
{
"cell_type": "code",
"execution_count": null,
"metadata": {
"tags": []
},
"outputs": [],
"source": [
"# Pass the walls into the plot as a list\n",
"total_time = delta_t * ret_poses.shape[1]\n",
"plot_pinball_lab(ret_poses, [top_wall, left_wall, right_wall], total_time)"
]
},
{
"cell_type": "markdown",
"metadata": {
"deletable": false,
"editable": false
},
"source": [
"<!-- END QUESTION -->\n",
"\n",
"## Hours and collaborators\n",
"Required for every assignment - fill out before you hand-in.\n",
"\n",
"Listing names and websites helps you to document who you worked with and what internet help you received in the case of any plagiarism issues. You should list names of anyone (in class or not) who has substantially helped you with an assignment - or anyone you have *helped*. You do not need to list TAs.\n",
"\n",
"Listing hours helps us track if the assignments are too long."
]
},
{
"cell_type": "code",
"execution_count": null,
"metadata": {
"tags": []
},
"outputs": [],
"source": [
"\n",
"# List of names (creates a set)\n",
"worked_with_names = {\"not filled out\"}\n",
"# List of URLS (creates a set)\n",
"websites = {\"not filled out\"}\n",
"# Approximate number of hours, including lab/in-class time\n",
"hours = -1.5\n",
"\n",
"# for all row, column in all_indices_from_where\n",
"#.   if this is the column for wrist torque \n",
"#.      print(f\"Row: {r}, Time step: {c // n_time_steps} Successful y/n: {pick_data[r, -1] == 1}, value: {pick_data[r, c]}\")"
]
},
{
"cell_type": "code",
"execution_count": null,
"metadata": {
"deletable": false,
"editable": false
},
"outputs": [],
"source": [
"grader.check(\"hours_collaborators\")"
]
},
{
"cell_type": "markdown",
"metadata": {
"deletable": false,
"editable": false
},
"source": [
"## Submission\n",
"\n",
"Make sure you have run all cells in your notebook in order before running the cell below, so that all images/graphs appear in the output. The cell below will generate a zip file for you to submit. **Please save before exporting!**\n",
"\n",
"Submit through gradescope, lab week 7, simulation. Don't forget pinball_routines.py"
]
},
{
"cell_type": "code",
"execution_count": null,
"metadata": {
"deletable": false,
"editable": false
},
"outputs": [],
"source": [
"# Save your notebook first, then run this cell to export your submission.\n",
"grader.export(run_tests=True)"
]
},
{
"cell_type": "markdown",
"metadata": {},
"source": [
" "
]
}
],
"metadata": {
"kernelspec": {
"display_name": "Python 3",
"language": "python",
"name": "python3"
},
"language_info": {
"codemirror_mode": {
"name": "ipython",
"version": 3
},
"file_extension": ".py",
"mimetype": "text/x-python",
"name": "python",
"nbconvert_exporter": "python",
"pygments_lexer": "ipython3",
"version": "3.7.4"
},
"otter": {
"OK_FORMAT": true,
"tests": {
"hours_collaborators": {
"name": "hours_collaborators",
"points": 1,
"suites": [
{
"cases": [
{
"code": ">>> assert(not \"not filled out\" in worked_with_names)\n",
"hidden": false,
"locked": false
},
{
"code": ">>> assert(not \"not filled out\" in websites)\n",
"hidden": false,
"locked": false
},
{
"code": ">>> assert(hours > 0)\n",
"hidden": false,
"locked": false
}
],
"scored": true,
"setup": "",
"teardown": "",
"type": "doctest"
}
]
},
"side_walls": {
"name": "side_walls",
"points": 6,
"suites": [
{
"cases": [
{
"code": ">>> assert(outside_left_wall([left_wall + 0.5, 0.0], x_wall=left_wall) == False)\n",
"hidden": false,
"locked": false
},
{
"code": ">>> assert(outside_left_wall([left_wall - 0.5, 0.0], x_wall=left_wall) == True)\n",
"hidden": false,
"locked": false
},
{
"code": ">>> assert(outside_right_wall([right_wall - 0.5, 0.0], x_wall=right_wall) == False)\n",
"hidden": false,
"locked": false
},
{
"code": ">>> assert(outside_right_wall([right_wall + 0.5, 0.0], x_wall=right_wall) == True)\n",
"hidden": false,
"locked": false
},
{
"code": ">>> assert(np.all(ret_poses[0, :] < right_wall + 0.01))\n",
"hidden": false,
"locked": false
},
{
"code": ">>> assert(np.all(ret_poses[0, :] > left_wall - 0.01))\n",
"hidden": false,
"locked": false
}
],
"scored": true,
"setup": "",
"teardown": "",
"type": "doctest"
}
]
},
"stop_bottom": {
"name": "stop_bottom",
"points": 5,
"suites": [
{
"cases": [
{
"code": ">>> assert(ret_poses[1, -1] < 0.0)\n",
"hidden": false,
"locked": false
},
{
"code": ">>> assert(ret_poses[1, -2] > 0.0)\n",
"hidden": false,
"locked": false
},
{
"code": ">>> assert(np.isclose(ret_poses[0, -1], starting_state[0, 0] + starting_state[1, 0] * delta_t * (ret_poses.shape[1] - 1)))\n",
"hidden": false,
"locked": false
}
],
"scored": true,
"setup": "",
"teardown": "",
"type": "doctest"
}
]
},
"top_wall": {
"name": "top_wall",
"points": 3,
"suites": [
{
"cases": [
{
"code": ">>> assert(outside_top_wall([0, top_wall - 0.5], y_height=top_wall) == False)\n",
"hidden": false,
"locked": false
},
{
"code": ">>> assert(outside_top_wall([0, top_wall + 0.5], y_height=top_wall) == True)\n",
"hidden": false,
"locked": false
},
{
"code": ">>> assert(np.all(ret_poses[1, :] < top_wall + 0.01))\n",
"hidden": false,
"locked": false
}
],
"scored": true,
"setup": "",
"teardown": "",
"type": "doctest"
}
]
}
}
}
},
"nbformat": 4,
"nbformat_minor": 2
}