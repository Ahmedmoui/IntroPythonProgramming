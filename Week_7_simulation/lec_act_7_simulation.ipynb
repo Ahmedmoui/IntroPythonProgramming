{
"cells": [
{
"cell_type": "code",
"execution_count": null,
"metadata": {
"deletable": false,
"editable": false
},
"outputs": [],
"source": [
"# Initialize Otter\n",
"import otter\n",
"grader = otter.Notebook(\"lec_act_7_simulation.ipynb\")"
]
},
{
"cell_type": "markdown",
"metadata": {},
"source": [
"# Iterative systems part II\n",
"\n",
"This is a continuation/extension of week 4's simulation with some slight modifications\n",
"\n",
"- Full 2D - position and velocity of a point in space\n",
"- Integrate velocity as well as position\n",
"\n",
"Slides: https://docs.google.com/presentation/d/1ruu1Lq9MpYSHiVa5RNrvyxap4yXpTpiXf_VTzHKAFb8/edit?usp=sharing\n",
"\n",
"Code structure: I've broken the code up in to several pieces: Code that is shared across the lecture activity, lab, and homework is in **pinball_routines.py**. Code that is specific to just the one assignment (running the simulation, plotting) is in the JN."
]
},
{
"cell_type": "code",
"execution_count": null,
"metadata": {},
"outputs": [],
"source": [
"# The usual imports\n",
"import numpy as np\n",
"import matplotlib.pyplot as plt"
]
},
{
"cell_type": "code",
"execution_count": null,
"metadata": {},
"outputs": [],
"source": [
"# Imports from week 5 - you don't have to use the matrices from week 5, but if you decide to, here's the code\n",
"#. that supports that\n",
"import os\n",
"import sys\n",
"sys.path.insert(0, os.path.abspath('../Week_5_matrices'))\n"
]
},
{
"cell_type": "code",
"execution_count": null,
"metadata": {},
"outputs": [],
"source": [
"# Do the import of your pinball routines\n",
"# \n",
"from pinball_routines import acceleration_due_to_gravity, compute_next_step"
]
},
{
"cell_type": "markdown",
"metadata": {},
"source": [
"# One time step\n",
"TODO Compute one time step of the simulation (edit **compute_next_step** in pinball_routines.py)"
]
},
{
"cell_type": "code",
"execution_count": null,
"metadata": {
"tags": []
},
"outputs": [],
"source": [
"# Time step\n",
"delta_t = 0.1\n",
"\n",
"starting_state = np.zeros([6, 2])  # meters\n",
"starting_state[0, :] = [0, 0] # Start at zero, zero\n",
"# Velocity - mostly up with a bit of x \n",
"starting_state[1, :] = [-0.25, 5.0]\n",
"# Acceleration is really boring\n",
"starting_state[2, :] = [0.0, acceleration_due_to_gravity()]\n",
"\n",
"first_time_step = compute_next_step(starting_state, delta_t=delta_t)\n",
"print(f\"Checking first time step {first_time_step}\")\n",
"\n",
"assert(np.all(np.isclose(first_time_step[0, :], starting_state[0, :] + delta_t * starting_state[1, :])))\n",
"assert(np.all(np.isclose(first_time_step[1, :], starting_state[1, :] + delta_t * starting_state[2, :])))"
]
},
{
"cell_type": "code",
"execution_count": null,
"metadata": {
"deletable": false,
"editable": false
},
"outputs": [],
"source": [
"grader.check(\"compute_next_time_step\")"
]
},
{
"cell_type": "markdown",
"metadata": {},
"source": [
"# Simulation\n",
"\n",
"Note that you could use either the number of time steps OR total time for the last parameterTimesteps is a bit safer because at least you know it will only go for so many time steps...\n",
"\n",
"In this activity we'll just loop over n time steps; we'll do something \"smarter\" in the lab\n",
"\n",
"TODO: Fill in ret_pose_all"
]
},
{
"cell_type": "code",
"execution_count": null,
"metadata": {
"tags": []
},
"outputs": [],
"source": [
"def calculate_n_time_steps(starting_state, delta_t=0.1, n_time_steps=100):\n",
"    \"\"\" Call compute one time step multiple times and store it in a numpy array\n",
"    @param starting_state - the starting positino, velocity, acceleration\n",
"    @param delta_t - the time step to use. Define a default t value that you've determined works well\n",
"    @param n_time_steps - how many time steps to take. Again, default to a reasonable number\n",
"    @return position values as a 2xtimesteps numpy array\n",
"    \"\"\"\n",
"\n",
"    # The returned array. We know the size, so we can pre-allocate it\n",
"    ret_pose_all = np.zeros((2, n_time_steps))\n",
"\n",
"    # TODO: for the given number of time steps, call compute_next_step and save the position\n",
"    # Note: compute_next_step is in pinball_routines.py\n",
"    ...\n",
"    # All done - return the numpy array\n",
"    return ret_pose_all"
]
},
{
"cell_type": "code",
"execution_count": null,
"metadata": {
"tags": []
},
"outputs": [],
"source": [
"# Actually run the simulation\n",
"# Time step\n",
"delta_t = 0.1\n",
"\n",
"starting_state = np.zeros([6, 2])  # meters\n",
"starting_state[0, :] = [0, 0] # Start at zero, zero\n",
"# Velocity - mostly up with a bit of x\n",
"starting_state[1, :] = [-0.25, 5.0]\n",
"# Acceleration is really boring\n",
"starting_state[2, :] = [0.0, acceleration_due_to_gravity()]\n",
"\n",
"ret_poses = calculate_n_time_steps(starting_state, delta_t=delta_t, n_time_steps=15)\n",
"print(f\"Last pose: {ret_poses[:, -1]}\")\n",
"assert(np.isclose(ret_poses[0, -1], -0.35))\n",
"assert(np.isclose(ret_poses[1, -1], -1.918))"
]
},
{
"cell_type": "code",
"execution_count": null,
"metadata": {
"deletable": false,
"editable": false
},
"outputs": [],
"source": [
"grader.check(\"simulate\")"
]
},
{
"cell_type": "markdown",
"metadata": {},
"source": [
"<!-- BEGIN QUESTION -->\n",
"\n",
"# Plotted result\n",
"\n",
"TODO: Change delta t and number of time steps so the spacing is closer together and the simulation is stopped shortly after the ball passes the y = 0 line (we'll do this \"right\" in the lab)"
]
},
{
"cell_type": "code",
"execution_count": null,
"metadata": {
"tags": []
},
"outputs": [],
"source": [
"# This is pretty arbitrary - but I chose to ask the person calling the function to pass in the poses returned from\n",
"#  the interation and the initial velocity (so we can see it).\n",
"def plot_results(ret_poses, initial_vel, total_time):\n",
"    \"\"\" plot the results of running the system AND the \"correct\" closed form result\n",
"    @param ret_poses - x y position values in a 2xn numpy array\n",
"    @param initial_vel - Show the initial velocity\n",
"    @param total_time - the total time the system ran (for closed form solution, delta_t * n time steps)\n",
"    @return Nothing\n",
"    \"\"\"\n",
"    nrows = 1\n",
"    ncols = 1\n",
"    fig, axs = plt.subplots(nrows, ncols, figsize=(4, 4))\n",
"\n",
"    # The values we calculated in calculate_n_time_steps\n",
"    axs.plot((ret_poses[0, 0], ret_poses[0, 0] + initial_vel[0]),\n",
"             (ret_poses[1, 0], ret_poses[1, 0] + initial_vel[1]),\n",
"             '-m', label=\"Initial vel\")\n",
"    axs.plot(ret_poses[0, 0], ret_poses[1, 0], 'xr', markersize=10, label=\"Start\")\n",
"    axs.plot(ret_poses[0, :], ret_poses[1, :], '-Xk', label=\"Poses\")\n",
"\n",
"    axs.axis('equal')\n",
"    axs.set_title(f\"Path of pinball, 0-{total_time} s\")\n",
"    axs.legend()"
]
},
{
"cell_type": "code",
"execution_count": null,
"metadata": {
"deletable": false,
"editable": false
},
"outputs": [],
"source": [
"grader.check(\"Plot\")"
]
},
{
"cell_type": "markdown",
"metadata": {},
"source": [
"<!-- END QUESTION -->\n",
"\n",
"## Hours and collaborators\n",
"Required for every assignment - fill out before you hand-in.\n",
"\n",
"Listing names and websites helps you to document who you worked with and what internet help you received in the case of any plagiarism issues. You should list names of anyone (in class or not) who has substantially helped you with an assignment - or anyone you have *helped*. You do not need to list TAs.\n",
"\n",
"Listing hours helps us track if the assignments are too long."
]
},
{
"cell_type": "code",
"execution_count": null,
"metadata": {
"tags": []
},
"outputs": [],
"source": [
"\n",
"# List of names (creates a set)\n",
"worked_with_names = {\"not filled out\"}\n",
"# List of URLS (creates a set)\n",
"websites = {\"not filled out\"}\n",
"# Approximate number of hours, including lab/in-class time\n",
"hours = -1.5\n",
"\n",
"# for all row, column in all_indices_from_where\n",
"#.   if this is the column for wrist torque \n",
"#.      print(f\"Row: {r}, Time step: {c // n_time_steps} Successful y/n: {pick_data[r, -1] == 1}, value: {pick_data[r, c]}\")"
]
},
{
"cell_type": "code",
"execution_count": null,
"metadata": {
"deletable": false,
"editable": false
},
"outputs": [],
"source": [
"grader.check(\"hours_collaborators\")"
]
},
{
"cell_type": "markdown",
"metadata": {
"deletable": false,
"editable": false
},
"source": [
"## Submission\n",
"\n",
"Make sure you have run all cells in your notebook in order before running the cell below, so that all images/graphs appear in the output. The cell below will generate a zip file for you to submit. **Please save before exporting!**\n",
"\n",
"Submit through gradescope, week 7 lecture activity"
]
},
{
"cell_type": "code",
"execution_count": null,
"metadata": {
"deletable": false,
"editable": false
},
"outputs": [],
"source": [
"# Save your notebook first, then run this cell to export your submission.\n",
"grader.export(run_tests=True)"
]
},
{
"cell_type": "markdown",
"metadata": {},
"source": [
" "
]
}
],
"metadata": {
"kernelspec": {
"display_name": "Python 3",
"language": "python",
"name": "python3"
},
"language_info": {
"codemirror_mode": {
"name": "ipython",
"version": 3
},
"file_extension": ".py",
"mimetype": "text/x-python",
"name": "python",
"nbconvert_exporter": "python",
"pygments_lexer": "ipython3",
"version": "3.7.3"
},
"otter": {
"OK_FORMAT": true,
"tests": {
"Plot": {
"name": "Plot",
"points": 1,
"suites": [
{
"cases": [
{
"code": ">>> # Time step - change to put spacing closer\n>>> delta_t = 0.1\n>>> \n>>> starting_state = np.zeros([6, 2])  # meters\n>>> starting_state[0, :] = [0, 0] # Start at zero, zero\n>>> # Velocity - mostly up with a bit of x\n>>> starting_state[1, :] = [-0.25, 5.0]\n>>> # Acceleration is really boring\n>>> starting_state[2, :] = [0.0, acceleration_due_to_gravity()]\n>>> \n>>> # TODO change n_time_steps so the simulation ends shortly after it crosses the y = 0 line\n>>> ret_poses = calculate_n_time_steps(starting_state, delta_t=delta_t, n_time_steps=15)\n>>> \n>>> n_time_steps = ret_poses.shape[1]\n>>> \n>>> total_time = delta_t * n_time_steps\n>>> plot_results(ret_poses, starting_state[1, :], total_time)\n",
"hidden": false,
"locked": false
}
],
"scored": true,
"setup": "",
"teardown": "",
"type": "doctest"
}
]
},
"compute_next_time_step": {
"name": "compute_next_time_step",
"points": 1,
"suites": [
{
"cases": [
{
"code": ">>> assert(np.all(np.isclose(first_time_step[0, :], starting_state[0, :] + delta_t * starting_state[1, :])))\n",
"hidden": false,
"locked": false
},
{
"code": ">>> assert(np.all(np.isclose(first_time_step[1, :], starting_state[1, :] + delta_t * starting_state[2, :])))\n",
"hidden": false,
"locked": false
}
],
"scored": true,
"setup": "",
"teardown": "",
"type": "doctest"
}
]
},
"hours_collaborators": {
"name": "hours_collaborators",
"points": 1,
"suites": [
{
"cases": [
{
"code": ">>> assert(not \"not filled out\" in worked_with_names)\n",
"hidden": false,
"locked": false
},
{
"code": ">>> assert(not \"not filled out\" in websites)\n",
"hidden": false,
"locked": false
},
{
"code": ">>> assert(hours > 0)\n",
"hidden": false,
"locked": false
}
],
"scored": true,
"setup": "",
"teardown": "",
"type": "doctest"
}
]
},
"simulate": {
"name": "simulate",
"points": 2,
"suites": [
{
"cases": [
{
"code": ">>> assert(np.isclose(ret_poses[0, -1], -0.35))\n",
"hidden": false,
"locked": false
},
{
"code": ">>> assert(np.isclose(ret_poses[1, -1], -1.918))\n",
"hidden": false,
"locked": false
}
],
"scored": true,
"setup": "",
"teardown": "",
"type": "doctest"
}
]
}
}
}
},
"nbformat": 4,
"nbformat_minor": 2
}