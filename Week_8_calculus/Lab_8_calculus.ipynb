{
"cells": [
{
"cell_type": "code",
"execution_count": null,
"metadata": {
"deletable": false,
"editable": false
},
"outputs": [],
"source": [
"# Initialize Otter\n",
"import otter\n",
"grader = otter.Notebook(\"Lab_8_calculus.ipynb\")"
]
},
{
"cell_type": "markdown",
"metadata": {},
"source": [
"# Area under an elliptic paraboloid\n",
"\n",
"Use the monte carlo technique in the tutorial to estimate the area under the 2D elliptic parabaloid\n",
"\n",
"Your code should work even if the center and scale values shift (provided the parabaloid is still above the z = 0 plane)\n",
"\n",
"Slides: https://docs.google.com/presentation/d/1sq3ERLBET1ourJZJzXMtJe6-cN8Tlt-GLEzSDOxrd0M/edit?usp=sharing"
]
},
{
"cell_type": "code",
"execution_count": null,
"metadata": {},
"outputs": [],
"source": [
"import numpy as np\n",
"import matplotlib.pyplot as plt\n",
"from functools import partial"
]
},
{
"cell_type": "markdown",
"metadata": {},
"source": [
"# Create the function\n",
"\n",
"TODO: Create a function with the center/scale parameters bound to the given values.\n",
"\n",
"You might find it useful to go back to **a_tutorial_fmin** to remember how to bind parameters to create a simple function to use using **partial**.\n",
"\n",
"Also get the plotting code from that file and add that to the plot question below; you can then add plotting the samples as you work through this lab."
]
},
{
"cell_type": "code",
"execution_count": null,
"metadata": {
"tags": []
},
"outputs": [],
"source": [
"# A fancier quadratic-y type function (but in 2D)\n",
"def elliptic_paraboloid(x, y, x0=0, y0=0, sclx=1, scly=1):\n",
"    \"\"\" x,y -> f(x) in the shape of a 'bowl'\n",
"    @param x - x value in the plane\n",
"    @param y - y value in the plane\n",
"    @param x0 - amount to shift the bottom of the bowl by in x\n",
"    @param y0 - amount to shift the bottom of the bowl by in y\n",
"    @param sclx - scale the bowl's side in x\n",
"    @param scly - scale the bowl's side in y\n",
"    @returns - f(x,y) the bowl's height over the point x,y\n",
"    \"\"\"\n",
"    return (x-x0)**2 / sclx**2 + (y-y0)**2 / scly**2"
]
},
{
"cell_type": "code",
"execution_count": null,
"metadata": {
"tags": []
},
"outputs": [],
"source": [
"# Paramaters to bind\n",
"sclx = 1.5\n",
"scly = 0.75\n",
"x0 = 1.0\n",
"y0 = 2.0\n",
"\n",
"# TODO: Use partial to create a function with the parameters bound to the above values\n",
"my_func = ...\n",
"# END PROMPT\"\"\""
]
},
{
"cell_type": "code",
"execution_count": null,
"metadata": {
"tags": []
},
"outputs": [],
"source": [
"print(f\"Func at x0, y0 is {my_func(x0, y0)}, expected 0.0\")\n",
"print(f\"Func at 2.0, 2.0 is {my_func(2.0, 2.0)}, expected 0.4444\")"
]
},
{
"cell_type": "code",
"execution_count": null,
"metadata": {
"deletable": false,
"editable": false
},
"outputs": [],
"source": [
"grader.check(\"create_func\")"
]
},
{
"cell_type": "markdown",
"metadata": {},
"source": [
"# Generating samples (see tutorial)\n",
"\n",
"TODO: Generate samples in x, y, and z inside the \"box\" that contains the function\n",
"- samples need to be in the box\n",
"- Find the max z value using fminbounds\n",
"- Generate samples using np.random.uniform (you can use something fancier if you want)\n",
"- Calculate the area of the box\n",
"- You need to generate x, y, and z samples - 3D points in the box\n",
"- I suggest generating the points, drawing them, then do the area calculation (next question)\n",
"\n",
"Use x0 +-2 and y- +-2 as the integration bounds in the x,y directions."
]
},
{
"cell_type": "code",
"execution_count": null,
"metadata": {
"tags": []
},
"outputs": [],
"source": [
"# Make it easy to change the number of samples.\n",
"#. Reminder: You need the same number of samples in all directions (x,y, and z)\n",
"n_samples = 1000\n",
"\n",
"# Doing the meshgrid for you - notice the +- 2.0 from x0 and y0, which is the bounds we'll use for this problem\n",
"# These are NOT the random samples you want - this is a grid of samples to use for creating the surface\n",
"# ... you can also use it to find the min/max values of the function\n",
"xs_grid, ys_grid = np.meshgrid(np.linspace(x0 - 2.0, x0 + 2.0), np.linspace(y0 - 2.0, y0 + 2.0))\n",
"\n",
"# TODO: Generate samples in x, y, and z inside the \"box\" using np.random.uniform\n",
"\n",
"\n",
"xs_samples = ...\n",
"ys_samples = ...\n",
"zs_samples = ...\n",
"area_box = ...\n",
"# END PROMPT\"\"\"\n",
"\n",
"print(f\"Box area is {area_box}, expected 4 x 4 x height = 142.2222\")"
]
},
{
"cell_type": "code",
"execution_count": null,
"metadata": {
"deletable": false,
"editable": false
},
"outputs": [],
"source": [
"grader.check(\"samples\")"
]
},
{
"cell_type": "markdown",
"metadata": {},
"source": [
"# Points above/below\n",
"\n",
"TODO: Are the samples above or below the surface? (see tutorial)\n",
"\n",
"Note that you can assume the function is above the z=0 plane, so you only need to check if the sample is below **my_func(x,y)**\n",
"\n",
"Note: The number points that are below should be around 30%, but it can vary quite a lot.\n",
"\n",
"You might also want to create a boolean array so that you can re-use it in the print:\n",
"\n",
"**b_under = samples < function**"
]
},
{
"cell_type": "code",
"execution_count": null,
"metadata": {
"tags": []
},
"outputs": [],
"source": [
"area_under = ...\n",
"# END PROMPT\"\"\"\n",
"print(f\"Area is {area_under}, expected between 43 and 44\")"
]
},
{
"cell_type": "code",
"execution_count": null,
"metadata": {
"deletable": false,
"editable": false
},
"outputs": [],
"source": [
"grader.check(\"area\")"
]
},
{
"cell_type": "markdown",
"metadata": {},
"source": [
"# Plot the function and the points above and below\n",
"\n",
"TODO Grab the plotting code from the fmin tutorial then add in plotting the samples, then separate them by whether or not they're under the surface"
]
},
{
"cell_type": "code",
"execution_count": null,
"metadata": {
"tags": []
},
"outputs": [],
"source": [
"..."
]
},
{
"cell_type": "markdown",
"metadata": {},
"source": [
"## Hours and collaborators\n",
"Required for every assignment - fill out before you hand-in.\n",
"\n",
"Listing names and websites helps you to document who you worked with and what internet help you received in the case of any plagiarism issues. You should list names of anyone (in class or not) who has substantially helped you with an assignment - or anyone you have *helped*. You do not need to list TAs.\n",
"\n",
"Listing hours helps us track if the assignments are too long."
]
},
{
"cell_type": "code",
"execution_count": null,
"metadata": {
"tags": []
},
"outputs": [],
"source": [
"\n",
"# List of names (creates a set)\n",
"worked_with_names = {\"not filled out\"}\n",
"# List of URLS (creates a set)\n",
"websites = {\"not filled out\"}\n",
"# Approximate number of hours, including lab/in-class time\n",
"hours = -1.5\n",
"\n",
"# for all row, column in all_indices_from_where\n",
"#.   if this is the column for wrist torque \n",
"#.      print(f\"Row: {r}, Time step: {c // n_time_steps} Successful y/n: {pick_data[r, -1] == 1}, value: {pick_data[r, c]}\")"
]
},
{
"cell_type": "code",
"execution_count": null,
"metadata": {
"deletable": false,
"editable": false
},
"outputs": [],
"source": [
"grader.check(\"hours_collaborators\")"
]
},
{
"cell_type": "markdown",
"metadata": {
"deletable": false,
"editable": false
},
"source": [
"## Submission\n",
"\n",
"Make sure you have run all cells in your notebook in order before running the cell below, so that all images/graphs appear in the output. The cell below will generate a zip file for you to submit. **Please save before exporting!**\n",
"\n",
"Submit through gradescope, week 8 lab (calculus)"
]
},
{
"cell_type": "code",
"execution_count": null,
"metadata": {
"deletable": false,
"editable": false
},
"outputs": [],
"source": [
"# Save your notebook first, then run this cell to export your submission.\n",
"grader.export(run_tests=True)"
]
},
{
"cell_type": "markdown",
"metadata": {},
"source": [
" "
]
}
],
"metadata": {
"kernelspec": {
"display_name": "Python 3",
"language": "python",
"name": "python3"
},
"language_info": {
"codemirror_mode": {
"name": "ipython",
"version": 3
},
"file_extension": ".py",
"mimetype": "text/x-python",
"name": "python",
"nbconvert_exporter": "python",
"pygments_lexer": "ipython3",
"version": "3.7.3"
},
"otter": {
"OK_FORMAT": true,
"tests": {
"area": {
"name": "area",
"points": 4,
"suites": [
{
"cases": [
{
"code": ">>> assert(np.isclose(area_under, 43, atol=1.1))\n",
"hidden": false,
"locked": false
}
],
"scored": true,
"setup": "",
"teardown": "",
"type": "doctest"
}
]
},
"create_func": {
"name": "create_func",
"points": 2,
"suites": [
{
"cases": [
{
"code": ">>> assert(np.isclose(my_func(x0, y0), 0.0, atol=0.001))\n",
"hidden": false,
"locked": false
},
{
"code": ">>> assert(np.isclose(my_func(2.0, 2.0), 0.4444, atol=0.001))\n",
"hidden": false,
"locked": false
}
],
"scored": true,
"setup": "",
"teardown": "",
"type": "doctest"
}
]
},
"hours_collaborators": {
"name": "hours_collaborators",
"points": 1,
"suites": [
{
"cases": [
{
"code": ">>> assert(not \"not filled out\" in worked_with_names)\n",
"hidden": false,
"locked": false
},
{
"code": ">>> assert(not \"not filled out\" in websites)\n",
"hidden": false,
"locked": false
},
{
"code": ">>> assert(hours > 0)\n",
"hidden": false,
"locked": false
}
],
"scored": true,
"setup": "",
"teardown": "",
"type": "doctest"
}
]
},
"samples": {
"name": "samples",
"points": 3,
"suites": [
{
"cases": [
{
"code": ">>> assert(len(xs_samples) == n_samples and len(ys_samples) == n_samples and len(zs_samples) == n_samples)\n",
"hidden": false,
"locked": false
},
{
"code": ">>> assert(np.isclose(np.max(zs_samples), np.max(my_func(xs_grid, ys_grid)), atol=0.1))\n",
"hidden": false,
"locked": false
},
{
"code": ">>> assert(np.all(np.abs(xs_samples - x0) <= 2.0))\n",
"hidden": false,
"locked": false
},
{
"code": ">>> assert(np.all(np.abs(ys_samples - y0) <= 2.0))\n",
"hidden": false,
"locked": false
},
{
"code": ">>> assert(np.isclose(area_box, 4 * 4 * np.max(my_func(xs_grid, ys_grid)), atol=0.1))\n",
"hidden": false,
"locked": false
}
],
"scored": true,
"setup": "",
"teardown": "",
"type": "doctest"
}
]
}
}
}
},
"nbformat": 4,
"nbformat_minor": 2
}