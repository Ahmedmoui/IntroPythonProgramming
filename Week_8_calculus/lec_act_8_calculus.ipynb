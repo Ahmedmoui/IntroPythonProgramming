{
"cells": [
{
"cell_type": "code",
"execution_count": null,
"metadata": {
"deletable": false,
"editable": false
},
"outputs": [],
"source": [
"# Initialize Otter\n",
"import otter\n",
"grader = otter.Notebook(\"lec_act_8_calculus.ipynb\")"
]
},
{
"cell_type": "markdown",
"metadata": {},
"source": [
"# Lecture activity: calculus \n",
"\n",
"Practice calculus with this function:\n",
"\n",
"f(x) = (3/x) ln(x) - x^2 / 10.0 - x / 3.0 + (x-3) * x * x"
]
},
{
"cell_type": "markdown",
"metadata": {
"deletable": false,
"editable": false
},
"source": [
"# Create the function\n",
"\n",
"Write the Python function for the above equation"
]
},
{
"cell_type": "code",
"execution_count": null,
"metadata": {
"tags": []
},
"outputs": [],
"source": [
"# Do the imports"
]
},
{
"cell_type": "code",
"execution_count": null,
"metadata": {
"tags": []
},
"outputs": [],
"source": [
"# Use my_func for the name of the Python function"
]
},
{
"cell_type": "code",
"execution_count": null,
"metadata": {
"tags": []
},
"outputs": [],
"source": [
"print(f\"Func at 1.0 is {my_func(1.0)}, expected -2.433333\")\n",
"print(f\"Func at 2.0 is {my_func(2.0)}, expected -4.02694589\")"
]
},
{
"cell_type": "code",
"execution_count": null,
"metadata": {
"deletable": false,
"editable": false
},
"outputs": [],
"source": [
"grader.check(\"create_func\")"
]
},
{
"cell_type": "markdown",
"metadata": {
"deletable": false,
"editable": false
},
"source": [
"# Plot the function, along with the bounds and an x at minima and maxima\n",
"\n",
"Use 0.5 and 3.0 as the integration bounds"
]
},
{
"cell_type": "code",
"execution_count": null,
"metadata": {
"tags": []
},
"outputs": [],
"source": [
"# Integration limits\n",
"a = 0.5\n",
"b = 3.0"
]
},
{
"cell_type": "code",
"execution_count": null,
"metadata": {
"tags": []
},
"outputs": [],
"source": [
"# Find the x locations of the two bends\n",
"#\n",
"first_max = ...\n",
"first_min = ...\n",
"# END PROMPT \"\"\"\n",
"\n",
"print(f\"Max {first_max}, expected 0.94813, Min {first_min}, expected 2.091114\")"
]
},
{
"cell_type": "code",
"execution_count": null,
"metadata": {
"tags": []
},
"outputs": [],
"source": [
"..."
]
},
{
"cell_type": "code",
"execution_count": null,
"metadata": {
"deletable": false,
"editable": false
},
"outputs": [],
"source": [
"grader.check(\"plot_fn\")"
]
},
{
"cell_type": "markdown",
"metadata": {
"deletable": false,
"editable": false
},
"source": [
"# Derivative\n",
"TODO Numerically alculate the derivatives at the first_max/first_min points (what should the derivative be?)\n",
"\n",
"Pick a reasonable **h** for the derivative calculation. You can do forward, backward, or central"
]
},
{
"cell_type": "code",
"execution_count": null,
"metadata": {
"tags": []
},
"outputs": [],
"source": [
"deriv_max = ...\n",
"deriv_min = ...\n",
"# END PROMPT\"\"\""
]
},
{
"cell_type": "code",
"execution_count": null,
"metadata": {
"deletable": false,
"editable": false
},
"outputs": [],
"source": [
"grader.check(\"derivative\")"
]
},
{
"cell_type": "markdown",
"metadata": {
"deletable": false,
"editable": false
},
"source": [
"# Integration\n",
"\n",
"TODO Calculate the area under the curve using trapz or quad, whichever you perfer."
]
},
{
"cell_type": "code",
"execution_count": null,
"metadata": {
"tags": []
},
"outputs": [],
"source": [
"...\n",
"\n",
"area_under_curve = ...\n",
"# END PROMPT\"\"\""
]
},
{
"cell_type": "code",
"execution_count": null,
"metadata": {
"deletable": false,
"editable": false
},
"outputs": [],
"source": [
"grader.check(\"area\")"
]
},
{
"cell_type": "markdown",
"metadata": {
"deletable": false,
"editable": false
},
"source": [
"## Hours and collaborators\n",
"Required for every assignment - fill out before you hand-in.\n",
"\n",
"Listing names and websites helps you to document who you worked with and what internet help you received in the case of any plagiarism issues. You should list names of anyone (in class or not) who has substantially helped you with an assignment - or anyone you have *helped*. You do not need to list TAs.\n",
"\n",
"Listing hours helps us track if the assignments are too long."
]
},
{
"cell_type": "code",
"execution_count": null,
"metadata": {
"tags": []
},
"outputs": [],
"source": [
"\n",
"# List of names (creates a set)\n",
"worked_with_names = {\"not filled out\"}\n",
"# List of URLS (creates a set)\n",
"websites = {\"not filled out\"}\n",
"# Approximate number of hours, including lab/in-class time\n",
"hours = -1.5\n",
"\n",
"# for all row, column in all_indices_from_where\n",
"#.   if this is the column for wrist torque \n",
"#.      print(f\"Row: {r}, Time step: {c // n_time_steps} Successful y/n: {pick_data[r, -1] == 1}, value: {pick_data[r, c]}\")"
]
},
{
"cell_type": "code",
"execution_count": null,
"metadata": {
"deletable": false,
"editable": false
},
"outputs": [],
"source": [
"grader.check(\"hours_collaborators\")"
]
},
{
"cell_type": "markdown",
"metadata": {
"deletable": false,
"editable": false
},
"source": [
"## Submission\n",
"\n",
"Make sure you have run all cells in your notebook in order before running the cell below, so that all images/graphs appear in the output. The cell below will generate a zip file for you to submit. **Please save before exporting!**\n",
"\n",
"Submit through gradescope, Lecture activity 8, Calculus"
]
},
{
"cell_type": "code",
"execution_count": null,
"metadata": {
"deletable": false,
"editable": false
},
"outputs": [],
"source": [
"# Save your notebook first, then run this cell to export your submission.\n",
"grader.export(run_tests=True)"
]
},
{
"cell_type": "markdown",
"metadata": {},
"source": [
" "
]
}
],
"metadata": {
"kernelspec": {
"display_name": "Python 3",
"language": "python",
"name": "python3"
},
"language_info": {
"codemirror_mode": {
"name": "ipython",
"version": 3
},
"file_extension": ".py",
"mimetype": "text/x-python",
"name": "python",
"nbconvert_exporter": "python",
"pygments_lexer": "ipython3",
"version": "3.7.4"
},
"otter": {
"OK_FORMAT": true,
"tests": {
"area": {
"name": "area",
"points": 1,
"suites": [
{
"cases": [
{
"code": ">>> assert(np.isclose(area_under_curve[0], -7.90504, atol=0.001))\n",
"hidden": false,
"locked": false
}
],
"scored": true,
"setup": "",
"teardown": "",
"type": "doctest"
}
]
},
"create_func": {
"name": "create_func",
"points": 1,
"suites": [
{
"cases": [
{
"code": ">>> assert(np.isclose(my_func(1.0), -2.433333, atol=0.001))\n",
"hidden": false,
"locked": false
},
{
"code": ">>> assert(np.isclose(my_func(2.0), -4.02694589, atol=0.001))\n",
"hidden": false,
"locked": false
}
],
"scored": true,
"setup": "",
"teardown": "",
"type": "doctest"
}
]
},
"derivative": {
"name": "derivative",
"points": 1,
"suites": [
{
"cases": [
{
"code": ">>> assert(np.isclose(deriv_max, 0.0, atol=0.0001))\n",
"hidden": false,
"locked": false
},
{
"code": ">>> assert(np.isclose(deriv_min, 0.0, atol=0.0001))\n",
"hidden": false,
"locked": false
},
{
"code": ">>> assert(deriv_min is not 0.0)\n",
"hidden": false,
"locked": false
},
{
"code": ">>> assert(deriv_max is not 0.0)\n",
"hidden": false,
"locked": false
}
],
"scored": true,
"setup": "",
"teardown": "",
"type": "doctest"
}
]
},
"hours_collaborators": {
"name": "hours_collaborators",
"points": 1,
"suites": [
{
"cases": [
{
"code": ">>> assert(not \"not filled out\" in worked_with_names)\n",
"hidden": false,
"locked": false
},
{
"code": ">>> assert(not \"not filled out\" in websites)\n",
"hidden": false,
"locked": false
},
{
"code": ">>> assert(hours > 0)\n",
"hidden": false,
"locked": false
}
],
"scored": true,
"setup": "",
"teardown": "",
"type": "doctest"
}
]
},
"plot_fn": {
"name": "plot_fn",
"points": 1,
"suites": [
{
"cases": [
{
"code": ">>> assert(np.isclose(first_max, 0.94813, atol=0.1))\n",
"hidden": false,
"locked": false
},
{
"code": ">>> assert(np.isclose(first_min, 2.091114, atol=0.1))\n",
"hidden": false,
"locked": false
}
],
"scored": true,
"setup": "",
"teardown": "",
"type": "doctest"
}
]
}
}
}
},
"nbformat": 4,
"nbformat_minor": 2
}