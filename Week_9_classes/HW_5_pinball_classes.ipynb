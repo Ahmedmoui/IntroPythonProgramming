{
"cells": [
{
"cell_type": "code",
"execution_count": null,
"metadata": {
"deletable": false,
"editable": false
},
"outputs": [],
"source": [
"# Initialize Otter\n",
"import otter\n",
"grader = otter.Notebook(\"HW_5_pinball_classes.ipynb\")"
]
},
{
"cell_type": "markdown",
"metadata": {},
"source": [
"# Pinball Classs \n",
"\n",
"One more class - the pinball class that does the simulation\n",
"\n",
"In this homework you'll take the classes you created in the lecture activity and lab (**PinballWall** and **PinballBumper**) and use them in a class that wraps up the entire simulation (**Pinball**)\n",
"\n",
"Slides: https://docs.google.com/presentation/d/1DCSykIMBSlzCNNnmUcxPqfGxJmeGYd-7LF_W_-_7fUU/edit?usp=sharing"
]
},
{
"cell_type": "code",
"execution_count": null,
"metadata": {},
"outputs": [],
"source": [
"# The usual imports\n",
"import numpy as np\n",
"import json as json"
]
},
{
"cell_type": "code",
"execution_count": null,
"metadata": {},
"outputs": [],
"source": [
"# These commands will force JN to actually re-load the external file when you re-execute the import command\n",
"%load_ext autoreload\n",
"%autoreload 2"
]
},
{
"cell_type": "markdown",
"metadata": {},
"source": [
"# Import PinballWall and PinballBumper and make sure they work\n",
"\n",
"TODO import the class definitions and run the test cases for each of those classes"
]
},
{
"cell_type": "code",
"execution_count": null,
"metadata": {
"tags": []
},
"outputs": [],
"source": []
},
{
"cell_type": "code",
"execution_count": null,
"metadata": {
"tags": []
},
"outputs": [],
"source": [
"# Assumes you copied your wall class into lec_act_9_class_pinball_wall.py\n",
"from lec_act_9_class_pinball_wall import PinballWall\n",
"from Lab_9_class_pinball_bumper import PinballBumper"
]
},
{
"cell_type": "code",
"execution_count": null,
"metadata": {
"tags": []
},
"outputs": [],
"source": [
"# TODO: Create at least one instance of each class and run their test functions to make sure they work\n",
"#. (you're free to create more than one, but at least create one wall and one bumper with the given names)\n",
"\n",
"check_wall_instance = ...\n",
"check_bumper_instance = ...\n",
"\"\"\""
]
},
{
"cell_type": "code",
"execution_count": null,
"metadata": {
"deletable": false,
"editable": false
},
"outputs": [],
"source": [
"grader.check(\"wall_and_bumper\")"
]
},
{
"cell_type": "markdown",
"metadata": {},
"source": [
"# Pinball class\n",
"\n",
"TODO this question: Copy your **compute_next_step** code into the method, and check that it works"
]
},
{
"cell_type": "code",
"execution_count": null,
"metadata": {
"tags": []
},
"outputs": [],
"source": [
"class Pinball:\n",
"    \"\"\" Walls and bumpers for a rather boring pinball game\"\"\"\n",
"    def __init__(self, left, right, height, delta_t=0.01):\n",
"        \"\"\" Just set size of pinball box - assumes floor is y = 0\n",
"        Note: We'll add the walls and bumpers later - but we're going to create the variables we need here\n",
"        (It's very bad form to add new variables later) \"\"\"\n",
"        self.left = left\n",
"        self.right = right\n",
"        self.height = height\n",
"\n",
"        # What delta t to use\n",
"        self.delta_t = delta_t\n",
"\n",
"        # If you're doing drag...\n",
"        self.do_drag = False\n",
"\n",
"        # We're going to add any walls/bumpers here\n",
"        self.obstacles = []\n",
"\n",
"        # For storing the path\n",
"        self.poses = None\n",
"        self.velocities = None\n",
"\n",
"    @staticmethod\n",
"    def acceleration_due_to_gravity():\n",
"        \"\"\"Somewhat silly - but if we need to change it, then we can  change it just here\n",
"        Note the static method tag - this says we don't need a self pointer\"\"\"\n",
"        gravity = -9.8     # m/s\n",
"        return gravity\n",
"\n",
"    def add_obstacle(self, obstacle):\n",
"        \"\"\" Add in a bumper or wall\n",
"        @param obstacle - an instance of a bumper or a wall\"\"\"\n",
"        # Putting this as a separate method because it works better to make and add then try to pass everything\n",
"        #  into the init function. More sophisticated versions would also allow removing/changing obstacles\n",
"        self.obstacles.append(obstacle)\n",
"\n",
"    def _compute_next_step(self, current_state):\n",
"        \"\"\" How to compute the next position and velocity from this one\n",
"        Note that I'm passing in current state and returning next here, rather than storing and updating an internal\n",
"        variable. This makes it clearer what the method does\n",
"        The _ in front of the method signals to someone using this class that this method is \"private\" and probably\n",
"        shouldn't be called\n",
"        @param current_state - the pose (x, y) and velocity (vx, vy) and acceleration (ax, ay) as a numpy array\n",
"        @return the new position, velocity as a tuple\"\"\"\n",
"\n",
"        # TODO: Copy in your compute next step from pinball_routines. The only thing you should have to change is that\n",
"        #  you're now going to get delta t from self instead of passing it in\n",
"        result = np.zeros(current_state.shape)\n",
"        ...\n",
"\n",
"        return result\n",
"\n",
"    def simulate_pinball(self, starting_state):\n",
"        \"\"\" Call compute one time step multiple times and store it in a numpy array\n",
"        This should be your simulate code, again with delta_t and do_drag replaced with self.delta_t, as well\n",
"        as compute_next_step\n",
"        @param starting_state - the starting position, velocity, acceleration\n",
"        @return position & velocity values as two 2xtimesteps numpy array\n",
"        \"\"\"\n",
"\n",
"        # TODO - put your simulate function here. Only pass in the starting state - the remainder of the\n",
"        #  data you use to pass in should be in the self. pointer\n",
"\n",
"        # The returned array.We do not know the size, so do not pre-allocate\n",
"        self.poses = []\n",
"        self.velocities = []\n",
"\n",
"        # Use a while loop instead of the for loop\n",
"        # Set the stopping criteria based on current state y value\n",
"        # We know the first pose is the initial one\n",
"        # Notice that the poses are being stored in the self variable\n",
"        # Use this code to do the inside/outside & reflect for each wall\n",
"            # This should work, and will replace your if/then code for walls and bumpers, if your classes are\n",
"            #   implemented correctly\n",
"            # for o in self.obstacles:\n",
"            #     if o.outside(current_state[0, :]):\n",
"            #         pt_back, vel_back = o.reflect(current_state[0, :], current_state[1, :])\n",
"            #         current_state[0, :] = np.array(pt_back).transpose()\n",
"            #         current_state[1, :] = np.array(vel_back).transpose()\n",
"\n",
"        ...\n",
"        # It's ok to return the self results\n",
"        return self.poses, self.velocities\n",
"\n",
"    def plot_pinball_hw(self):\n",
"        \"\"\" plot the results of running the system AND the \"correct\" closed form result\n",
"        Note that everything we need is already in the class\n",
"        \"\"\"\n",
"        nrows = 1\n",
"        ncols = 1\n",
"        fig, axs = plt.subplots(nrows, ncols, figsize=(4, 4))\n",
"\n",
"        # The values we calculated in calculate_n_time_steps\n",
"        axs.plot([self.left, self.right], [self.height, self.height], color='gray', linestyle='dotted')\n",
"        axs.plot([self.left, self.right], [0, 0], color='gray', linestyle='dotted')\n",
"        axs.plot([self.left, self.left], [0, self.height], color='gray', linestyle='dotted')\n",
"        axs.plot([self.right, self.right], [0, self.height], color='gray', linestyle='dotted')\n",
"\n",
"        # Again, this should work if your wall and bumper plots are correct\n",
"        for o in self.obstacles:\n",
"            o.plot(axs, self.left, self.right, self.height)\n",
"\n",
"        axs.plot(self.poses[0, 0], self.poses[1, 0], 'xr', label=\"Start\")\n",
"        axs.plot(self.poses[0, :], self.poses[1, :], '.-k', label=\"Poses\")\n",
"\n",
"        axs.axis('equal')\n",
"        axs.set_title(f\"Not so boring pinball, 0-{self.delta_t * self.poses.shape[0]} s\")\n"
]
},
{
"cell_type": "code",
"execution_count": null,
"metadata": {
"tags": []
},
"outputs": [],
"source": [
"# TODO Create the pinball class\n",
"#   Use: left -5.0, right 5.0, height 10.0, delta_t 0.1\n",
"\n",
"pinball = ...\n",
"# END PROMPT\"\"\""
]
},
{
"cell_type": "code",
"execution_count": null,
"metadata": {
"tags": []
},
"outputs": [],
"source": [
"# Check one step with the following start parameters\n",
"starting_state = np.zeros([3, 2])  # meters\n",
"starting_state[0, :] = [0, 0] # Start at zero, zero\n",
"# Velocity - mostly up with a bit of x\n",
"starting_state[1, :] = [-0.25, 5.0]\n",
"# Acceleration is really boring\n",
"starting_state[2, :] = [0.0, Pinball.acceleration_due_to_gravity()]\n",
"\n",
"# TODO: Check first time step works\n",
"first_time_step = ...\n",
"print(f\"Checking first time step {first_time_step}\")\n",
"\"\"\"\n",
"\n",
"# Notice my_pinball.delta_t - this is the delta t that you save and store in the pinball class\n",
"assert(np.all(np.isclose(first_time_step[0, :], starting_state[0, :] + my_pinball.delta_t * starting_state[1, :])))\n",
"assert(np.all(np.isclose(first_time_step[1, :], starting_state[1, :] + my_pinball.delta_t * starting_state[2, :])))"
]
},
{
"cell_type": "code",
"execution_count": null,
"metadata": {
"deletable": false,
"editable": false
},
"outputs": [],
"source": [
"grader.check(\"pinball_class\")"
]
},
{
"cell_type": "markdown",
"metadata": {},
"source": [
"# Simulate pinball method\n",
"\n",
"TODO: Copy your simulate code into the **simulate_pinball** method in the class\n",
"- step 1: leave out the walls and the bumpers and check that you still stop correctly and simulate the poses correctly\n",
"- step 2: Use the code given in the todo section to add in looping over all of the obstacles, calling the **inside** method followed by the **reflect** method\n",
"- step 3: Check that calling simulate_pinball still works\n",
"- step 4: Add in a wall and make the ball bounce off of the wall\n",
"- step 5: Repeat for other walls and bumpers\n",
"\n",
"Note: The plot code should work"
]
},
{
"cell_type": "code",
"execution_count": null,
"metadata": {
"tags": []
},
"outputs": [],
"source": [
"# TODO Now create and add any obstacles\n",
"# Required: Side walls at -4.5, 4.5 and top at 9.5\n",
"# Required: At least one bumper\n",
"\n",
"\n",
"# This creates an instance of a wall and adds it to the pinball\n",
"my_wall = PinballWall(\"Vertial\", -4.5)\n",
"pinball.add_obstacle(my_wall)\n",
"# END PROMPT\"\"\""
]
},
{
"cell_type": "code",
"execution_count": null,
"metadata": {
"tags": []
},
"outputs": [],
"source": [
"# Now run a simulation\n",
"#  setup\n",
"starting_state = np.zeros([3, 2])  # location, velocity, acceleration\n",
"starting_state[0, :] = [0, 0] # Start at zero, zero\n",
"# Velocity - mostly up with a bit of x noise\n",
"starting_state[1, :] = [2.4, 8.5]\n",
"starting_state[2, :] = [0.0, pinball.acceleration_due_to_gravity()]\n",
"\n",
"# TODO: Run the simulation\n",
"...\n"
]
},
{
"cell_type": "code",
"execution_count": null,
"metadata": {
"tags": []
},
"outputs": [],
"source": [
"# ... and plot the results\n",
"pinball.plot_pinball_hw()"
]
},
{
"cell_type": "code",
"execution_count": null,
"metadata": {
"deletable": false,
"editable": false
},
"outputs": [],
"source": [
"grader.check(\"add_simulation\")"
]
},
{
"cell_type": "markdown",
"metadata": {},
"source": [
"# Question 4 instructions\n"
]
},
{
"cell_type": "code",
"execution_count": null,
"metadata": {
"tags": []
},
"outputs": [],
"source": [
"# code question 3"
]
},
{
"cell_type": "code",
"execution_count": null,
"metadata": {
"deletable": false,
"editable": false
},
"outputs": [],
"source": [
"grader.check(\"Question 3\")"
]
},
{
"cell_type": "markdown",
"metadata": {},
"source": [
"# Question 5 instructions\n"
]
},
{
"cell_type": "code",
"execution_count": null,
"metadata": {
"tags": []
},
"outputs": [],
"source": [
"# code question 3"
]
},
{
"cell_type": "code",
"execution_count": null,
"metadata": {
"deletable": false,
"editable": false
},
"outputs": [],
"source": [
"grader.check(\"Question 3\")"
]
},
{
"cell_type": "markdown",
"metadata": {},
"source": [
"# Question 6 instructions\n"
]
},
{
"cell_type": "code",
"execution_count": null,
"metadata": {
"tags": []
},
"outputs": [],
"source": [
"# code question 3"
]
},
{
"cell_type": "code",
"execution_count": null,
"metadata": {
"deletable": false,
"editable": false
},
"outputs": [],
"source": [
"grader.check(\"Question 3\")"
]
},
{
"cell_type": "markdown",
"metadata": {},
"source": [
"## Hours and collaborators\n",
"Required for every assignment - fill out before you hand-in.\n",
"\n",
"Listing names and websites helps you to document who you worked with and what internet help you received in the case of any plagiarism issues. You should list names of anyone (in class or not) who has substantially helped you with an assignment - or anyone you have *helped*. You do not need to list TAs.\n",
"\n",
"Listing hours helps us track if the assignments are too long."
]
},
{
"cell_type": "code",
"execution_count": null,
"metadata": {
"tags": []
},
"outputs": [],
"source": [
"\n",
"# List of names (creates a set)\n",
"worked_with_names = {\"not filled out\"}\n",
"# List of URLS (creates a set)\n",
"websites = {\"not filled out\"}\n",
"# Approximate number of hours, including lab/in-class time\n",
"hours = -1.5\n",
"\n",
"# for all row, column in all_indices_from_where\n",
"#.   if this is the column for wrist torque \n",
"#.      print(f\"Row: {r}, Time step: {c // n_time_steps} Successful y/n: {pick_data[r, -1] == 1}, value: {pick_data[r, c]}\")"
]
},
{
"cell_type": "code",
"execution_count": null,
"metadata": {
"deletable": false,
"editable": false
},
"outputs": [],
"source": [
"grader.check(\"hours_collaborators\")"
]
},
{
"cell_type": "markdown",
"metadata": {
"deletable": false,
"editable": false
},
"source": [
"## Submission\n",
"\n",
"Make sure you have run all cells in your notebook in order before running the cell below, so that all images/graphs appear in the output. The cell below will generate a zip file for you to submit. **Please save before exporting!**\n",
"\n",
"Submit through gradescope, hwk 5 pinball classes"
]
},
{
"cell_type": "code",
"execution_count": null,
"metadata": {
"deletable": false,
"editable": false
},
"outputs": [],
"source": [
"# Save your notebook first, then run this cell to export your submission.\n",
"grader.export(run_tests=True)"
]
},
{
"cell_type": "markdown",
"metadata": {},
"source": [
" "
]
}
],
"metadata": {
"kernelspec": {
"display_name": "Python 3",
"language": "python",
"name": "python3"
},
"language_info": {
"codemirror_mode": {
"name": "ipython",
"version": 3
},
"file_extension": ".py",
"mimetype": "text/x-python",
"name": "python",
"nbconvert_exporter": "python",
"pygments_lexer": "ipython3",
"version": "3.7.3"
},
"otter": {
"OK_FORMAT": true,
"tests": {
"Question 3": {
"name": "Question 3",
"points": 2,
"suites": [
{
"cases": [
{
"code": ">>> # Code test 3\n",
"hidden": false,
"locked": false
},
{
"code": ">>> # Code test 3\n",
"hidden": false,
"locked": false
},
{
"code": ">>> # Code test 3\n",
"hidden": false,
"locked": false
}
],
"scored": true,
"setup": "",
"teardown": "",
"type": "doctest"
}
]
},
"add_simulation": {
"name": "add_simulation",
"points": 10,
"suites": [
{
"cases": [
{
"code": ">>> # Code test 3\n",
"hidden": false,
"locked": false
}
],
"scored": true,
"setup": "",
"teardown": "",
"type": "doctest"
}
]
},
"hours_collaborators": {
"name": "hours_collaborators",
"points": 1,
"suites": [
{
"cases": [
{
"code": ">>> assert(not \"not filled out\" in worked_with_names)\n",
"hidden": false,
"locked": false
},
{
"code": ">>> assert(not \"not filled out\" in websites)\n",
"hidden": false,
"locked": false
},
{
"code": ">>> assert(hours > 0)\n",
"hidden": false,
"locked": false
}
],
"scored": true,
"setup": "",
"teardown": "",
"type": "doctest"
}
]
},
"pinball_class": {
"name": "pinball_class",
"points": 5,
"suites": [
{
"cases": [
{
"code": ">>> assert(np.all(np.isclose(first_time_step[0, :], starting_state[0, :] + my_pinball.delta_t * starting_state[1, :])))\n",
"hidden": false,
"locked": false
},
{
"code": ">>> assert(np.all(np.isclose(first_time_step[1, :], starting_state[1, :] + my_pinball.delta_t * starting_state[2, :])))\n",
"hidden": false,
"locked": false
}
],
"scored": true,
"setup": "",
"teardown": "",
"type": "doctest"
}
]
},
"wall_and_bumper": {
"name": "wall_and_bumper",
"points": 5,
"suites": [
{
"cases": [
{
"code": ">>> assert(check_wall_instance.inside([0.0, 0.0]))\n",
"hidden": false,
"locked": false
},
{
"code": ">>> assert(not check_bumper_instance.inside([-100, -100]))\n",
"hidden": false,
"locked": false
}
],
"scored": true,
"setup": "",
"teardown": "",
"type": "doctest"
}
]
}
}
}
},
"nbformat": 4,
"nbformat_minor": 2
}