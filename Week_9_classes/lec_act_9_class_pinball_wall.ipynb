{
"cells": [
{
"cell_type": "code",
"execution_count": null,
"metadata": {
"deletable": false,
"editable": false
},
"outputs": [],
"source": [
"# Initialize Otter\n",
"import otter\n",
"grader = otter.Notebook(\"lec_act_9_class_pinball_wall.ipynb\")"
]
},
{
"cell_type": "markdown",
"metadata": {},
"source": [
"# Creating classes Example (walls) \n",
"\n",
"Extend the wall class from the tutorial to do two new things\n",
"- Reflect off of the wall [vertical/horizontal, general is optional]\n",
"- Plot self\n",
"\n",
"Notice the method names are **inside** and **reflect** - we'll see why when you do the homework"
]
},
{
"cell_type": "code",
"execution_count": null,
"metadata": {},
"outputs": [],
"source": [
"# Doing the imports for you\n",
"import numpy as np\n",
"import matplotlib.pyplot as plt"
]
},
{
"cell_type": "code",
"execution_count": null,
"metadata": {},
"outputs": [],
"source": [
"# These commands will force JN to actually re-load the external file when you re-execute the import command\n",
"%load_ext autoreload\n",
"%autoreload 2"
]
},
{
"cell_type": "markdown",
"metadata": {},
"source": [
"# Add reflect to wall code\n",
"\n",
"I've copied over the class code from the tutorial. In this problem, fill in **reflect**.\n",
"\n",
"You're welcome to create more class variables in the init function or add more methods\n",
"\n",
"TODO: \n",
"- reflect (this question)\n",
"- test_reflect (next question)\n",
"- plot (last question - optional, but you'll need it for the homework"
]
},
{
"cell_type": "code",
"execution_count": null,
"metadata": {
"tags": []
},
"outputs": [],
"source": []
},
{
"cell_type": "code",
"execution_count": null,
"metadata": {
"tags": []
},
"outputs": [],
"source": [
"class PinballWall:\n",
"    def __init__(self, wall_type=\"Vertical\", intercept_value=None, a_b_c=None):\n",
"        \"\"\"Create a horizontal, vertical, or general half-plane wall\n",
"         if vertical/horizontal, use intercept value\n",
"         if general, use a_b_c\n",
"        @param wall_type - Vertical, Horizontal or General (ax + by + c = 0)\n",
"        @param intercept_value - number, where to place the wall on the x or y axis (Vertical or Horizontal)\n",
"        @param a_b_c - for General wall, list of 3 values\"\"\"\n",
"\n",
"        # Save what kind of wall it is, then save as a general ax + by + c equation\n",
"        # What this does:\n",
"        #  - checks that the input is at least somewhat correct - eg, if they asked for a vertical wall they\n",
"        #    need to specify the intercept value\n",
"        # Lets the user \"special case\" a vertical or horizontal wall, rather than having to convert to the\n",
"        #   ax + by + c format\n",
"        if wall_type == \"Vertical\":\n",
"            self.wall_type = \"Vertical\"\n",
"            if intercept_value is None:\n",
"                raise ValueError(\"If vertical wall, need to specify intercept value\")\n",
"            if intercept_value > 0:\n",
"                self.abc = [1.0, 0.0, -intercept_value]\n",
"            else:\n",
"                self.abc = [-1.0, 0.0, intercept_value]\n",
"        elif wall_type == \"Horizontal\":\n",
"            self.wall_type = \"Horizontal\"\n",
"            if intercept_value is None:\n",
"                raise ValueError(\"If horizontal wall, need to specify intercept value\")\n",
"            if intercept_value > 0:\n",
"                self.abc = [0.0, 1.0, -intercept_value]\n",
"            else:\n",
"                self.abc = [0.0, -1.0, intercept_value]\n",
"        elif wall_type == \"General\":\n",
"            self.wall_type = \"General\"\n",
"            if a_b_c is None:\n",
"                raise ValueError(\"If general wall, need to specify a, b, and c a_b_c\")\n",
"            if a_b_c[0] * 0 + a_b_c[1] * 0 + a_b_c[2] < 0:\n",
"                self.abc = [a_b_c[0], a_b_c[1], a_b_c[2]]\n",
"            else:\n",
"                self.abc = [-a_b_c[0], -a_b_c[1], -a_b_c[2]]\n",
"        else:\n",
"            raise ValueError(\"Wall type is not one of Vertical, Horizontal, or General\")\n",
"\n",
"    def evaluate_halfplane(self, x_y):\n",
"        \"\"\" Evaluate ax + by + c\n",
"        @param x_y numpy array/tuple for the current location\n",
"        @return ax + by + c\"\"\"\n",
"        # self is the same self we set in the __init__ function\n",
"        return self.abc[0] * x_y[0] + self.abc[1] * x_y[1] + self.abc[2]\n",
"\n",
"    def outside(self, x_y):\n",
"        \"\"\" Is the point outside of this half/plane representing the wall?\n",
"        @param x_y numpy array/tuple for the current location\n",
"        @return True or False\"\"\"\n",
"        # We can call any of the methods defined in the class\n",
"        return self.evaluate_halfplane(x_y) >= 0.0\n",
"\n",
"    def inside(self, x_y):\n",
"        \"\"\" We can call class methods from within class methods\n",
"        @param x_y numpy array/tuple for the current location\n",
"        @return True or False\"\"\"\n",
"        return not self.outside(x_y)\n",
"\n",
"    def reflect(self, x_y, vx_vy):\n",
"        \"\"\" Reflect off of the wall\n",
"        @param x_y - the point\n",
"        @param vx_vy - the current velocity\n",
"        @return pt, vec - reflected point and vector\"\"\"\n",
"        # TODO - put your wall reflection code here\n",
"        #  Remember that you have what type of wall (vertical/horizontal) stored\n",
"        #  This should just be moving the code you did last week into this method\n",
"        #    pinball_routines inside/outside\n",
"        ...\n",
"        # TODO: Fix this...\n",
"        return x_y, vx_vy\n",
"\n",
"    def __str__(self):\n",
"        \"\"\"\n",
"        The string representation of this class.\n",
"        :return: a string\n",
"        \"\"\"\n",
"        # f\"\" creates a string; in this case, instead of printing it, just return it\n",
"        return f\"{self.abc[0]:0.3f}x + {self.abc[1]:0.3f}y + {self.abc[2]:0.3f}\"\n",
"\n",
"    def test_on_wall(self, x_y):\n",
"        \"\"\" Pass in a point that should be on the wall; should return 0\n",
"         @param x_y - xy point\n",
"         @preturn True or False\"\"\"\n",
"        return np.isclose(self.evaluate_halfplane(x_y), 0.0)\n",
"\n",
"    def test_origin_inside(self):\n",
"        \"\"\" Test that we correctly oriented the wall so that (0,0) is inside\"\"\"\n",
"        # Notice call to self\n",
"        assert(self.inside([0, 0]))\n",
"        return True\n",
"\n",
"    def test_reflect(self):\n",
"        \"\"\" Put any tests for reflection here\n",
"        @return True if they all pass\"\"\"\n",
"        print(\"Testing reflection by...\")\n",
"        ...\n",
"        return False\n",
"\n",
"    def plot(self, axs, left, right, height):\n",
"        \"\"\" Plot the wall inside the box defined by left, right, 0-height\n",
"        @param axs - the plot axes\n",
"        @param left left side of box\n",
"        @param right right side of box\n",
"        @param height height of box\"\"\"\n",
"        # TODO: Add plot code\n",
"        #   Note - you're free to save more information in the class init function to make this easier (eg, the y\n",
"        #    intercept)\n",
"        # Plotting the general wall is optional\n",
"        #   Hint: get x values between the left and right walls, solve for y = (-ax -c)/b and keep only the points\n",
"        #    inside the box\n",
"        print(\"Doing plot...\")\n",
"        ..."
]
},
{
"cell_type": "code",
"execution_count": null,
"metadata": {
"tags": []
},
"outputs": [],
"source": [
"# Create instances and call test functions\n",
"# Now create two instances of the class\n",
"# Notice that we do NOT pass in a self variable\n",
"my_vert_wall = PinballWall(wall_type=\"Vertical\", intercept_value=.2)\n",
"my_horiz_wall = PinballWall(wall_type=\"Horizontal\", intercept_value=.2)\n",
"\n",
"# Print them both - this will call the string function\n",
"print(f\"Vertical wall: {my_vert_wall}\")\n",
"print(f\"Horizontal wall: {my_horiz_wall}\")\n",
"\n",
"# TODO check your reflect function here"
]
},
{
"cell_type": "code",
"execution_count": null,
"metadata": {
"deletable": false,
"editable": false
},
"outputs": [],
"source": [
"grader.check(\"class_defn\")"
]
},
{
"cell_type": "markdown",
"metadata": {},
"source": [
"# Write a test reflect function\n",
"\n",
"TODO: Create some tests in the **test_reflect** method. "
]
},
{
"cell_type": "code",
"execution_count": null,
"metadata": {
"tags": []
},
"outputs": [],
"source": [
"# Call the test function\n",
"assert(my_vert_wall.test_reflect())"
]
},
{
"cell_type": "code",
"execution_count": null,
"metadata": {
"deletable": false,
"editable": false
},
"outputs": [],
"source": [
"grader.check(\"test_reflect\")"
]
},
{
"cell_type": "markdown",
"metadata": {},
"source": [
"# Fill in the plot function \n",
"\n",
"TODO: Fill in the plot function\n",
"\n",
"This is optional for the lecture activity, but you will need to do it for the homework.\n",
"\n",
"Slanted lines are also optional for the entire assignment"
]
},
{
"cell_type": "code",
"execution_count": null,
"metadata": {
"tags": []
},
"outputs": [],
"source": [
"def plot_check():\n",
"    nrows = 1\n",
"    ncols = 1\n",
"    fig, axs = plt.subplots(nrows, ncols, figsize=(4, 4))\n",
"\n",
"    # The values we calculated in calculate_n_time_steps\n",
"    left = -4.0\n",
"    right = 4.0\n",
"    height = 10.0\n",
"\n",
"    axs.plot([left, right], [height, height], color='grey', linestyle=\"dotted\")\n",
"    axs.plot([left, right], [0, 0], color='grey', linestyle=\"dotted\")\n",
"    axs.plot([left, left], [0, height], color='grey', linestyle=\"dotted\")\n",
"    axs.plot([right, right], [0, height], color='grey', linestyle=\"dotted\")\n",
"\n",
"    walls = []\n",
"    walls.append(PinballWall(\"Vertical\", -3.0))\n",
"    walls.append(PinballWall(\"Vertical\", 3.0))\n",
"    walls.append(PinballWall(\"Horizontal\", 8.0))\n",
"    walls.append(PinballWall(\"General\", a_b_c=[0.5, 0.5, 1.0]))\n",
"    walls.append(PinballWall(\"General\", a_b_c=[-0.5, 0.5, 1.0]))\n",
"    for w in walls:\n",
"        w.plot(axs, left, right, height)\n",
"\n",
"    axs.axis('equal')\n",
"    axs.set_title(f\"Pinball walls\")"
]
},
{
"cell_type": "code",
"execution_count": null,
"metadata": {
"tags": []
},
"outputs": [],
"source": [
"plot_check()"
]
},
{
"cell_type": "code",
"execution_count": null,
"metadata": {
"deletable": false,
"editable": false
},
"outputs": [],
"source": [
"grader.check(\"Plot_wall\")"
]
},
{
"cell_type": "markdown",
"metadata": {},
"source": [
"## Hours and collaborators\n",
"Required for every assignment - fill out before you hand-in.\n",
"\n",
"Listing names and websites helps you to document who you worked with and what internet help you received in the case of any plagiarism issues. You should list names of anyone (in class or not) who has substantially helped you with an assignment - or anyone you have *helped*. You do not need to list TAs.\n",
"\n",
"Listing hours helps us track if the assignments are too long."
]
},
{
"cell_type": "code",
"execution_count": null,
"metadata": {
"tags": []
},
"outputs": [],
"source": [
"\n",
"# List of names (creates a set)\n",
"worked_with_names = {\"not filled out\"}\n",
"# List of URLS (creates a set)\n",
"websites = {\"not filled out\"}\n",
"# Approximate number of hours, including lab/in-class time\n",
"hours = -1.5\n",
"\n",
"# for all row, column in all_indices_from_where\n",
"#.   if this is the column for wrist torque \n",
"#.      print(f\"Row: {r}, Time step: {c // n_time_steps} Successful y/n: {pick_data[r, -1] == 1}, value: {pick_data[r, c]}\")"
]
},
{
"cell_type": "code",
"execution_count": null,
"metadata": {
"deletable": false,
"editable": false
},
"outputs": [],
"source": [
"grader.check(\"hours_collaborators\")"
]
},
{
"cell_type": "markdown",
"metadata": {
"deletable": false,
"editable": false
},
"source": [
"## Submission\n",
"\n",
"Make sure you have run all cells in your notebook in order before running the cell below, so that all images/graphs appear in the output. The cell below will generate a zip file for you to submit. **Please save before exporting!**\n",
"\n",
"Submit through gradescope, week 9 lecture activity"
]
},
{
"cell_type": "code",
"execution_count": null,
"metadata": {
"deletable": false,
"editable": false
},
"outputs": [],
"source": [
"# Save your notebook first, then run this cell to export your submission.\n",
"grader.export(run_tests=True)"
]
},
{
"cell_type": "markdown",
"metadata": {},
"source": [
" "
]
}
],
"metadata": {
"kernelspec": {
"display_name": "Python 3",
"language": "python",
"name": "python3"
},
"language_info": {
"codemirror_mode": {
"name": "ipython",
"version": 3
},
"file_extension": ".py",
"mimetype": "text/x-python",
"name": "python",
"nbconvert_exporter": "python",
"pygments_lexer": "ipython3",
"version": "3.7.3"
},
"otter": {
"OK_FORMAT": true,
"tests": {
"Plot_wall": {
"name": "Plot_wall",
"points": 0,
"suites": [
{
"cases": [
{
"code": ">>> plot_check()\n",
"hidden": false,
"locked": false
}
],
"scored": true,
"setup": "",
"teardown": "",
"type": "doctest"
}
]
},
"class_defn": {
"name": "class_defn",
"points": 2,
"suites": [
{
"cases": [
{
"code": ">>> assert(my_vert_wall.inside(my_vert_wall.reflect([0.25, 0.0], [1, 0])[0]))\n",
"hidden": false,
"locked": false
},
{
"code": ">>> assert(my_vert_wall.reflect([0.25, 0.0], [1, 0])[1][0] < 0)\n",
"hidden": false,
"locked": false
}
],
"scored": true,
"setup": "",
"teardown": "",
"type": "doctest"
}
]
},
"hours_collaborators": {
"name": "hours_collaborators",
"points": 1,
"suites": [
{
"cases": [
{
"code": ">>> assert(not \"not filled out\" in worked_with_names)\n",
"hidden": false,
"locked": false
},
{
"code": ">>> assert(not \"not filled out\" in websites)\n",
"hidden": false,
"locked": false
},
{
"code": ">>> assert(hours > 0)\n",
"hidden": false,
"locked": false
}
],
"scored": true,
"setup": "",
"teardown": "",
"type": "doctest"
}
]
},
"test_reflect": {
"name": "test_reflect",
"points": 2,
"suites": [
{
"cases": [
{
"code": ">>> assert(my_vert_wall.test_reflect())\n",
"hidden": false,
"locked": false
}
],
"scored": true,
"setup": "",
"teardown": "",
"type": "doctest"
}
]
}
}
}
},
"nbformat": 4,
"nbformat_minor": 2
}